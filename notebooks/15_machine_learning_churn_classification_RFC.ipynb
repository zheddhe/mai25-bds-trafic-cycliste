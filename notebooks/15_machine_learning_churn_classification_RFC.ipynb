{
 "cells": [
  {
   "cell_type": "markdown",
   "id": "802dcbf730ae34d",
   "metadata": {},
   "source": [
    "# 1. Initializations"
   ]
  },
  {
   "cell_type": "markdown",
   "id": "e63296014b93644d",
   "metadata": {},
   "source": [
    "## 1.1 General imports"
   ]
  },
  {
   "cell_type": "code",
   "execution_count": null,
   "id": "58063a0827de2a74",
   "metadata": {
    "ExecuteTime": {
     "end_time": "2025-05-23T11:55:24.188195Z",
     "start_time": "2025-05-23T11:55:24.175637Z"
    }
   },
   "outputs": [],
   "source": [
    "### data management\n",
    "import pandas as pd\n",
    "import numpy as np\n",
    "\n",
    "### classification\n",
    "from sklearn.model_selection import train_test_split\n",
    "from sklearn.metrics import confusion_matrix, classification_report\n",
    "from sklearn.ensemble import RandomForestClassifier\n",
    "\n",
    "# ### graphical plotly basics\n",
    "# import matplotlib.pyplot as plt\n",
    "import scikitplot as skplt\n",
    "# import plotly.graph_objects as go\n",
    "# import plotly.express as px\n",
    "# # for jupyter notebook display management\n",
    "# import plotly.io as pio\n",
    "# pio.renderers.default = \"notebook\""
   ]
  },
  {
   "cell_type": "markdown",
   "id": "4cadfd2bea6d187b",
   "metadata": {},
   "source": [
    "## 1.2 General dataframe functions"
   ]
  },
  {
   "cell_type": "code",
   "execution_count": null,
   "id": "f67eae8c340d7f81",
   "metadata": {
    "ExecuteTime": {
     "end_time": "2025-05-23T11:55:24.753624Z",
     "start_time": "2025-05-23T11:55:24.366057Z"
    }
   },
   "outputs": [],
   "source": [
    "import smartcheck.dataframe_common as dfc"
   ]
  },
  {
   "cell_type": "markdown",
   "id": "8f76c75894df8cdd",
   "metadata": {},
   "source": [
    "## 1.3 General classification functions"
   ]
  },
  {
   "cell_type": "code",
   "execution_count": null,
   "id": "6ad184b2476fa792",
   "metadata": {
    "ExecuteTime": {
     "end_time": "2025-05-23T11:55:24.776010Z",
     "start_time": "2025-05-23T11:55:24.772421Z"
    }
   },
   "outputs": [],
   "source": [
    "# None"
   ]
  },
  {
   "cell_type": "markdown",
   "id": "b7b3f8fc02df6bab",
   "metadata": {},
   "source": [
    "# 2. Loading and Data Quality"
   ]
  },
  {
   "cell_type": "markdown",
   "id": "bc35eb2f6f567cf8",
   "metadata": {},
   "source": [
    "## 2.1 Loading of data sets and general exploration"
   ]
  },
  {
   "cell_type": "code",
   "execution_count": null,
   "id": "8d242cf121e65a3f",
   "metadata": {
    "ExecuteTime": {
     "end_time": "2025-05-23T11:55:28.255518Z",
     "start_time": "2025-05-23T11:55:24.787879Z"
    }
   },
   "outputs": [],
   "source": [
    "df_churn_raw = dfc.load_dataset_from_config('churn_data', sep=',')\n",
    "\n",
    "if df_churn_raw is not None and isinstance(df_churn_raw, pd.DataFrame):\n",
    "    display(df_churn_raw.head())\n",
    "    dfc.log_general_info(df_churn_raw)\n",
    "    nb_first, nb_total = dfc.detect_and_log_duplicates_and_missing(df_churn_raw)\n",
    "    if nb_first != nb_total:\n",
    "        print(dfc.duplicates_index_map(df_churn_raw))\n",
    "    df_churn = dfc.normalize_column_names(df_churn_raw)\n",
    "    display(df_churn.head())"
   ]
  },
  {
   "cell_type": "code",
   "execution_count": null,
   "id": "c29fbe51",
   "metadata": {},
   "outputs": [],
   "source": [
    "df_churn_desc = df_churn.select_dtypes(include=np.number).describe()\n",
    "display(df_churn_desc)\n",
    "df_churn_cr = df_churn.select_dtypes(include=np.number).corr()\n",
    "display(df_churn_cr)"
   ]
  },
  {
   "cell_type": "markdown",
   "id": "ab4ec6946215956d",
   "metadata": {},
   "source": [
    "## 2.2 Data quality refinement"
   ]
  },
  {
   "cell_type": "code",
   "execution_count": null,
   "id": "4b99e9beaf4bb2be",
   "metadata": {
    "ExecuteTime": {
     "end_time": "2025-05-23T11:55:35.882270Z",
     "start_time": "2025-05-23T11:55:35.863947Z"
    }
   },
   "outputs": [],
   "source": [
    "# Original backup and dupplicates management\n",
    "df_churn_orig = df_churn.copy()\n",
    "df_churn = df_churn.drop_duplicates()"
   ]
  },
  {
   "cell_type": "code",
   "execution_count": null,
   "id": "54f89ae9",
   "metadata": {},
   "outputs": [],
   "source": [
    "dfc.display_variable_info(df_churn.churn)\n",
    "df_churn.churn = df_churn.churn.apply(lambda x: True if x=='True.' else False).astype(bool)"
   ]
  },
  {
   "cell_type": "code",
   "execution_count": null,
   "id": "0225fc3b",
   "metadata": {},
   "outputs": [],
   "source": [
    "df_churn = df_churn.join(pd.get_dummies(df_churn['int_l_plan'], prefix='international'))\n",
    "df_churn = df_churn.join(pd.get_dummies(df_churn['vmail_plan'], prefix='voicemail'))"
   ]
  },
  {
   "cell_type": "markdown",
   "id": "2b797265284027ac",
   "metadata": {},
   "source": [
    "# 2. Data Classification"
   ]
  },
  {
   "cell_type": "markdown",
   "id": "44a83b55d200cb41",
   "metadata": {},
   "source": [
    "## 2.1 General Analysis variable/target Separation"
   ]
  },
  {
   "cell_type": "code",
   "execution_count": null,
   "id": "67a8d26174ed170c",
   "metadata": {
    "ExecuteTime": {
     "end_time": "2025-05-23T11:55:38.682226Z",
     "start_time": "2025-05-23T11:55:38.459625Z"
    }
   },
   "outputs": [],
   "source": [
    "# Separation des variables explicatives (features) et de la variable à prédire (target)\n",
    "data = df_churn.drop(['int_l_plan', 'vmail_plan', 'state','area_code', 'phone','churn'], axis=1)\n",
    "target = df_churn['churn']"
   ]
  },
  {
   "cell_type": "code",
   "execution_count": null,
   "id": "1e55e897",
   "metadata": {},
   "outputs": [],
   "source": [
    "# Séparation de données d'entrainement et données de test\n",
    "X_train, X_test, y_train, y_test = train_test_split(data, target, test_size=0.2, random_state=12)"
   ]
  },
  {
   "cell_type": "markdown",
   "id": "d0b44282f99ef473",
   "metadata": {},
   "source": [
    "## 2.2 Random Forest Tree\n",
    "- Bagging on Decision Tree with random factor on variables at two levels\n",
    "    - Data selected (rows)\n",
    "    - Variable selected (columns)\n",
    "- reduces variance\n",
    "- efficient with high number of dimensions\n",
    "- robust with outliers\n",
    "- avoid over fitting in general, do not need out of bag scoring"
   ]
  },
  {
   "cell_type": "code",
   "execution_count": null,
   "id": "6e5f7bb7",
   "metadata": {},
   "outputs": [],
   "source": [
    "# Definition et Entrainement du modèle\n",
    "clfRFC = RandomForestClassifier(n_jobs=-1, random_state=321)\n",
    "clfRFC.fit(X_train, y_train)"
   ]
  },
  {
   "cell_type": "code",
   "execution_count": null,
   "id": "ac3f931a",
   "metadata": {},
   "outputs": [],
   "source": [
    "# Prédiction du modèle sur les données de test\n",
    "y_pred = clfRFC.predict(X_test)"
   ]
  },
  {
   "cell_type": "code",
   "execution_count": null,
   "id": "d7ad10ec",
   "metadata": {},
   "outputs": [],
   "source": [
    "# Matrice de confusion et évaluation du modèle\n",
    "cm = confusion_matrix(y_test,y_pred)\n",
    "print(cm)\n",
    "df_cm = pd.crosstab(y_test.to_numpy().ravel(), y_pred, rownames=['real'], colnames=['predicted'])\n",
    "display(df_cm)\n",
    "\n",
    "score = sum(cm[i][i] for i in range(0, cm.shape[0]))/cm.sum()\n",
    "print(\"Score reconstruit manuellement:\",score)\n",
    "print(\"Score calculé par le modèle:\", clfRFC.score(X_test, y_test))\n",
    "print(\"Rapport de classification complet:\\n\", classification_report(y_test, y_pred))"
   ]
  },
  {
   "cell_type": "code",
   "execution_count": null,
   "id": "733f2b35",
   "metadata": {},
   "outputs": [],
   "source": [
    "# [Optionel] Récupération des probabilités (et remaniement des règles d'identification de classe : par défaut la classe prédite est celle avec la proba la plus elevée)\n",
    "y_probs = clfRFC.predict_proba(X_test)\n",
    "print(y_probs)\n",
    "skplt.metrics.plot_cumulative_gain(y_test,y_probs,figsize=(12,8))"
   ]
  }
 ],
 "metadata": {
  "kernelspec": {
   "display_name": "Python 3",
   "language": "python",
   "name": "python3"
  },
  "language_info": {
   "codemirror_mode": {
    "name": "ipython",
    "version": 3
   },
   "file_extension": ".py",
   "mimetype": "text/x-python",
   "name": "python",
   "nbconvert_exporter": "python",
   "pygments_lexer": "ipython3",
   "version": "3.12.9"
  }
 },
 "nbformat": 4,
 "nbformat_minor": 5
}
