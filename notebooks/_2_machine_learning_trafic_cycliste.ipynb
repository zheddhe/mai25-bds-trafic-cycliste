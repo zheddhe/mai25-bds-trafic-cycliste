{
 "cells": [
  {
   "cell_type": "markdown",
   "id": "d73fb7a13ed0fb62",
   "metadata": {},
   "source": [
    "# 1. Initializations"
   ]
  },
  {
   "cell_type": "markdown",
   "id": "3c542ef7e7fc530b",
   "metadata": {},
   "source": [
    "## 1.1 General imports"
   ]
  },
  {
   "cell_type": "code",
   "execution_count": null,
   "id": "92d21014e831ae4d",
   "metadata": {
    "ExecuteTime": {
     "end_time": "2025-05-23T12:10:30.601532Z",
     "start_time": "2025-05-23T12:10:30.598509Z"
    }
   },
   "outputs": [],
   "source": [
    "### Data management\n",
    "import pandas as pd\n",
    "import numpy as np\n",
    "import random\n",
    "\n",
    "### Machine Learning\n",
    "\n",
    "# transformation\n",
    "from sklearn.preprocessing import MinMaxScaler, RobustScaler, StandardScaler\n",
    "\n",
    "# models\n",
    "from sklearn.linear_model import LogisticRegression\n",
    "from sklearn.model_selection import train_test_split\n",
    "from xgboost import XGBClassifier\n",
    "\n",
    "# resampling\n",
    "from imblearn.over_sampling import SMOTE\n",
    "\n",
    "# metrics and evaluation\n",
    "from sklearn.metrics import f1_score, confusion_matrix\n",
    "from scipy.stats import chi2_contingency, probplot\n",
    "from xgboost import plot_importance\n",
    "\n",
    "### Data Viz\n",
    "\n",
    "# graphical basics\n",
    "import matplotlib.pyplot as plt\n",
    "%matplotlib inline\n",
    "\n",
    "# graphical seaborn\n",
    "import seaborn as sns\n",
    "\n",
    "# # graphical plotly\n",
    "# import plotly.graph_objects as go\n",
    "# import plotly.express as px\n",
    "# # for jupyter notebook display management\n",
    "# import plotly.io as pio\n",
    "# pio.renderers.default = \"notebook\"\n"
   ]
  },
  {
   "cell_type": "markdown",
   "id": "3e380e5d201d38b7",
   "metadata": {},
   "source": [
    "## 1.2 General dataframe functions"
   ]
  },
  {
   "cell_type": "code",
   "execution_count": null,
   "id": "2281542f",
   "metadata": {},
   "outputs": [],
   "source": [
    "import smartcheck.dataframe_common as dfc"
   ]
  },
  {
   "cell_type": "markdown",
   "id": "b56c8614",
   "metadata": {},
   "source": [
    "## 1.3 General Classification functions"
   ]
  },
  {
   "cell_type": "code",
   "execution_count": null,
   "id": "2a1a9af3",
   "metadata": {},
   "outputs": [],
   "source": [
    "import smartcheck.classification_common as cls"
   ]
  },
  {
   "cell_type": "markdown",
   "id": "2796587189d32955",
   "metadata": {},
   "source": [
    "# 2. Loading and Data Quality"
   ]
  },
  {
   "cell_type": "markdown",
   "id": "1bf3cc3451038dac",
   "metadata": {},
   "source": [
    "## 2.1 Loading of data sets and general exploration"
   ]
  },
  {
   "cell_type": "markdown",
   "id": "28dea908",
   "metadata": {},
   "source": [
    "### 2.1.1 VELIB DISPO (Optional Dataset)"
   ]
  },
  {
   "cell_type": "markdown",
   "id": "2f48c5a6",
   "metadata": {},
   "source": [
    "#### Loading and column management (columns names normalization)"
   ]
  },
  {
   "cell_type": "code",
   "execution_count": null,
   "id": "23aca70ecd678b88",
   "metadata": {
    "ExecuteTime": {
     "end_time": "2025-05-23T12:10:34.515566Z",
     "start_time": "2025-05-23T12:10:31.485324Z"
    }
   },
   "outputs": [],
   "source": [
    "df_disp_velib_raw = dfc.load_dataset_from_config('velib_dispo_data', sep=';')\n",
    "\n",
    "if df_disp_velib_raw is not None and isinstance(df_disp_velib_raw, pd.DataFrame):\n",
    "    display(df_disp_velib_raw.head())\n",
    "    dfc.log_general_info(df_disp_velib_raw)\n",
    "    nb_first, nb_total = dfc.detect_and_log_duplicates_and_missing(df_disp_velib_raw)\n",
    "    if nb_first != nb_total:\n",
    "        print(dfc.duplicates_index_map(df_disp_velib_raw))\n",
    "    df_disp_velib = dfc.normalize_column_names(df_disp_velib_raw)"
   ]
  },
  {
   "cell_type": "markdown",
   "id": "b0c3f37a",
   "metadata": {},
   "source": [
    "#### Global description and correlation"
   ]
  },
  {
   "cell_type": "code",
   "execution_count": null,
   "id": "74de03f1",
   "metadata": {},
   "outputs": [],
   "source": [
    "df_disp_velib.info()\n",
    "display(df_disp_velib.head())\n",
    "df_cpt_velo_desc = df_disp_velib.select_dtypes(include=np.number).describe()\n",
    "display(df_cpt_velo_desc)\n",
    "df_cpt_velo_cr = df_disp_velib.select_dtypes(include=np.number).corr()\n",
    "display(df_cpt_velo_cr)\n",
    "dfc.display_variable_info(df_disp_velib, 5)"
   ]
  },
  {
   "cell_type": "markdown",
   "id": "22d79a5e",
   "metadata": {},
   "source": [
    "#### Cross Distribution inspection"
   ]
  },
  {
   "cell_type": "code",
   "execution_count": null,
   "id": "994f6a78",
   "metadata": {},
   "outputs": [],
   "source": [
    "# Analyse de la distribution d'une variable spécique en relation avec les autres de son dataframe\n",
    "ref_col = 'station_en_fonctionnement' # ici notre variable cible\n",
    "dfc.analyze_by_reference_variable(df_disp_velib, ref_col)"
   ]
  },
  {
   "cell_type": "code",
   "execution_count": null,
   "id": "d303e19a",
   "metadata": {},
   "outputs": [],
   "source": [
    "# Analyse croisée de la distribution d'une variable spécifique en fonction d'autres variables (quantitatives ou qualitatives) du dataframe\n",
    "ref_col = 'station_en_fonctionnement' # ici notre variable cible\n",
    "cross_columns = [ref_col] + ['borne_de_paiement_disponible', 'retour_velib_possible']\n",
    "dfc.log_cross_distributions(\n",
    "    df_disp_velib[cross_columns], \n",
    "    ref_col\n",
    ")"
   ]
  },
  {
   "cell_type": "code",
   "execution_count": null,
   "id": "4aaa234f",
   "metadata": {},
   "outputs": [],
   "source": [
    "# Analyse croisée d'une variable en fonction d'une autre\n",
    "ref_col = 'borne_de_paiement_disponible'\n",
    "target_col = 'station_en_fonctionnement'\n",
    "display(pd.crosstab(df_disp_velib[ref_col], df_disp_velib[target_col]))"
   ]
  },
  {
   "cell_type": "code",
   "execution_count": null,
   "id": "67d4ee6d",
   "metadata": {},
   "outputs": [],
   "source": [
    "# Analyse croisée des d'une variable en fonction d'une autre (en conservant les NaN)\n",
    "ref_col = 'station_opening_hours'\n",
    "target_col = 'station_en_fonctionnement'\n",
    "ref_cross_tab = pd.crosstab(df_disp_velib[ref_col], df_disp_velib[target_col], dropna=False, normalize=True)\n",
    "display(ref_cross_tab)\n",
    "\n",
    "# Catégorisation et normalisation\n",
    "ref_col_val_norm = np.where(\n",
    "    df_disp_velib[ref_col].isin(ref_cross_tab[ref_cross_tab['OUI'] >= 0.8].index.tolist()), \n",
    "    1, \n",
    "    0\n",
    ")\n",
    "df_disp_velib[ref_col] = ref_col_val_norm\n",
    "ref_cross_tab_norm = pd.crosstab(df_disp_velib[ref_col], df_disp_velib[target_col], dropna=False, normalize=True)\n",
    "display(ref_cross_tab_norm)"
   ]
  },
  {
   "cell_type": "markdown",
   "id": "5fa0a55d",
   "metadata": {},
   "source": [
    "#### Signifiance against target evaluation"
   ]
  },
  {
   "cell_type": "code",
   "execution_count": null,
   "id": "31299cbc",
   "metadata": {},
   "outputs": [],
   "source": [
    "# Verification de la signifiance des variables explicatives par rapport à une variable cible\n",
    "ref_col = 'retour_velib_possible'\n",
    "target_col = 'station_en_fonctionnement'\n",
    "# Génération des colonnes dummies pour ref_col\n",
    "ref_col_dummies = pd.get_dummies(df_disp_velib[ref_col], prefix=ref_col)\n",
    "print(\"Colonnes dummies générées :\", list(ref_col_dummies.columns))\n",
    "# Pour chaque modalité de cette variable (dummy 0/1), tester sa signifiance avec la variable cible\n",
    "for col in ref_col_dummies:\n",
    "    # Test du Chi-Deux\n",
    "    cross_tab = pd.crosstab(df_disp_velib[target_col], ref_col_dummies[col])\n",
    "    if cross_tab.shape[1] != 2:\n",
    "        print(f\"⚠️ Modalité [{col}] ignorée (1 seule valeur présente)\")\n",
    "        continue\n",
    "    stat, p, _, _ = chi2_contingency(cross_tab)\n",
    "    # V de Cramer\n",
    "    V_Cramer = np.sqrt(\n",
    "        stat/cross_tab.values.sum())\n",
    "    # On affiche uniquement les variables significatives et dont le V de Cramer est supérieur à 0.1\n",
    "    # Faible : Valeur autour de 0.1 ;\n",
    "    # Moyenne : Valeur autour de 0.3 ;\n",
    "    # Elevée : Valeur autour et supérieure à 0.5.\n",
    "    # Lorsque la valeur du V de Cramer est très élevée (aux alentours de 0.8 et plus), on soupçonne généralement de la multicolinéarité.\n",
    "    result = 'significative' if (p < 0.05) and (V_Cramer > 0.1) else 'NON signficative'\n",
    "    print(f\"Variable [{col}] {result} Vs [{target_col}]: p-value[{p:.5f}], V_Cramer[{V_Cramer:.5f}]\")"
   ]
  },
  {
   "cell_type": "markdown",
   "id": "67fba3bb",
   "metadata": {},
   "source": [
    "### 2.1.2 VELO COMPTAGE (Main Data Set)"
   ]
  },
  {
   "cell_type": "markdown",
   "id": "f6482fa4",
   "metadata": {},
   "source": [
    "#### Loading and column management (columns names normalization)"
   ]
  },
  {
   "cell_type": "code",
   "execution_count": null,
   "id": "91ac0c3e49787469",
   "metadata": {
    "ExecuteTime": {
     "end_time": "2025-05-23T12:11:24.464428Z",
     "start_time": "2025-05-23T12:10:34.611349Z"
    }
   },
   "outputs": [],
   "source": [
    "df_cpt_velo_raw = dfc.load_dataset_from_config('velo_comptage_data', sep=';')\n",
    "\n",
    "if df_cpt_velo_raw is not None and isinstance(df_cpt_velo_raw, pd.DataFrame):\n",
    "    display(df_cpt_velo_raw.head())\n",
    "    dfc.log_general_info(df_cpt_velo_raw)\n",
    "    nb_first, nb_total = dfc.detect_and_log_duplicates_and_missing(df_cpt_velo_raw)\n",
    "    if nb_first != nb_total:\n",
    "        print(dfc.duplicates_index_map(df_cpt_velo_raw))\n",
    "    df_cpt_velo = dfc.normalize_column_names(df_cpt_velo_raw)"
   ]
  },
  {
   "cell_type": "markdown",
   "id": "ea2c6999",
   "metadata": {},
   "source": [
    "#### Global description and correlation"
   ]
  },
  {
   "cell_type": "code",
   "execution_count": null,
   "id": "bec5a630",
   "metadata": {},
   "outputs": [],
   "source": [
    "df_cpt_velo.info()\n",
    "display(df_cpt_velo.head())\n",
    "df_cpt_velo_desc = df_cpt_velo.select_dtypes(include=np.number).describe()\n",
    "display(df_cpt_velo_desc)\n",
    "df_cpt_velo_cr = df_cpt_velo.select_dtypes(include=np.number).corr()\n",
    "display(df_cpt_velo_cr)"
   ]
  },
  {
   "cell_type": "markdown",
   "id": "42a26968",
   "metadata": {},
   "source": [
    "## 2.2 Data quality refinement"
   ]
  },
  {
   "cell_type": "markdown",
   "id": "0f127a27",
   "metadata": {},
   "source": [
    "### 2.2.2 VELIB DISPO (Optional Dataset)"
   ]
  },
  {
   "cell_type": "code",
   "execution_count": null,
   "id": "e02ec553",
   "metadata": {},
   "outputs": [],
   "source": [
    "# Original backup and duplicates management\n",
    "df_disp_velib_orig = df_disp_velib.copy()\n",
    "df_disp_velib = df_disp_velib.drop_duplicates()"
   ]
  },
  {
   "cell_type": "code",
   "execution_count": null,
   "id": "3c91c0f2",
   "metadata": {},
   "outputs": [],
   "source": [
    "df_disp_velib.station_en_fonctionnement = df_disp_velib.station_en_fonctionnement.apply(lambda x: 1 if x=='OUI' else 0).astype(int)"
   ]
  },
  {
   "cell_type": "code",
   "execution_count": null,
   "id": "11ab503c",
   "metadata": {},
   "outputs": [],
   "source": [
    "# Exemple de modification localisée en fonction de la proximité à la médiane d'autre variables\n",
    "# mask = (\n",
    "#     (train['Gender'].isna()) &\n",
    "#     (abs(train['Age'] - 30) > abs(train['Age'] - 41)) & # L’âge est plus proche de 41 que de 30\n",
    "#     (train['Previously_Insured'] == 0) & # La personne n’était pas assurée auparavant\n",
    "#     (train['Vehicle_Damage'] == 1) # Elle a subi un dommage sur son véhicule\n",
    "# )\n",
    "# train.loc[mask, 'Gender'] = 0"
   ]
  },
  {
   "cell_type": "code",
   "execution_count": null,
   "id": "015b90d4",
   "metadata": {},
   "outputs": [],
   "source": [
    "# Exemple de modification par répartition spécifique entre deux valeurs 0 et 1\n",
    "# proportion_tab = [0] * 55 + [1] * 45\n",
    "# mask = (\n",
    "#     (train['Gender'].isna()) &\n",
    "# )\n",
    "# train.loc[mask, 'Gender'] = train.loc[mask, 'Gender'].apply(lambda x: random.choice(proportion))"
   ]
  },
  {
   "cell_type": "code",
   "execution_count": null,
   "id": "f0de1f6b",
   "metadata": {},
   "outputs": [],
   "source": [
    "# Preprocessing par scaling des données \n",
    "# - ni outlier ni distribution loi normale : min/max\n",
    "# - sans outlier mais distribution loi normale : standard\n",
    "# - avec outlier : Robust \n",
    "mm_scaler = MinMaxScaler()\n",
    "r_scaler = RobustScaler()\n",
    "s_scaler = StandardScaler()\n",
    "\n",
    "r_scale_col = ['nombre_bornettes_libres', 'nombre_total_velos_disponibles']\n",
    "df_disp_velib[r_scale_col] = s_scaler.fit_transform(df_disp_velib[r_scale_col])"
   ]
  },
  {
   "cell_type": "markdown",
   "id": "5ab89bc9",
   "metadata": {},
   "source": [
    "### 2.2.2 VELO COMPTAGE (Main Dataset)"
   ]
  },
  {
   "cell_type": "code",
   "execution_count": null,
   "id": "1813f25e",
   "metadata": {},
   "outputs": [],
   "source": [
    "# Original backup and duplicates management\n",
    "df_cpt_velib_orig = df_cpt_velo.copy()\n",
    "df_cpt_velo = df_cpt_velo.drop_duplicates()"
   ]
  },
  {
   "cell_type": "markdown",
   "id": "4bf8591e",
   "metadata": {},
   "source": [
    "## 2.3 Feature engineering and combination"
   ]
  },
  {
   "cell_type": "markdown",
   "id": "167edb76",
   "metadata": {},
   "source": [
    "#### Feature refactoring"
   ]
  },
  {
   "cell_type": "markdown",
   "id": "79ef3729",
   "metadata": {},
   "source": [
    "#### Optional and main data set combination/merge"
   ]
  },
  {
   "cell_type": "markdown",
   "id": "9a44e0f9",
   "metadata": {},
   "source": [
    "# 2. Data Viz' and Analysis"
   ]
  },
  {
   "cell_type": "markdown",
   "id": "7f5a9476",
   "metadata": {},
   "source": [
    "## 2.1 General Data Viz'"
   ]
  },
  {
   "cell_type": "code",
   "execution_count": null,
   "id": "d6035ef2",
   "metadata": {},
   "outputs": [],
   "source": [
    "# Vérificationn graphique de la répartition en loi normale de chaque données numérique\n",
    "for col in df_disp_velib.select_dtypes(include='number').columns:\n",
    "    probplot(df_disp_velib[col], dist=\"norm\", plot=plt)\n",
    "    plt.suptitle(f\"Column {col}\")\n",
    "    plt.show()"
   ]
  },
  {
   "cell_type": "markdown",
   "id": "ba447f0a",
   "metadata": {},
   "source": [
    "## 2.2 Quantitative mono variable distribution"
   ]
  },
  {
   "cell_type": "code",
   "execution_count": null,
   "id": "8ba9c226",
   "metadata": {},
   "outputs": [],
   "source": []
  },
  {
   "cell_type": "markdown",
   "id": "e229c390",
   "metadata": {},
   "source": [
    "## 2.3 Qualitative mono variable distribution"
   ]
  },
  {
   "cell_type": "code",
   "execution_count": null,
   "id": "6a072e94",
   "metadata": {},
   "outputs": [],
   "source": []
  },
  {
   "cell_type": "markdown",
   "id": "1fb35015",
   "metadata": {},
   "source": [
    "## 2.4 Qualitative multi variable distribution"
   ]
  },
  {
   "cell_type": "code",
   "execution_count": null,
   "id": "3702e1dd",
   "metadata": {},
   "outputs": [],
   "source": []
  },
  {
   "cell_type": "markdown",
   "id": "ecb51d68",
   "metadata": {},
   "source": [
    "## 2.5 Quantitative multi variable correlation"
   ]
  },
  {
   "cell_type": "code",
   "execution_count": null,
   "id": "652dbafb",
   "metadata": {},
   "outputs": [],
   "source": []
  },
  {
   "cell_type": "markdown",
   "id": "66868f91",
   "metadata": {},
   "source": [
    "# 3. Initial machine learning exploration"
   ]
  },
  {
   "cell_type": "code",
   "execution_count": null,
   "id": "b5ac988f",
   "metadata": {},
   "outputs": [],
   "source": [
    "# Separation base et valid\n",
    "df_base, df_valid = train_test_split(df_disp_velib, test_size=0.1, random_state=66)\n",
    "df_base_X = df_base.drop('station_en_fonctionnement', axis=1)\n",
    "# ajustement : enlever les variables non retravaillées pour le moment\n",
    "df_base_X = df_base_X.drop(columns=df_base_X.select_dtypes(exclude='number').columns)\n",
    "df_base_X = df_base_X.drop(columns=['code_insee_communes_equipees', \n",
    "                                    'station_opening_hours', \n",
    "                                    'velos_mecaniques_disponibles', \n",
    "                                    'velos_electriques_disponibles',\n",
    "                                    'capacite_de_la_station'])\n",
    "df_base_y = df_base.station_en_fonctionnement\n",
    "display(df_base_X)\n",
    "display(df_base_y)"
   ]
  },
  {
   "cell_type": "code",
   "execution_count": null,
   "id": "e96e36ef",
   "metadata": {},
   "outputs": [],
   "source": [
    "# Separation base : Train et Test\n",
    "X_train_b, X_test_b, y_train_b, y_test_b = train_test_split(df_base_X, df_base_y, train_size=0.8, random_state=66)\n",
    "print(\"Train Set:\", X_train_b.shape)\n",
    "print(\"Test Set:\", X_test_b.shape)"
   ]
  },
  {
   "cell_type": "markdown",
   "id": "29a84d51",
   "metadata": {},
   "source": [
    "### 3.1 Quick Logistic Regression"
   ]
  },
  {
   "cell_type": "code",
   "execution_count": null,
   "id": "840c707c",
   "metadata": {},
   "outputs": [],
   "source": [
    "# Logistic Regression configuration\n",
    "logit_config = {\n",
    "    \"target\": \"station_en_fonctionnement\",\n",
    "    \"features\": ['nombre_bornettes_libres', 'nombre_total_velos_disponibles']\n",
    "}\n",
    "\n",
    "# Coefficient adjustment configuration\n",
    "adjustment_config = {\n",
    "    \"nombre_bornettes_libres\": {\n",
    "        \"type\": \"normalize\",\n",
    "        \"range\": (0, 68)\n",
    "    },\n",
    "    \"nombre_total_velos_disponibles\": {\n",
    "        \"type\": \"normalize\",\n",
    "        \"range\": (0, 65)\n",
    "    },\n",
    "    # \"nombre_total_velos_disponibles\": {\n",
    "    #     \"type\": \"inverse\"\n",
    "    # },\n",
    "}\n",
    "\n",
    "subset = logit_config[\"features\"]+[logit_config[\"target\"]]\n",
    "cls.logit_analysis(df_base[subset], logit_config, adjustment_config)"
   ]
  },
  {
   "cell_type": "markdown",
   "id": "c1ad389e",
   "metadata": {},
   "source": [
    "### 3.2 SMOTE/Under/Over Sampling (if necessary)"
   ]
  },
  {
   "cell_type": "code",
   "execution_count": null,
   "id": "002342df",
   "metadata": {},
   "outputs": [],
   "source": [
    "cls.cross_validation_with_resampling(X_train_b, y_train_b, LogisticRegression())"
   ]
  },
  {
   "cell_type": "code",
   "execution_count": null,
   "id": "16adc8f5",
   "metadata": {},
   "outputs": [],
   "source": [
    "cls.cross_validation_with_resampling(X_train_b, y_train_b, XGBClassifier(eval_metric=\"error\"))"
   ]
  },
  {
   "cell_type": "markdown",
   "id": "46e7d3ec",
   "metadata": {},
   "source": [
    "### 3.3 Adding threashold (if necessary)"
   ]
  },
  {
   "cell_type": "code",
   "execution_count": null,
   "id": "79f3f879",
   "metadata": {},
   "outputs": [],
   "source": [
    "cls.cross_validation_with_resampling_and_threshold(X_train_b, y_train_b, LogisticRegression())"
   ]
  },
  {
   "cell_type": "markdown",
   "id": "8af0f26f",
   "metadata": {},
   "source": [
    "### 3.4 Switching to other models (if necessary)"
   ]
  },
  {
   "cell_type": "code",
   "execution_count": null,
   "id": "b9d759db",
   "metadata": {},
   "outputs": [],
   "source": [
    "cls.cross_validation_with_resampling_and_threshold(X_train_b, y_train_b, XGBClassifier(eval_metric=\"error\"))"
   ]
  },
  {
   "cell_type": "markdown",
   "id": "2b063c57",
   "metadata": {},
   "source": [
    "### 3.5 Applying Best model and visualizing results"
   ]
  },
  {
   "cell_type": "code",
   "execution_count": null,
   "id": "1f38a742",
   "metadata": {},
   "outputs": [],
   "source": [
    "# Resampling sur la base d'entraînement\n",
    "smote = SMOTE()\n",
    "X_train_b_smote, y_train_b_smote = smote.fit_resample(X_train_b, y_train_b)\n",
    "\n",
    "# Définition et entraînement du modèle\n",
    "clf_XGB_opti = XGBClassifier(eval_metric=\"error\")\n",
    "clf_XGB_opti.fit(X_train_b_smote, y_train_b_smote)\n",
    "\n",
    "# Prédiction du modèle (Seuil précédemment établi)\n",
    "preds = np.where(clf_XGB_opti.predict_proba(X_test_b)[:, 1] > 0.026, 1, 0)\n",
    "\n",
    "# Evaluation\n",
    "print(\"Modèle avec rééchantillonnage et optimisation du seuil\")\n",
    "print(\"F1-Score : \", f1_score(preds, y_test_b))\n",
    "print(confusion_matrix(preds, y_test_b), end=\"\\n\\n\")\n",
    "\n",
    "# Modèle de base\n",
    "print(\"Modèle de base\", end=\"\\n\\n\")\n",
    "clf_XGB_base = XGBClassifier(eval_metric=\"error\")\n",
    "clf_XGB_base.fit(X_train_b, y_train_b)\n",
    "print(\"F1-Score : \", f1_score(clf_XGB_base.predict(X_test_b), y_test_b))\n",
    "print(confusion_matrix(clf_XGB_base.predict(X_test_b), y_test_b))\n",
    "plot_importance(clf_XGB_base) \n",
    "plt.show()"
   ]
  }
 ],
 "metadata": {
  "kernelspec": {
   "display_name": "Python 3",
   "language": "python",
   "name": "python3"
  },
  "language_info": {
   "codemirror_mode": {
    "name": "ipython",
    "version": 3
   },
   "file_extension": ".py",
   "mimetype": "text/x-python",
   "name": "python",
   "nbconvert_exporter": "python",
   "pygments_lexer": "ipython3",
   "version": "3.12.9"
  }
 },
 "nbformat": 4,
 "nbformat_minor": 5
}
