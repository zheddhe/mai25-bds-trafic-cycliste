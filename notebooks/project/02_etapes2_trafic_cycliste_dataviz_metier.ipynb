{
 "cells": [
  {
   "cell_type": "code",
   "execution_count": null,
   "id": "0",
   "metadata": {},
   "outputs": [],
   "source": [
    "import pandas as pd\n",
    "import numpy as np\n",
    "import smartcheck.dataframe_common as dfc\n",
    "import smartcheck.dataframe_project_specific as dps\n",
    "\n",
    "### Machine Learning\n",
    "\n",
    "# transformation\n",
    "from sklearn.preprocessing import MinMaxScaler, RobustScaler, StandardScaler, OneHotEncoder\n",
    "\n",
    "# models\n",
    "from sklearn.model_selection import train_test_split\n",
    "from sklearn.cluster import KMeans\n",
    "\n",
    "# metrics and evaluation\n",
    "from scipy.stats import probplot\n",
    "\n",
    "### Data Viz\n",
    "\n",
    "# graphical\n",
    "import matplotlib.pyplot as plt\n",
    "import matplotlib.ticker as ticker\n",
    "%matplotlib inline\n",
    "import seaborn as sns\n",
    "import folium as folium\n",
    "import squarify as sq"
   ]
  },
  {
   "cell_type": "code",
   "execution_count": null,
   "id": "1",
   "metadata": {},
   "outputs": [],
   "source": [
    "df_raw = dfc.load_dataset_from_config('velo_comptage_pcd_data', sep=',', index_col=0)\n",
    "\n",
    "if df_raw is not None and isinstance(df_raw, pd.DataFrame):\n",
    "    df = df_raw.copy()"
   ]
  },
  {
   "cell_type": "code",
   "execution_count": null,
   "id": "2",
   "metadata": {},
   "outputs": [],
   "source": [
    "# Il faudrait également lui préférer l'usage de nos routines partagées dans dataframe_project_specific (methode de gestion des colonnes dates), \n",
    "# enrichie des données numéro de semaine (les partie textuelle jour et mois également même si je ne pense pas qu'on doivent vraiment les avoir \n",
    "# d'un point de vue modelisation et probablement a dropper à ce moment là) voici la fonction specifique pour notre projet :\n",
    "df = dps.extract_datetime_features(df, timestamp_col='date_et_heure_de_comptage')\n",
    "\n",
    "# # Extraire les composantes temporelles textuelles\n",
    "\n",
    "# df['date_et_heure_de_comptage'] = pd.to_datetime(df['date_et_heure_de_comptage'], utc=True).dt.tz_convert('Europe/Paris')\n",
    "# df['Jour'] = df['date_et_heure_de_comptage'].dt.day_name()\n",
    "# df['Mois'] = df['date_et_heure_de_comptage'].dt.month_name()\n",
    "# df['Heure'] = df['date_et_heure_de_comptage'].dt.hour"
   ]
  },
  {
   "cell_type": "code",
   "execution_count": null,
   "id": "3",
   "metadata": {},
   "outputs": [],
   "source": [
    "# Ce bloc suivant devient inutile sur données preprocessées\n",
    "\n",
    "# # Corriger et uniformiser la colonne 'date_et_heure_de_comptage' si elle contient des objets ou chaînes\n",
    "# df['date_et_heure_de_comptage'] = pd.to_datetime(df['date_et_heure_de_comptage'], errors='coerce', utc=True).dt.tz_convert('Europe/Paris')\n",
    "\n",
    "# # Supprimer le fuseau horaire de la colonne pour afficher l'heure locale sans le \"+01:00\"\n",
    "# df['date_et_heure_de_comptage'] = df['date_et_heure_de_comptage'].dt.tz_localize(None)\n",
    "\n",
    "# # Vérification\n",
    "# df[['date_et_heure_de_comptage']].head()"
   ]
  },
  {
   "cell_type": "code",
   "execution_count": null,
   "id": "4",
   "metadata": {},
   "outputs": [],
   "source": [
    "df.head()"
   ]
  },
  {
   "cell_type": "code",
   "execution_count": null,
   "id": "5",
   "metadata": {},
   "outputs": [],
   "source": [
    "df.describe()"
   ]
  },
  {
   "cell_type": "code",
   "execution_count": null,
   "id": "6",
   "metadata": {},
   "outputs": [],
   "source": [
    "# Ce bloc suivant devient inutile sur données preprocessées\n",
    "\n",
    "# # Nettoyage des noms de colonnes (suppression des espaces, remplacement par des underscores)\n",
    "# df.columns = df.columns.str.strip().str.lower().str.replace(\" \", \"_\").str.replace(\"'\", \"\")\n",
    "\n",
    "# # Conversion de la date et heure de comptage en datetime sans fuseau horaire visible\n",
    "# df['date_et_heure_de_comptage'] = pd.to_datetime(df['date_et_heure_de_comptage'])\n",
    "# df['date_et_heure_de_comptage'] = df['date_et_heure_de_comptage'].dt.tz_localize(None)"
   ]
  },
  {
   "cell_type": "code",
   "execution_count": null,
   "id": "7",
   "metadata": {},
   "outputs": [],
   "source": [
    "# Ce bloc devient inutile sur données preprocessées\n",
    "\n",
    "# # Création des colonnes temporelles\n",
    "\n",
    "# df['année'] = df['date_et_heure_de_comptage'].dt.year\n",
    "# df['mois'] = df['date_et_heure_de_comptage'].dt.month_name()\n",
    "# df['jour'] = df['date_et_heure_de_comptage'].dt.day_name()\n",
    "# df['heure'] = df['date_et_heure_de_comptage'].dt.hour\n",
    "# df['semaine'] = df['date_et_heure_de_comptage'].dt.isocalendar().week"
   ]
  },
  {
   "cell_type": "code",
   "execution_count": null,
   "id": "8",
   "metadata": {},
   "outputs": [],
   "source": [
    "# Ce bloc suivant devient inutile sur données preprocessées\n",
    "\n",
    "# # Conversion des coordonnées en float\n",
    "# if 'coordonnées' in df.columns:\n",
    "#     df[['latitude', 'longitude']] = df['coordonnées'].str.split(',', expand=True).astype(float)\n",
    "\n",
    "# # Vérification des valeurs manquantes\n",
    "# print(\"--- Valeurs manquantes ---\")\n",
    "# print(df.isnull().sum())"
   ]
  },
  {
   "cell_type": "code",
   "execution_count": null,
   "id": "9",
   "metadata": {},
   "outputs": [],
   "source": [
    "# 1. Distribution du comptage horaire\n",
    "plt.figure(figsize=(10,6))\n",
    "sns.histplot(df['comptage_horaire'], bins=30, kde=True)\n",
    "plt.title(\"Distribution du comptage horaire\")\n",
    "plt.xlabel(\"Comptage horaire\")\n",
    "plt.ylabel(\"Fréquence\")\n",
    "plt.show()"
   ]
  },
  {
   "cell_type": "code",
   "execution_count": null,
   "id": "10",
   "metadata": {},
   "outputs": [],
   "source": [
    "# 4. Heatmap heure vs jour\n",
    "plt.figure(figsize=(12,8))\n",
    "pivot = df.pivot_table(index='date_et_heure_de_comptage_hour', columns='date_et_heure_de_comptage_day', aggfunc='size', fill_value=0)\n",
    "sns.heatmap(pivot, cmap='YlGnBu', annot=True, fmt=\".0f\")\n",
    "plt.title(\"Nombre d'enregistrements par heure et jour\")\n",
    "plt.xlabel(\"Jour\")\n",
    "plt.ylabel(\"Heure\")\n",
    "plt.show()"
   ]
  },
  {
   "cell_type": "code",
   "execution_count": null,
   "id": "11",
   "metadata": {},
   "outputs": [],
   "source": [
    "# 5. Boxplot du comptage horaire par jour\n",
    "plt.figure(figsize=(12,6))\n",
    "sns.boxplot(x='date_et_heure_de_comptage_dayname', y='comptage_horaire', data=df)\n",
    "plt.title(\"Distribution du comptage horaire par jour\")\n",
    "plt.xlabel(\"Jour\")\n",
    "plt.ylabel(\"Comptage horaire\")\n",
    "plt.show()\n",
    "\n",
    "# La partie box plot par heure est redondante avec la cellule juste après (mis en commentaire avant suppression)\n",
    "\n",
    "# plt.figure(figsize=(14,6))\n",
    "# sns.boxplot(x='date_et_heure_de_comptage_hour', y='comptage_horaire', data=df)\n",
    "# plt.title(\"Comptage horaire par heure\")\n",
    "# plt.show()"
   ]
  },
  {
   "cell_type": "code",
   "execution_count": null,
   "id": "12",
   "metadata": {},
   "outputs": [],
   "source": [
    "# 6. Boxplot du comptage horaire par heure\n",
    "plt.figure(figsize=(14,6))\n",
    "sns.boxplot(x='date_et_heure_de_comptage_hour', y='comptage_horaire', data=df)\n",
    "plt.title(\"Distribution du comptage horaire par heure\")\n",
    "plt.xlabel(\"Heure\")\n",
    "plt.ylabel(\"Comptage horaire\")\n",
    "plt.show()"
   ]
  },
  {
   "cell_type": "code",
   "execution_count": null,
   "id": "13",
   "metadata": {},
   "outputs": [],
   "source": [
    "# 6. Enregistrements par mois\n",
    "plt.figure(figsize=(12,6))\n",
    "mois_ordre = [\"January\", \"February\", \"March\", \"April\", \"May\", \"June\", \"July\", \"August\", \"September\", \"October\", \"November\", \"December\"]\n",
    "df['date_et_heure_de_comptage_monthname'] = pd.Categorical(df['date_et_heure_de_comptage_monthname'], categories=mois_ordre, ordered=True)\n",
    "df['date_et_heure_de_comptage_monthname'].value_counts().sort_index().plot(kind='bar')\n",
    "plt.title(\"Enregistrements par mois\")\n",
    "plt.xticks(rotation=45)\n",
    "plt.tight_layout()\n",
    "plt.show()"
   ]
  },
  {
   "cell_type": "code",
   "execution_count": null,
   "id": "14",
   "metadata": {},
   "outputs": [],
   "source": [
    "# 11. Nuage de points comptage horaire vs heure\n",
    "plt.figure(figsize=(12,6))\n",
    "sns.stripplot(x='date_et_heure_de_comptage_hour', y='comptage_horaire', data=df, jitter=0.2, alpha=0.4)\n",
    "plt.title(\"Comptage horaire selon l'heure\")\n",
    "plt.show()"
   ]
  },
  {
   "cell_type": "code",
   "execution_count": null,
   "id": "15",
   "metadata": {},
   "outputs": [],
   "source": [
    "# je pense qu'un swarmplot avec deux axes : heure et semaine aurait eu plus de signification (dans ce pair plot mettre en relation les \n",
    "# occurences heure et semaine donne une grosse grille a laquelle on pouvait s'attendre quand a la diagonale ca donne juste la distribution \n",
    "# du nombre d'entrée moyenne par valeur : uniforme pour les heure (logique on a des journées pleines), pas pour les semaines - on a un recouvrement \n",
    "# sur les semaine de début d'année en mars/avril) et pour le comptage horaire on a déjà la distribution plus haut.\n",
    "\n",
    "# 15. Pairplot des variables temporelles et du comptage\n",
    "sns.pairplot(df[['date_et_heure_de_comptage_hour', 'date_et_heure_de_comptage_week', 'comptage_horaire']])\n",
    "plt.suptitle(\"Relation entre heure, semaine et comptage\", y=1.02)\n",
    "plt.show() "
   ]
  },
  {
   "cell_type": "code",
   "execution_count": null,
   "id": "16",
   "metadata": {},
   "outputs": [],
   "source": [
    "# 16. Répartition des valeurs par compteur (si disponible)\n",
    "top_sites = df['nom_du_compteur'].value_counts().nlargest(10).index\n",
    "plt.figure(figsize=(12,6))\n",
    "sns.boxplot(x='nom_du_compteur', y='comptage_horaire', data=df[df['nom_du_compteur'].isin(top_sites)])\n",
    "plt.title(\"Comptage horaire par compteur (Top 10)\")\n",
    "plt.xticks(rotation=45)\n",
    "plt.show()"
   ]
  },
  {
   "cell_type": "code",
   "execution_count": null,
   "id": "17",
   "metadata": {},
   "outputs": [],
   "source": [
    "# La cellule est un doublon avec plus haut (mis en commentaire : a supprimer)\n",
    "\n",
    "# # 15. Pairplot des variables temporelles et du comptage\n",
    "# sns.pairplot(df[['date_et_heure_de_comptage_hour', 'date_et_heure_de_comptage_week', 'comptage_horaire']])\n",
    "# plt.suptitle(\"Relation entre heure, semaine et comptage\", y=1.02)\n",
    "# plt.show()"
   ]
  },
  {
   "cell_type": "code",
   "execution_count": null,
   "id": "18",
   "metadata": {},
   "outputs": [],
   "source": [
    "# 19. Histogramme des enregistrements par semaine de l'année\n",
    "plt.figure(figsize=(12,6))\n",
    "df['date_et_heure_de_comptage_week'].value_counts().sort_index().plot(kind='bar', color='skyblue')\n",
    "plt.title(\"Nombre d'enregistrements par semaine\")\n",
    "plt.xlabel(\"Semaine\")\n",
    "plt.ylabel(\"Nombre d'enregistrements\")\n",
    "plt.show()"
   ]
  },
  {
   "cell_type": "code",
   "execution_count": null,
   "id": "19",
   "metadata": {},
   "outputs": [],
   "source": [
    "# 20. Évolution du comptage horaire moyen par mois\n",
    "plt.figure(figsize=(12,6))\n",
    "mois_order = [\"January\", \"February\", \"March\", \"April\", \"May\", \"June\", \"July\", \"August\", \"September\", \"October\", \"November\", \"December\"]\n",
    "df['date_et_heure_de_comptage_monthname'] = pd.Categorical(df['date_et_heure_de_comptage_monthname'], categories=mois_order, ordered=True)\n",
    "df.groupby('date_et_heure_de_comptage_monthname')['comptage_horaire'].mean().plot(marker='o')\n",
    "plt.title(\"Comptage horaire moyen par mois\")\n",
    "plt.xlabel(\"Mois\")\n",
    "plt.ylabel(\"Comptage horaire moyen\")\n",
    "plt.grid(True)\n",
    "plt.show()"
   ]
  },
  {
   "cell_type": "code",
   "execution_count": null,
   "id": "20",
   "metadata": {},
   "outputs": [],
   "source": [
    "# Graphique à réextraire dans le rapport, avec toutes les valeurs explicitées sur toutes les barres\n",
    "\n",
    "# Ordre des jours\n",
    "jours_ordre = ['Monday', 'Tuesday', 'Wednesday', 'Thursday', 'Friday', 'Saturday', 'Sunday']\n",
    "df['date_et_heure_de_comptage_dayname'] = pd.Categorical(df['date_et_heure_de_comptage_dayname'], categories=jours_ordre, ordered=True)\n",
    "\n",
    "# Moyenne du comptage par jour\n",
    "moyennes = df.groupby('date_et_heure_de_comptage_dayname', observed=True)['comptage_horaire'].mean()\n",
    "\n",
    "# Affichage du graphique\n",
    "plt.figure(figsize=(10,6))\n",
    "bars = plt.bar(moyennes.index, moyennes.values, color='coral')\n",
    "plt.title(\"Comptage horaire moyen par jour de la semaine\")\n",
    "plt.xlabel(\"Jour\")\n",
    "plt.ylabel(\"Comptage horaire moyen\")\n",
    "plt.ylim(0, moyennes.max() * 1.15)\n",
    "\n",
    "# Affichage des valeurs exactes pour mardi et jeudi\n",
    "for bar, jour, val in zip(bars, moyennes.index, moyennes.values):\n",
    "    if jour in jours_ordre:\n",
    "        plt.text(bar.get_x() + bar.get_width()/2, val + 1, f\"{val:.1f}\", ha='center', va='bottom', fontsize=9, fontweight='bold')\n",
    "\n",
    "plt.xticks(rotation=45)\n",
    "plt.tight_layout()\n",
    "plt.show()"
   ]
  },
  {
   "cell_type": "code",
   "execution_count": null,
   "id": "21",
   "metadata": {},
   "outputs": [],
   "source": [
    "# 23. Densité du comptage horaire\n",
    "plt.figure(figsize=(10,6))\n",
    "sns.kdeplot(df['comptage_horaire'], fill=True)\n",
    "plt.title(\"Densité du comptage horaire\")\n",
    "plt.xlabel(\"Comptage horaire\")\n",
    "plt.ylabel(\"Densité\")\n",
    "plt.show()"
   ]
  },
  {
   "cell_type": "code",
   "execution_count": null,
   "id": "22",
   "metadata": {},
   "outputs": [],
   "source": [
    "# Redondant avec la cellule identifiée 6. donc mis en commentaire (ou à supprimer)\n",
    "\n",
    "# # 24. Diagramme en boîte du comptage horaire par heure\n",
    "# plt.figure(figsize=(14,6))\n",
    "# sns.boxplot(x='date_et_heure_de_comptage_hour', y='comptage_horaire', data=df)\n",
    "# plt.title(\"Distribution du comptage horaire par heure\")\n",
    "# plt.xlabel(\"Heure\")\n",
    "# plt.ylabel(\"Comptage horaire\")\n",
    "# plt.show()"
   ]
  },
  {
   "cell_type": "code",
   "execution_count": null,
   "id": "23",
   "metadata": {},
   "outputs": [],
   "source": [
    "# La cellule suivante plus que du dataviz est de la modélisation (KMeans) et le regroupement 5 clusters géographiques (pourquoi laisser \n",
    "# les 5 par défaut? pas 2? 3? 4?...) sans prise en compte des valeurs des compteurs donne du coup juste l'observation des 5 zones \n",
    "# centroides géographiques qu'on ne sait pas forcément expliciter\n",
    "\n",
    "# 25. Clustering (KMeans) sur latitude et longitude\n",
    "if 'latitude' in df.columns and 'longitude' in df.columns:\n",
    "    scaler = StandardScaler()\n",
    "    coords_scaled = scaler.fit_transform(df[['latitude','longitude']])\n",
    "    kmeans = KMeans(n_clusters=5, random_state=42).fit(coords_scaled)\n",
    "    df['cluster'] = kmeans.labels_\n",
    "    plt.figure(figsize=(10,6))\n",
    "    sns.scatterplot(x='longitude', y='latitude', hue='cluster', data=df, palette='tab10')\n",
    "    plt.title(\"Clustering géographique des sites de comptage\")\n",
    "    plt.xlabel(\"Longitude\")\n",
    "    plt.ylabel(\"Latitude\")\n",
    "    plt.legend(title='Cluster')\n",
    "    plt.show()"
   ]
  },
  {
   "cell_type": "code",
   "execution_count": null,
   "id": "24",
   "metadata": {},
   "outputs": [],
   "source": [
    "# Comptage total par heure\n",
    "heure_total = df.groupby('date_et_heure_de_comptage_hour')['comptage_horaire'].sum().sort_values(ascending=False).head(10)\n",
    "\n",
    "# Affichage du graphique\n",
    "plt.figure(figsize=(10,6))\n",
    "bars = plt.bar(heure_total.index.astype(str), heure_total.values, color='orange')\n",
    "\n",
    "# Titre et axes\n",
    "plt.title(\"Top 10 des heures avec le plus fort comptage total\")\n",
    "plt.xlabel(\"Heure\")\n",
    "plt.ylabel(\"Comptage total\")\n",
    "\n",
    "# ✅ Retirer notation scientifique\n",
    "ax = plt.gca()\n",
    "ax.yaxis.set_major_formatter(ticker.FuncFormatter(lambda x, _: f'{int(x):,}'.replace(',', ' ')))\n",
    "\n",
    "# ✅ Ajuster l'échelle manuellement\n",
    "plt.ylim(0, heure_total.max() * 1.15)\n",
    "plt.yticks(rotation=0)\n",
    "plt.grid(axis='y', linestyle='--', alpha=0.6)\n",
    "\n",
    "plt.tight_layout()\n",
    "plt.show()"
   ]
  },
  {
   "cell_type": "code",
   "execution_count": null,
   "id": "25",
   "metadata": {},
   "outputs": [],
   "source": [
    "# 28. Variation horaire par station (Top 5 pour lisibilité)\n",
    "top5_stations = df['nom_du_compteur'].value_counts().nlargest(5).index\n",
    "plt.figure(figsize=(14,6))\n",
    "sns.lineplot(data=df[df['nom_du_compteur'].isin(top5_stations)], x='date_et_heure_de_comptage_hour', y='comptage_horaire', hue='nom_du_compteur', estimator='mean')\n",
    "plt.title(\"Évolution horaire du comptage par station (Top 5)\")\n",
    "plt.xlabel(\"Heure\")\n",
    "plt.ylabel(\"Comptage horaire moyen\")\n",
    "plt.legend(title='Station')\n",
    "plt.show()"
   ]
  },
  {
   "cell_type": "code",
   "execution_count": null,
   "id": "26",
   "metadata": {},
   "outputs": [],
   "source": [
    "# 17. Répartition cumulée du comptage horaire par heure\n",
    "hourly_sum = df.groupby('date_et_heure_de_comptage_hour')['comptage_horaire'].sum().sort_index()\n",
    "hourly_cumsum = hourly_sum.cumsum()\n",
    "plt.figure(figsize=(12,6))\n",
    "plt.plot(hourly_cumsum, marker='o')\n",
    "plt.title(\"Comptage horaire cumulé par heure\")\n",
    "plt.xlabel(\"Heure\")\n",
    "plt.ylabel(\"Cumul du comptage horaire\")\n",
    "plt.grid(True)\n",
    "plt.show()"
   ]
  },
  {
   "cell_type": "code",
   "execution_count": null,
   "id": "27",
   "metadata": {},
   "outputs": [],
   "source": [
    "# Doublon avec la cellule au dessus (mise en commentaire pour suppression)\n",
    "\n",
    "# # 17. Répartition cumulée du comptage horaire par heure\n",
    "# hourly_sum = df.groupby('date_et_heure_de_comptage_hour')['comptage_horaire'].sum().sort_index()\n",
    "# hourly_cumsum = hourly_sum.cumsum()\n",
    "# plt.figure(figsize=(12,6))\n",
    "# plt.plot(hourly_cumsum, marker='o')\n",
    "# plt.title(\"Comptage horaire cumulé par heure\")\n",
    "# plt.xlabel(\"Heure\")\n",
    "# plt.ylabel(\"Cumul du comptage horaire\")\n",
    "# plt.grid(True)\n",
    "# plt.show()"
   ]
  },
  {
   "cell_type": "code",
   "execution_count": null,
   "id": "28",
   "metadata": {},
   "outputs": [],
   "source": [
    "# 18. Heatmap comptage horaire par heure et jour\n",
    "pivot_table = df.pivot_table(index='date_et_heure_de_comptage_hour', columns='date_et_heure_de_comptage_dayname', values='comptage_horaire', aggfunc='mean', observed=True)\n",
    "plt.figure(figsize=(12,8))\n",
    "sns.heatmap(pivot_table, annot=True, fmt=\".1f\", cmap=\"viridis\")\n",
    "plt.title(\"Moyenne du comptage horaire par heure et jour\")\n",
    "plt.xlabel(\"Jour de la semaine\")\n",
    "plt.ylabel(\"Heure\")\n",
    "plt.show()\n"
   ]
  },
  {
   "cell_type": "code",
   "execution_count": null,
   "id": "29",
   "metadata": {},
   "outputs": [],
   "source": [
    "# 31. Heatmap moyenne du comptage horaire par heure et station (Top 5)\n",
    "top5 = df['nom_du_compteur'].value_counts().nlargest(5).index\n",
    "pivot = df[df['nom_du_compteur'].isin(top5)].pivot_table(index='date_et_heure_de_comptage_hour', columns='nom_du_compteur', values='comptage_horaire', aggfunc='mean')\n",
    "plt.figure(figsize=(10,6))\n",
    "sns.heatmap(pivot, cmap='coolwarm', annot=True, fmt=\".0f\")\n",
    "plt.title(\"Moyenne horaire du comptage par station (Top 5)\")\n",
    "plt.ylabel(\"Heure\")\n",
    "plt.xlabel(\"Station\")\n",
    "plt.tight_layout()\n",
    "plt.show()"
   ]
  },
  {
   "cell_type": "code",
   "execution_count": null,
   "id": "30",
   "metadata": {},
   "outputs": [],
   "source": [
    "# Données\n",
    "top_stations = df.groupby('nom_du_compteur')['comptage_horaire'].sum().nlargest(10).sort_values()\n",
    "\n",
    "# Affichage\n",
    "plt.figure(figsize=(12, 6))\n",
    "sns.barplot(x=top_stations.values, y=top_stations.index, hue=top_stations.index, palette='magma_r')  # couleurs inversées\n",
    "plt.title(\"Top 10 des stations les plus fréquentées (comptage total)\")\n",
    "plt.xlabel(\"Comptage horaire total\")\n",
    "plt.ylabel(\"Nom de la station\")\n",
    "\n",
    "# Axe x lisible (espaces entre milliers)\n",
    "plt.gca().xaxis.set_major_formatter(ticker.FuncFormatter(lambda x, _: f\"{int(x):,}\".replace(',', ' ')))\n",
    "\n",
    "plt.tight_layout()\n",
    "plt.show()"
   ]
  },
  {
   "cell_type": "code",
   "execution_count": null,
   "id": "31",
   "metadata": {},
   "outputs": [],
   "source": [
    "# cette cellule = strict doublon de celle plus haut ou 31. est déjà présent\n",
    "\n",
    "# # 31. Heatmap moyenne du comptage horaire par heure et station (Top 5)\n",
    "# if 'nom_du_compteur' in df.columns:\n",
    "#     top5 = df['nom_du_compteur'].value_counts().nlargest(5).index\n",
    "#     pivot = df[df['nom_du_compteur'].isin(top5)].pivot_table(index='date_et_heure_de_comptage_hour', columns='nom_du_compteur', values='comptage_horaire', aggfunc='mean')\n",
    "#     plt.figure(figsize=(10,6))\n",
    "#     sns.heatmap(pivot, cmap='coolwarm', annot=True, fmt=\".0f\")\n",
    "#     plt.title(\"Moyenne horaire du comptage par station (Top 5)\")\n",
    "#     plt.ylabel(\"Heure\")\n",
    "#     plt.xlabel(\"Station\")\n",
    "#     plt.tight_layout()\n",
    "#     plt.show()"
   ]
  },
  {
   "cell_type": "code",
   "execution_count": null,
   "id": "32",
   "metadata": {},
   "outputs": [],
   "source": [
    "# Cellule en doublon : le 1. existe déjà au tout début, a supprimer (mis en commentaire pour le moment)\n",
    "\n",
    "# # 1. Histogramme comptage horaire\n",
    "# plt.figure(figsize=(10,6))\n",
    "# sns.histplot(df['comptage_horaire'], bins=30, kde=True)\n",
    "# plt.title(\"Distribution du comptage horaire\")\n",
    "# plt.xlabel(\"Comptage horaire\")\n",
    "# plt.ylabel(\"Fréquence\")\n",
    "# plt.show()"
   ]
  },
  {
   "cell_type": "code",
   "execution_count": null,
   "id": "33",
   "metadata": {},
   "outputs": [],
   "source": [
    "plt.figure(figsize=(14, 6))\n",
    "df_indexed = df.set_index('date_et_heure_de_comptage_local').resample('W')['comptage_horaire'].mean()\n",
    "df_indexed.plot()\n",
    "plt.title(\"Évolution hebdomadaire du comptage horaire moyen\")\n",
    "plt.xlabel(\"Date\")\n",
    "plt.ylabel(\"Comptage horaire moyen\")\n",
    "plt.grid(True)\n",
    "plt.show()"
   ]
  },
  {
   "cell_type": "code",
   "execution_count": null,
   "id": "34",
   "metadata": {},
   "outputs": [],
   "source": [
    "site_total = df.groupby('nom_du_compteur')['comptage_horaire'].sum().sort_values(ascending=False).head(30)\n",
    "plt.figure(figsize=(14, 8))\n",
    "sq.plot(sizes=site_total.values, label=site_total.index, alpha=.8)\n",
    "plt.title(\"Treemap des compteurs les plus fréquentés\")\n",
    "plt.axis('off')\n",
    "plt.show()\n",
    "# Voir si l'on peut rajouter des aggrégations (pour identifier les zones les plus fréquentées , ça peut etre un arrondissement "
   ]
  },
  {
   "cell_type": "code",
   "execution_count": null,
   "id": "35",
   "metadata": {},
   "outputs": [],
   "source": [
    "pivot = df.pivot_table(index='nom_du_site_de_comptage', columns='date_et_heure_de_comptage_hour', values='comptage_horaire', aggfunc='mean').fillna(0)\n",
    "\n",
    "plt.figure(figsize=(14, 8))\n",
    "sns.heatmap(pivot, cmap='magma', linewidths=0.5)\n",
    "plt.title(\"Trafic moyen par site et heure\")\n",
    "plt.xlabel(\"Heure\")\n",
    "plt.ylabel(\"Site\")\n",
    "plt.show()"
   ]
  },
  {
   "cell_type": "code",
   "execution_count": null,
   "id": "36",
   "metadata": {},
   "outputs": [],
   "source": [
    "hourly_max = df.groupby('date_et_heure_de_comptage_hour')['comptage_horaire'].max()\n",
    "plt.figure(figsize=(12, 5))\n",
    "sns.lineplot(x=hourly_max.index, y=hourly_max.values)\n",
    "plt.title(\"Pic de fréquentation par heure de la journée\")\n",
    "plt.xlabel(\"Heure\")\n",
    "plt.ylabel(\"Comptage horaire max\")\n",
    "plt.grid(True)\n",
    "plt.show()"
   ]
  },
  {
   "cell_type": "code",
   "execution_count": null,
   "id": "37",
   "metadata": {},
   "outputs": [],
   "source": [
    "df['saison'] = df['date_et_heure_de_comptage_month'] % 12 // 3 + 1\n",
    "df['saison'] = df['saison'].map({1: 'Hiver', 2: 'Printemps', 3: 'Été', 4: 'Automne'})\n",
    "profile = df.groupby(['saison', 'date_et_heure_de_comptage_hour'])['comptage_horaire'].mean().unstack(0)\n",
    "\n",
    "profile.plot(figsize=(14, 6))\n",
    "plt.title(\"Profil horaire moyen selon la saison\")\n",
    "plt.xlabel(\"Heure\")\n",
    "plt.ylabel(\"Comptage moyen\")\n",
    "plt.grid(True)\n",
    "plt.show()\n",
    "#Voir les décalages entre les heures d'été et d'hiver"
   ]
  },
  {
   "cell_type": "code",
   "execution_count": null,
   "id": "38",
   "metadata": {},
   "outputs": [],
   "source": [
    "site_perf = df.groupby(['nom_du_compteur', 'latitude', 'longitude'])['comptage_horaire'].mean().reset_index()\n",
    "quantiles = site_perf['comptage_horaire'].quantile([0.33, 0.66]).values\n",
    "\n",
    "def get_color(val):\n",
    "    if val <= quantiles[0]: return 'green'\n",
    "    elif val <= quantiles[1]: return 'orange'\n",
    "    return 'red'\n",
    "\n",
    "m = folium.Map(location=[df['latitude'].mean(), df['longitude'].mean()], zoom_start=12)\n",
    "for _, row in site_perf.iterrows():\n",
    "    folium.CircleMarker(\n",
    "        location=[row['latitude'], row['longitude']],\n",
    "        radius=7,\n",
    "        color=get_color(row['comptage_horaire']),\n",
    "        fill=True,\n",
    "        fill_opacity=0.7,\n",
    "        tooltip=f\"{row['nom_du_compteur']} : {row['comptage_horaire']:.1f}\"\n",
    "    ).add_to(m)\n",
    "m.save(\"carte_perf_sites.html\")"
   ]
  },
  {
   "cell_type": "code",
   "execution_count": null,
   "id": "39",
   "metadata": {},
   "outputs": [],
   "source": [
    "df['jour_type'] = df['date_et_heure_de_comptage_dayname'].apply(lambda x: 'Week-end' if x in ['Saturday', 'Sunday'] else 'Semaine')\n",
    "sns.boxplot(x='jour_type', y='comptage_horaire', data=df)\n",
    "plt.title(\"Comparaison semaine vs week-end\")\n",
    "plt.show()"
   ]
  },
  {
   "cell_type": "code",
   "execution_count": null,
   "id": "40",
   "metadata": {},
   "outputs": [],
   "source": [
    "df_ts = df.set_index('date_et_heure_de_comptage_local').resample('D')['comptage_horaire'].sum().dropna()\n",
    "df_ts.plot(figsize=(14, 6), title=\"Évolution journalière du trafic cycliste\")"
   ]
  },
  {
   "cell_type": "code",
   "execution_count": null,
   "id": "41",
   "metadata": {},
   "outputs": [],
   "source": [
    "mean = df_ts.mean()\n",
    "std = df_ts.std()\n",
    "anomalies = df_ts[(df_ts < mean - 2 * std) | (df_ts > mean + 2 * std)]\n",
    "\n",
    "plt.figure(figsize=(14, 6))\n",
    "df_ts.plot(label=\"Trafic\")\n",
    "anomalies.plot(style='ro', label=\"Anomalies\")\n",
    "plt.axhline(mean, color='green', linestyle='--', label='Moyenne')\n",
    "plt.title(\"Anomalies du trafic cycliste\")\n",
    "plt.legend()\n",
    "plt.show()\n",
    "\n",
    "print(\"Jours détectés comme anomalies :\")\n",
    "print(anomalies)"
   ]
  },
  {
   "cell_type": "code",
   "execution_count": null,
   "id": "42",
   "metadata": {},
   "outputs": [],
   "source": [
    "print(\"\\n--- Statistiques descriptives du 'Comptage horaire' (si numérique) ---\")\n",
    "print(df['comptage_horaire'].describe())\n",
    "\n",
    "print(\"\\n--- Nombre d'enregistrements par site de comptage ---\")\n",
    "print(df['nom_du_compteur'].value_counts())\n",
    "\n",
    "print(\"\\n--- Nombre d'enregistrements par identifiant de compteur ---\")\n",
    "print(df['identifiant_du_compteur'].value_counts())\n",
    "\n",
    "print(\"\\n--- Nombre de sites de comptage uniques ---\")\n",
    "print(f\"Nombre de Nom de compteur uniques: {df['nom_du_compteur'].nunique()}\")\n",
    "print(f\"Nombre d'Identifiant de compteur uniques: {df['identifiant_du_compteur'].nunique()}\")"
   ]
  },
  {
   "cell_type": "code",
   "execution_count": null,
   "id": "43",
   "metadata": {},
   "outputs": [],
   "source": [
    "# Cellule en doublon avec le 1. qui existe déjà au tout début, a supprimer (mis en commentaire pour le moment)\n",
    "\n",
    "# # 4.1. Distribution du nombre d'enregistrements ('Comptage horaire' si numérique)\n",
    "# plt.figure(figsize=(10, 6))\n",
    "# sns.histplot(df['comptage_horaire'], bins=50, kde=True)\n",
    "# plt.title('Distribution des valeurs de \"Comptage horaire\"')\n",
    "# plt.xlabel('Valeur de \"Comptage horaire\"')\n",
    "# plt.ylabel('Fréquence')\n",
    "# plt.show()"
   ]
  },
  {
   "cell_type": "code",
   "execution_count": null,
   "id": "44",
   "metadata": {},
   "outputs": [],
   "source": [
    "# A supprimer (donnée date d'installation du site de comptage abandonnée dans la version preprocessed (jugée non pertinente avec \n",
    "# les autres données spécifiques aux compteurs))\n",
    "\n",
    "# plt.figure(figsize=(12, 6))\n",
    "# df['Date d\\'installation du site de comptage'].dt.year.value_counts().sort_index().plot(kind='bar')\n",
    "# plt.title('Nombre d\\'installations de sites par année')\n",
    "# plt.xlabel('Année d\\'installation')\n",
    "# plt.ylabel('Nombre de sites installés')\n",
    "# plt.xticks(rotation=45)\n",
    "# plt.show()"
   ]
  }
 ],
 "metadata": {
  "kernelspec": {
   "display_name": "Python 3",
   "language": "python",
   "name": "python3"
  },
  "language_info": {
   "codemirror_mode": {
    "name": "ipython",
    "version": 3
   },
   "file_extension": ".py",
   "mimetype": "text/x-python",
   "name": "python",
   "nbconvert_exporter": "python",
   "pygments_lexer": "ipython3",
   "version": "3.12.9"
  }
 },
 "nbformat": 4,
 "nbformat_minor": 5
}
