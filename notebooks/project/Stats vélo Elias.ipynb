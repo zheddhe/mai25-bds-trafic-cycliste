{
 "cells": [
  {
   "cell_type": "code",
   "execution_count": 3,
   "id": "08b5815e",
   "metadata": {},
   "outputs": [],
   "source": [
    "import pandas as pd\n",
    "import numpy as np\n",
    "import pandas as pd\n",
    "import numpy as np\n",
    "# import random\n",
    "\n",
    "### Machine Learning\n",
    "\n",
    "# transformation\n",
    "from sklearn.preprocessing import MinMaxScaler, RobustScaler, StandardScaler, OneHotEncoder\n",
    "\n",
    "# models\n",
    "from sklearn.model_selection import train_test_split\n",
    "\n",
    "# metrics and evaluation\n",
    "from scipy.stats import probplot\n",
    "\n",
    "### Data Viz\n",
    "\n",
    "# graphical basics\n",
    "import matplotlib.pyplot as plt\n",
    "%matplotlib inline\n",
    "\n",
    "# graphical seaborn\n",
    "import seaborn as sns\n",
    "\n",
    "# # graphical plotly\n",
    "# import plotly.graph_objects as go\n",
    "# import plotly.express as px\n",
    "# # for jupyter notebook display management\n",
    "# import plotly.io as pio\n",
    "# pio.renderers.default = \"notebook\""
   ]
  },
  {
   "cell_type": "code",
   "execution_count": 4,
   "id": "42686303",
   "metadata": {},
   "outputs": [],
   "source": [
    "df = pd.read_csv(\"C:/Users/elias/Downloads/comptage-velo-donnees-compteurs.csv\" , sep =';')"
   ]
  },
  {
   "cell_type": "code",
   "execution_count": 5,
   "id": "4aff35e9",
   "metadata": {},
   "outputs": [
    {
     "data": {
      "text/html": [
       "<div>\n",
       "<style scoped>\n",
       "    .dataframe tbody tr th:only-of-type {\n",
       "        vertical-align: middle;\n",
       "    }\n",
       "\n",
       "    .dataframe tbody tr th {\n",
       "        vertical-align: top;\n",
       "    }\n",
       "\n",
       "    .dataframe thead th {\n",
       "        text-align: right;\n",
       "    }\n",
       "</style>\n",
       "<table border=\"1\" class=\"dataframe\">\n",
       "  <thead>\n",
       "    <tr style=\"text-align: right;\">\n",
       "      <th></th>\n",
       "      <th>Identifiant du compteur</th>\n",
       "      <th>Nom du compteur</th>\n",
       "      <th>Identifiant du site de comptage</th>\n",
       "      <th>Nom du site de comptage</th>\n",
       "      <th>Comptage horaire</th>\n",
       "      <th>Date et heure de comptage</th>\n",
       "      <th>Date d'installation du site de comptage</th>\n",
       "      <th>Lien vers photo du site de comptage</th>\n",
       "      <th>Coordonnées géographiques</th>\n",
       "      <th>Identifiant technique compteur</th>\n",
       "      <th>ID Photos</th>\n",
       "      <th>test_lien_vers_photos_du_site_de_comptage_</th>\n",
       "      <th>id_photo_1</th>\n",
       "      <th>url_sites</th>\n",
       "      <th>type_dimage</th>\n",
       "      <th>mois_annee_comptage</th>\n",
       "    </tr>\n",
       "  </thead>\n",
       "  <tbody>\n",
       "    <tr>\n",
       "      <th>0</th>\n",
       "      <td>100003098-101003098</td>\n",
       "      <td>106 avenue Denfert Rochereau NE-SO</td>\n",
       "      <td>100003098.0</td>\n",
       "      <td>106 avenue Denfert Rochereau</td>\n",
       "      <td>0</td>\n",
       "      <td>2024-05-01T05:00:00+02:00</td>\n",
       "      <td>2012-02-22</td>\n",
       "      <td>https://filer.eco-counter-tools.com/file/09/73...</td>\n",
       "      <td>48.83507,2.33305</td>\n",
       "      <td>Y2H20114504</td>\n",
       "      <td>https://filer.eco-counter-tools.com/file/09/73...</td>\n",
       "      <td>https://filer.eco-counter-tools.com/file/09/73...</td>\n",
       "      <td>https:</td>\n",
       "      <td>https://www.eco-visio.net/Photos/100003098</td>\n",
       "      <td>jpg</td>\n",
       "      <td>2024-05</td>\n",
       "    </tr>\n",
       "    <tr>\n",
       "      <th>1</th>\n",
       "      <td>100003098-101003098</td>\n",
       "      <td>106 avenue Denfert Rochereau NE-SO</td>\n",
       "      <td>100003098.0</td>\n",
       "      <td>106 avenue Denfert Rochereau</td>\n",
       "      <td>0</td>\n",
       "      <td>2024-05-01T09:00:00+02:00</td>\n",
       "      <td>2012-02-22</td>\n",
       "      <td>https://filer.eco-counter-tools.com/file/09/73...</td>\n",
       "      <td>48.83507,2.33305</td>\n",
       "      <td>Y2H20114504</td>\n",
       "      <td>https://filer.eco-counter-tools.com/file/09/73...</td>\n",
       "      <td>https://filer.eco-counter-tools.com/file/09/73...</td>\n",
       "      <td>https:</td>\n",
       "      <td>https://www.eco-visio.net/Photos/100003098</td>\n",
       "      <td>jpg</td>\n",
       "      <td>2024-05</td>\n",
       "    </tr>\n",
       "    <tr>\n",
       "      <th>2</th>\n",
       "      <td>100003098-101003098</td>\n",
       "      <td>106 avenue Denfert Rochereau NE-SO</td>\n",
       "      <td>100003098.0</td>\n",
       "      <td>106 avenue Denfert Rochereau</td>\n",
       "      <td>0</td>\n",
       "      <td>2024-05-01T08:00:00+02:00</td>\n",
       "      <td>2012-02-22</td>\n",
       "      <td>https://filer.eco-counter-tools.com/file/09/73...</td>\n",
       "      <td>48.83507,2.33305</td>\n",
       "      <td>Y2H20114504</td>\n",
       "      <td>https://filer.eco-counter-tools.com/file/09/73...</td>\n",
       "      <td>https://filer.eco-counter-tools.com/file/09/73...</td>\n",
       "      <td>https:</td>\n",
       "      <td>https://www.eco-visio.net/Photos/100003098</td>\n",
       "      <td>jpg</td>\n",
       "      <td>2024-05</td>\n",
       "    </tr>\n",
       "    <tr>\n",
       "      <th>3</th>\n",
       "      <td>100003098-101003098</td>\n",
       "      <td>106 avenue Denfert Rochereau NE-SO</td>\n",
       "      <td>100003098.0</td>\n",
       "      <td>106 avenue Denfert Rochereau</td>\n",
       "      <td>0</td>\n",
       "      <td>2024-05-01T06:00:00+02:00</td>\n",
       "      <td>2012-02-22</td>\n",
       "      <td>https://filer.eco-counter-tools.com/file/09/73...</td>\n",
       "      <td>48.83507,2.33305</td>\n",
       "      <td>Y2H20114504</td>\n",
       "      <td>https://filer.eco-counter-tools.com/file/09/73...</td>\n",
       "      <td>https://filer.eco-counter-tools.com/file/09/73...</td>\n",
       "      <td>https:</td>\n",
       "      <td>https://www.eco-visio.net/Photos/100003098</td>\n",
       "      <td>jpg</td>\n",
       "      <td>2024-05</td>\n",
       "    </tr>\n",
       "    <tr>\n",
       "      <th>4</th>\n",
       "      <td>100003098-101003098</td>\n",
       "      <td>106 avenue Denfert Rochereau NE-SO</td>\n",
       "      <td>100003098.0</td>\n",
       "      <td>106 avenue Denfert Rochereau</td>\n",
       "      <td>0</td>\n",
       "      <td>2024-05-01T14:00:00+02:00</td>\n",
       "      <td>2012-02-22</td>\n",
       "      <td>https://filer.eco-counter-tools.com/file/09/73...</td>\n",
       "      <td>48.83507,2.33305</td>\n",
       "      <td>Y2H20114504</td>\n",
       "      <td>https://filer.eco-counter-tools.com/file/09/73...</td>\n",
       "      <td>https://filer.eco-counter-tools.com/file/09/73...</td>\n",
       "      <td>https:</td>\n",
       "      <td>https://www.eco-visio.net/Photos/100003098</td>\n",
       "      <td>jpg</td>\n",
       "      <td>2024-05</td>\n",
       "    </tr>\n",
       "  </tbody>\n",
       "</table>\n",
       "</div>"
      ],
      "text/plain": [
       "  Identifiant du compteur                     Nom du compteur  \\\n",
       "0     100003098-101003098  106 avenue Denfert Rochereau NE-SO   \n",
       "1     100003098-101003098  106 avenue Denfert Rochereau NE-SO   \n",
       "2     100003098-101003098  106 avenue Denfert Rochereau NE-SO   \n",
       "3     100003098-101003098  106 avenue Denfert Rochereau NE-SO   \n",
       "4     100003098-101003098  106 avenue Denfert Rochereau NE-SO   \n",
       "\n",
       "   Identifiant du site de comptage       Nom du site de comptage  \\\n",
       "0                      100003098.0  106 avenue Denfert Rochereau   \n",
       "1                      100003098.0  106 avenue Denfert Rochereau   \n",
       "2                      100003098.0  106 avenue Denfert Rochereau   \n",
       "3                      100003098.0  106 avenue Denfert Rochereau   \n",
       "4                      100003098.0  106 avenue Denfert Rochereau   \n",
       "\n",
       "   Comptage horaire  Date et heure de comptage  \\\n",
       "0                 0  2024-05-01T05:00:00+02:00   \n",
       "1                 0  2024-05-01T09:00:00+02:00   \n",
       "2                 0  2024-05-01T08:00:00+02:00   \n",
       "3                 0  2024-05-01T06:00:00+02:00   \n",
       "4                 0  2024-05-01T14:00:00+02:00   \n",
       "\n",
       "  Date d'installation du site de comptage  \\\n",
       "0                              2012-02-22   \n",
       "1                              2012-02-22   \n",
       "2                              2012-02-22   \n",
       "3                              2012-02-22   \n",
       "4                              2012-02-22   \n",
       "\n",
       "                 Lien vers photo du site de comptage  \\\n",
       "0  https://filer.eco-counter-tools.com/file/09/73...   \n",
       "1  https://filer.eco-counter-tools.com/file/09/73...   \n",
       "2  https://filer.eco-counter-tools.com/file/09/73...   \n",
       "3  https://filer.eco-counter-tools.com/file/09/73...   \n",
       "4  https://filer.eco-counter-tools.com/file/09/73...   \n",
       "\n",
       "  Coordonnées géographiques Identifiant technique compteur  \\\n",
       "0          48.83507,2.33305                    Y2H20114504   \n",
       "1          48.83507,2.33305                    Y2H20114504   \n",
       "2          48.83507,2.33305                    Y2H20114504   \n",
       "3          48.83507,2.33305                    Y2H20114504   \n",
       "4          48.83507,2.33305                    Y2H20114504   \n",
       "\n",
       "                                           ID Photos  \\\n",
       "0  https://filer.eco-counter-tools.com/file/09/73...   \n",
       "1  https://filer.eco-counter-tools.com/file/09/73...   \n",
       "2  https://filer.eco-counter-tools.com/file/09/73...   \n",
       "3  https://filer.eco-counter-tools.com/file/09/73...   \n",
       "4  https://filer.eco-counter-tools.com/file/09/73...   \n",
       "\n",
       "          test_lien_vers_photos_du_site_de_comptage_ id_photo_1  \\\n",
       "0  https://filer.eco-counter-tools.com/file/09/73...     https:   \n",
       "1  https://filer.eco-counter-tools.com/file/09/73...     https:   \n",
       "2  https://filer.eco-counter-tools.com/file/09/73...     https:   \n",
       "3  https://filer.eco-counter-tools.com/file/09/73...     https:   \n",
       "4  https://filer.eco-counter-tools.com/file/09/73...     https:   \n",
       "\n",
       "                                    url_sites type_dimage mois_annee_comptage  \n",
       "0  https://www.eco-visio.net/Photos/100003098         jpg             2024-05  \n",
       "1  https://www.eco-visio.net/Photos/100003098         jpg             2024-05  \n",
       "2  https://www.eco-visio.net/Photos/100003098         jpg             2024-05  \n",
       "3  https://www.eco-visio.net/Photos/100003098         jpg             2024-05  \n",
       "4  https://www.eco-visio.net/Photos/100003098         jpg             2024-05  "
      ]
     },
     "execution_count": 5,
     "metadata": {},
     "output_type": "execute_result"
    }
   ],
   "source": [
    "df.head()"
   ]
  },
  {
   "cell_type": "code",
   "execution_count": 6,
   "id": "058f7ceb",
   "metadata": {},
   "outputs": [
    {
     "data": {
      "text/html": [
       "<div>\n",
       "<style scoped>\n",
       "    .dataframe tbody tr th:only-of-type {\n",
       "        vertical-align: middle;\n",
       "    }\n",
       "\n",
       "    .dataframe tbody tr th {\n",
       "        vertical-align: top;\n",
       "    }\n",
       "\n",
       "    .dataframe thead th {\n",
       "        text-align: right;\n",
       "    }\n",
       "</style>\n",
       "<table border=\"1\" class=\"dataframe\">\n",
       "  <thead>\n",
       "    <tr style=\"text-align: right;\">\n",
       "      <th></th>\n",
       "      <th>Identifiant du site de comptage</th>\n",
       "      <th>Comptage horaire</th>\n",
       "    </tr>\n",
       "  </thead>\n",
       "  <tbody>\n",
       "    <tr>\n",
       "      <th>count</th>\n",
       "      <td>8.883340e+05</td>\n",
       "      <td>921476.000000</td>\n",
       "    </tr>\n",
       "    <tr>\n",
       "      <th>mean</th>\n",
       "      <td>1.345994e+08</td>\n",
       "      <td>79.256685</td>\n",
       "    </tr>\n",
       "    <tr>\n",
       "      <th>std</th>\n",
       "      <td>7.560230e+07</td>\n",
       "      <td>108.152215</td>\n",
       "    </tr>\n",
       "    <tr>\n",
       "      <th>min</th>\n",
       "      <td>1.000031e+08</td>\n",
       "      <td>0.000000</td>\n",
       "    </tr>\n",
       "    <tr>\n",
       "      <th>25%</th>\n",
       "      <td>1.000475e+08</td>\n",
       "      <td>11.000000</td>\n",
       "    </tr>\n",
       "    <tr>\n",
       "      <th>50%</th>\n",
       "      <td>1.000560e+08</td>\n",
       "      <td>44.000000</td>\n",
       "    </tr>\n",
       "    <tr>\n",
       "      <th>75%</th>\n",
       "      <td>1.000563e+08</td>\n",
       "      <td>99.000000</td>\n",
       "    </tr>\n",
       "    <tr>\n",
       "      <th>max</th>\n",
       "      <td>3.000303e+08</td>\n",
       "      <td>3070.000000</td>\n",
       "    </tr>\n",
       "  </tbody>\n",
       "</table>\n",
       "</div>"
      ],
      "text/plain": [
       "       Identifiant du site de comptage  Comptage horaire\n",
       "count                     8.883340e+05     921476.000000\n",
       "mean                      1.345994e+08         79.256685\n",
       "std                       7.560230e+07        108.152215\n",
       "min                       1.000031e+08          0.000000\n",
       "25%                       1.000475e+08         11.000000\n",
       "50%                       1.000560e+08         44.000000\n",
       "75%                       1.000563e+08         99.000000\n",
       "max                       3.000303e+08       3070.000000"
      ]
     },
     "execution_count": 6,
     "metadata": {},
     "output_type": "execute_result"
    }
   ],
   "source": [
    "df.describe()"
   ]
  },
  {
   "cell_type": "code",
   "execution_count": 7,
   "id": "9031f59e",
   "metadata": {},
   "outputs": [],
   "source": [
    "# Convertir 'Date d\\'installation du site de comptage' en datetime\n",
    "df['Date d\\'installation du site de comptage'] = pd.to_datetime(df['Date d\\'installation du site de comptage'], errors='coerce')\n",
    "\n",
    "# Gérer les coordonnées géographiques\n",
    "df[['Latitude', 'Longitude']] = df['Coordonnées géographiques'].str.split(',', expand=True).astype(float)\n",
    "\n",
    "# Traiter 'Comptage horaire' comme numérique pour les statistiques (si c'est bien une valeur)\n",
    "# Si cette colonne est un simple index ou ID, les stats qui en découlent n'auront pas de sens de \"trafic\"\n",
    "df['Comptage horaire'] = pd.to_numeric(df['Comptage horaire'])"
   ]
  },
  {
   "cell_type": "code",
   "execution_count": 8,
   "id": "8a4721ee",
   "metadata": {},
   "outputs": [
    {
     "name": "stdout",
     "output_type": "stream",
     "text": [
      "La colonne 'Date et heure du comptage' est manquante. Certaines analyses temporelles ne seront pas possibles.\n"
     ]
    }
   ],
   "source": [
    "if 'Date et heure du comptage' in df.columns:\n",
    "    df['Date et heure du comptage'] = pd.to_datetime(df['Date et heure du comptage'], utc=True, errors='coerce')\n",
    "    # Extraire des composants temporels\n",
    "    df['Année'] = df['Date et heure du comptage'].dt.year\n",
    "    df['Mois'] = df['Date et heure du comptage'].dt.month_name()\n",
    "    df['Jour'] = df['Date et heure du comptage'].dt.day_name()\n",
    "    df['Heure'] = df['Date et heure du comptage'].dt.hour\n",
    "    df['Semaine'] = df['Date et heure du comptage'].dt.isocalendar().week.astype(int) # Numéro de la semaine de l'année\n",
    "    df['Jour de la semaine Num'] = df['Date et heure du comptage'].dt.dayofweek # Lundi=0, Dimanche=6\n",
    "else:\n",
    "    print(\"La colonne 'Date et heure du comptage' est manquante. Certaines analyses temporelles ne seront pas possibles.\")"
   ]
  },
  {
   "cell_type": "code",
   "execution_count": 9,
   "id": "b6bd86fd",
   "metadata": {},
   "outputs": [
    {
     "name": "stdout",
     "output_type": "stream",
     "text": [
      "\n",
      "--- Statistiques descriptives du 'Comptage horaire' (si numérique) ---\n",
      "count    921476.000000\n",
      "mean         79.256685\n",
      "std         108.152215\n",
      "min           0.000000\n",
      "25%          11.000000\n",
      "50%          44.000000\n",
      "75%          99.000000\n",
      "max        3070.000000\n",
      "Name: Comptage horaire, dtype: float64\n",
      "\n",
      "--- Nombre d'enregistrements par site de comptage ---\n",
      "Nom du compteur\n",
      "106 avenue Denfert Rochereau NE-SO                                      9594\n",
      "Face au 40 quai D'Issy SO-NE                                            9594\n",
      "36 quai de Grenelle SO-NE                                               9594\n",
      "36 quai de Grenelle NE-SO                                               9594\n",
      "Pont Charles De Gaulle SO-NE                                            9594\n",
      "                                                                        ... \n",
      "Quai des Tuileries Quai des Tuileries Vélos NO-SE                       2232\n",
      "Face au 48 quai de la marne Face au 48 quai de la marne Vélos SO-NE     2232\n",
      "Face au 48 quai de la marne Face au 48 quai de la marne Vélos NE-SO     2232\n",
      "10 avenue de la Grande Armée 10 avenue de la Grande Armée [Bike IN]     1044\n",
      "10 avenue de la Grande Armée 10 avenue de la Grande Armée [Bike OUT]       1\n",
      "Name: count, Length: 108, dtype: int64\n",
      "\n",
      "--- Nombre d'enregistrements par identifiant de compteur ---\n",
      "Identifiant du compteur\n",
      "100003098-101003098    9594\n",
      "100056226-103056226    9594\n",
      "100056331-104056331    9594\n",
      "100056330-103056330    9594\n",
      "100056330-104056330    9594\n",
      "                       ... \n",
      "100056035-353266462    7123\n",
      "100056223-101056223    4839\n",
      "100050876-103050876    2520\n",
      "100050876-104050876    2520\n",
      "100044494-353504987    2520\n",
      "Name: count, Length: 97, dtype: int64\n",
      "\n",
      "--- Nombre de sites de comptage uniques ---\n",
      "Nombre de Nom du compteur uniques: 108\n",
      "Nombre de Identifiant du compteur uniques: 97\n"
     ]
    }
   ],
   "source": [
    "print(\"\\n--- Statistiques descriptives du 'Comptage horaire' (si numérique) ---\")\n",
    "print(df['Comptage horaire'].describe())\n",
    "\n",
    "print(\"\\n--- Nombre d'enregistrements par site de comptage ---\")\n",
    "print(df['Nom du compteur'].value_counts())\n",
    "\n",
    "print(\"\\n--- Nombre d'enregistrements par identifiant de compteur ---\")\n",
    "print(df['Identifiant du compteur'].value_counts())\n",
    "\n",
    "print(\"\\n--- Nombre de sites de comptage uniques ---\")\n",
    "print(f\"Nombre de Nom du compteur uniques: {df['Nom du compteur'].nunique()}\")\n",
    "print(f\"Nombre de Identifiant du compteur uniques: {df['Identifiant du compteur'].nunique()}\")"
   ]
  },
  {
   "cell_type": "code",
   "execution_count": 10,
   "id": "435aef0f",
   "metadata": {},
   "outputs": [
    {
     "ename": "KeyError",
     "evalue": "'Nombre de cyclistes'",
     "output_type": "error",
     "traceback": [
      "\u001b[31m---------------------------------------------------------------------------\u001b[39m",
      "\u001b[31mKeyError\u001b[39m                                  Traceback (most recent call last)",
      "\u001b[36mFile \u001b[39m\u001b[32m~\\AppData\\Local\\Packages\\PythonSoftwareFoundation.Python.3.11_qbz5n2kfra8p0\\LocalCache\\local-packages\\Python311\\site-packages\\pandas\\core\\indexes\\base.py:3812\u001b[39m, in \u001b[36mIndex.get_loc\u001b[39m\u001b[34m(self, key)\u001b[39m\n\u001b[32m   3811\u001b[39m \u001b[38;5;28;01mtry\u001b[39;00m:\n\u001b[32m-> \u001b[39m\u001b[32m3812\u001b[39m     \u001b[38;5;28;01mreturn\u001b[39;00m \u001b[38;5;28;43mself\u001b[39;49m\u001b[43m.\u001b[49m\u001b[43m_engine\u001b[49m\u001b[43m.\u001b[49m\u001b[43mget_loc\u001b[49m\u001b[43m(\u001b[49m\u001b[43mcasted_key\u001b[49m\u001b[43m)\u001b[49m\n\u001b[32m   3813\u001b[39m \u001b[38;5;28;01mexcept\u001b[39;00m \u001b[38;5;167;01mKeyError\u001b[39;00m \u001b[38;5;28;01mas\u001b[39;00m err:\n",
      "\u001b[36mFile \u001b[39m\u001b[32mpandas/_libs/index.pyx:167\u001b[39m, in \u001b[36mpandas._libs.index.IndexEngine.get_loc\u001b[39m\u001b[34m()\u001b[39m\n",
      "\u001b[36mFile \u001b[39m\u001b[32mpandas/_libs/index.pyx:196\u001b[39m, in \u001b[36mpandas._libs.index.IndexEngine.get_loc\u001b[39m\u001b[34m()\u001b[39m\n",
      "\u001b[36mFile \u001b[39m\u001b[32mpandas/_libs/hashtable_class_helper.pxi:7088\u001b[39m, in \u001b[36mpandas._libs.hashtable.PyObjectHashTable.get_item\u001b[39m\u001b[34m()\u001b[39m\n",
      "\u001b[36mFile \u001b[39m\u001b[32mpandas/_libs/hashtable_class_helper.pxi:7096\u001b[39m, in \u001b[36mpandas._libs.hashtable.PyObjectHashTable.get_item\u001b[39m\u001b[34m()\u001b[39m\n",
      "\u001b[31mKeyError\u001b[39m: 'Nombre de cyclistes'",
      "\nThe above exception was the direct cause of the following exception:\n",
      "\u001b[31mKeyError\u001b[39m                                  Traceback (most recent call last)",
      "\u001b[36mCell\u001b[39m\u001b[36m \u001b[39m\u001b[32mIn[10]\u001b[39m\u001b[32m, line 7\u001b[39m\n\u001b[32m      5\u001b[39m \u001b[38;5;66;03m# 4.1. Distribution du nombre de cyclistes\u001b[39;00m\n\u001b[32m      6\u001b[39m plt.figure(figsize=(\u001b[32m10\u001b[39m, \u001b[32m6\u001b[39m))\n\u001b[32m----> \u001b[39m\u001b[32m7\u001b[39m sns.histplot(\u001b[43mdf\u001b[49m\u001b[43m[\u001b[49m\u001b[33;43m'\u001b[39;49m\u001b[33;43mNombre de cyclistes\u001b[39;49m\u001b[33;43m'\u001b[39;49m\u001b[43m]\u001b[49m, bins=\u001b[32m50\u001b[39m, kde=\u001b[38;5;28;01mTrue\u001b[39;00m)\n\u001b[32m      8\u001b[39m plt.title(\u001b[33m'\u001b[39m\u001b[33mDistribution du nombre de cyclistes\u001b[39m\u001b[33m'\u001b[39m)\n\u001b[32m      9\u001b[39m plt.xlabel(\u001b[33m'\u001b[39m\u001b[33mNombre de cyclistes\u001b[39m\u001b[33m'\u001b[39m)\n",
      "\u001b[36mFile \u001b[39m\u001b[32m~\\AppData\\Local\\Packages\\PythonSoftwareFoundation.Python.3.11_qbz5n2kfra8p0\\LocalCache\\local-packages\\Python311\\site-packages\\pandas\\core\\frame.py:4107\u001b[39m, in \u001b[36mDataFrame.__getitem__\u001b[39m\u001b[34m(self, key)\u001b[39m\n\u001b[32m   4105\u001b[39m \u001b[38;5;28;01mif\u001b[39;00m \u001b[38;5;28mself\u001b[39m.columns.nlevels > \u001b[32m1\u001b[39m:\n\u001b[32m   4106\u001b[39m     \u001b[38;5;28;01mreturn\u001b[39;00m \u001b[38;5;28mself\u001b[39m._getitem_multilevel(key)\n\u001b[32m-> \u001b[39m\u001b[32m4107\u001b[39m indexer = \u001b[38;5;28;43mself\u001b[39;49m\u001b[43m.\u001b[49m\u001b[43mcolumns\u001b[49m\u001b[43m.\u001b[49m\u001b[43mget_loc\u001b[49m\u001b[43m(\u001b[49m\u001b[43mkey\u001b[49m\u001b[43m)\u001b[49m\n\u001b[32m   4108\u001b[39m \u001b[38;5;28;01mif\u001b[39;00m is_integer(indexer):\n\u001b[32m   4109\u001b[39m     indexer = [indexer]\n",
      "\u001b[36mFile \u001b[39m\u001b[32m~\\AppData\\Local\\Packages\\PythonSoftwareFoundation.Python.3.11_qbz5n2kfra8p0\\LocalCache\\local-packages\\Python311\\site-packages\\pandas\\core\\indexes\\base.py:3819\u001b[39m, in \u001b[36mIndex.get_loc\u001b[39m\u001b[34m(self, key)\u001b[39m\n\u001b[32m   3814\u001b[39m     \u001b[38;5;28;01mif\u001b[39;00m \u001b[38;5;28misinstance\u001b[39m(casted_key, \u001b[38;5;28mslice\u001b[39m) \u001b[38;5;129;01mor\u001b[39;00m (\n\u001b[32m   3815\u001b[39m         \u001b[38;5;28misinstance\u001b[39m(casted_key, abc.Iterable)\n\u001b[32m   3816\u001b[39m         \u001b[38;5;129;01mand\u001b[39;00m \u001b[38;5;28many\u001b[39m(\u001b[38;5;28misinstance\u001b[39m(x, \u001b[38;5;28mslice\u001b[39m) \u001b[38;5;28;01mfor\u001b[39;00m x \u001b[38;5;129;01min\u001b[39;00m casted_key)\n\u001b[32m   3817\u001b[39m     ):\n\u001b[32m   3818\u001b[39m         \u001b[38;5;28;01mraise\u001b[39;00m InvalidIndexError(key)\n\u001b[32m-> \u001b[39m\u001b[32m3819\u001b[39m     \u001b[38;5;28;01mraise\u001b[39;00m \u001b[38;5;167;01mKeyError\u001b[39;00m(key) \u001b[38;5;28;01mfrom\u001b[39;00m\u001b[38;5;250m \u001b[39m\u001b[34;01merr\u001b[39;00m\n\u001b[32m   3820\u001b[39m \u001b[38;5;28;01mexcept\u001b[39;00m \u001b[38;5;167;01mTypeError\u001b[39;00m:\n\u001b[32m   3821\u001b[39m     \u001b[38;5;66;03m# If we have a listlike key, _check_indexing_error will raise\u001b[39;00m\n\u001b[32m   3822\u001b[39m     \u001b[38;5;66;03m#  InvalidIndexError. Otherwise we fall through and re-raise\u001b[39;00m\n\u001b[32m   3823\u001b[39m     \u001b[38;5;66;03m#  the TypeError.\u001b[39;00m\n\u001b[32m   3824\u001b[39m     \u001b[38;5;28mself\u001b[39m._check_indexing_error(key)\n",
      "\u001b[31mKeyError\u001b[39m: 'Nombre de cyclistes'"
     ]
    },
    {
     "data": {
      "text/plain": [
       "<Figure size 1200x800 with 0 Axes>"
      ]
     },
     "metadata": {},
     "output_type": "display_data"
    },
    {
     "data": {
      "text/plain": [
       "<Figure size 1000x600 with 0 Axes>"
      ]
     },
     "metadata": {},
     "output_type": "display_data"
    }
   ],
   "source": [
    "# Configuration des styles de graphique\n",
    "sns.set_style(\"whitegrid\")\n",
    "plt.figure(figsize=(12, 8))\n",
    "\n",
    "# 4.1. Distribution du nombre de cyclistes\n",
    "plt.figure(figsize=(10, 6))\n",
    "sns.histplot(df['Nombre de cyclistes'], bins=50, kde=True)\n",
    "plt.title('Distribution du nombre de cyclistes')\n",
    "plt.xlabel('Nombre de cyclistes')\n",
    "plt.ylabel('Fréquence')\n",
    "plt.show()"
   ]
  },
  {
   "cell_type": "code",
   "execution_count": null,
   "id": "8b5eae5b",
   "metadata": {},
   "outputs": [
    {
     "name": "stdout",
     "output_type": "stream",
     "text": [
      "\n",
      "--- Statistiques descriptives du 'Comptage horaire' (si numérique) ---\n",
      "count    921476.000000\n",
      "mean         79.256685\n",
      "std         108.152215\n",
      "min           0.000000\n",
      "25%          11.000000\n",
      "50%          44.000000\n",
      "75%          99.000000\n",
      "max        3070.000000\n",
      "Name: Comptage horaire, dtype: float64\n",
      "\n",
      "--- Nombre d'enregistrements par site de comptage ---\n",
      "Nom du compteur\n",
      "106 avenue Denfert Rochereau NE-SO                                      9594\n",
      "Face au 40 quai D'Issy SO-NE                                            9594\n",
      "36 quai de Grenelle SO-NE                                               9594\n",
      "36 quai de Grenelle NE-SO                                               9594\n",
      "Pont Charles De Gaulle SO-NE                                            9594\n",
      "                                                                        ... \n",
      "Quai des Tuileries Quai des Tuileries Vélos NO-SE                       2232\n",
      "Face au 48 quai de la marne Face au 48 quai de la marne Vélos SO-NE     2232\n",
      "Face au 48 quai de la marne Face au 48 quai de la marne Vélos NE-SO     2232\n",
      "10 avenue de la Grande Armée 10 avenue de la Grande Armée [Bike IN]     1044\n",
      "10 avenue de la Grande Armée 10 avenue de la Grande Armée [Bike OUT]       1\n",
      "Name: count, Length: 108, dtype: int64\n",
      "\n",
      "--- Nombre d'enregistrements par identifiant de compteur ---\n",
      "Identifiant du compteur\n",
      "100003098-101003098    9594\n",
      "100056226-103056226    9594\n",
      "100056331-104056331    9594\n",
      "100056330-103056330    9594\n",
      "100056330-104056330    9594\n",
      "                       ... \n",
      "100056035-353266462    7123\n",
      "100056223-101056223    4839\n",
      "100050876-103050876    2520\n",
      "100050876-104050876    2520\n",
      "100044494-353504987    2520\n",
      "Name: count, Length: 97, dtype: int64\n",
      "\n",
      "--- Nombre de sites de comptage uniques ---\n",
      "Nombre de Nom du compteur uniques: 108\n",
      "Nombre de Identifiant du compteur uniques: 97\n"
     ]
    }
   ],
   "source": [
    "print(\"\\n--- Statistiques descriptives du 'Comptage horaire' (si numérique) ---\")\n",
    "print(df['Comptage horaire'].describe())\n",
    "\n",
    "print(\"\\n--- Nombre d'enregistrements par site de comptage ---\")\n",
    "print(df['Nom du compteur'].value_counts())\n",
    "\n",
    "print(\"\\n--- Nombre d'enregistrements par identifiant de compteur ---\")\n",
    "print(df['Identifiant du compteur'].value_counts())\n",
    "\n",
    "print(\"\\n--- Nombre de sites de comptage uniques ---\")\n",
    "print(f\"Nombre de Nom du compteur uniques: {df['Nom du compteur'].nunique()}\")\n",
    "print(f\"Nombre de Identifiant du compteur uniques: {df['Identifiant du compteur'].nunique()}\")"
   ]
  },
  {
   "cell_type": "code",
   "execution_count": null,
   "id": "53a1660c",
   "metadata": {},
   "outputs": [
    {
     "ename": "SyntaxError",
     "evalue": "incomplete input (1932144879.py, line 8)",
     "output_type": "error",
     "traceback": [
      "  \u001b[36mCell\u001b[39m\u001b[36m \u001b[39m\u001b[32mIn[13]\u001b[39m\u001b[32m, line 8\u001b[39m\n\u001b[31m    \u001b[39m\u001b[31mplt.show()\u001b[39m\n               ^\n\u001b[31mSyntaxError\u001b[39m\u001b[31m:\u001b[39m incomplete input\n"
     ]
    }
   ],
   "source": [
    "try:\n",
    "    plt.figure(figsize=(12, 8))\n",
    "    top_sites = df.groupby('Nom du compteur')['Nombre de cyclistes'].sum().nlargest(15).index\n",
    "    sns.barplot(x='Nombre de cyclistes', y='Nom du compteur', data=df[df['Nom du compteur'].isin(top_sites)].groupby('Nom du compteur')['Nombre de cyclistes'].sum().reset_index().sort_values(by='Nombre de cyclistes', ascending=False))\n",
    "    plt.title('Trafic cycliste total par site de comptage (Top 15)')\n",
    "    plt.xlabel('Nombre total de cyclistes')\n",
    "    plt.ylabel('Nom du site de comptage')\n",
    "    plt.show() "
   ]
  },
  {
   "cell_type": "code",
   "execution_count": null,
   "id": "2e6e7327",
   "metadata": {},
   "outputs": [
    {
     "data": {
      "image/png": "[encoded data removed]",
      "text/plain": [
       "<Figure size 1000x600 with 1 Axes>"
      ]
     },
     "metadata": {},
     "output_type": "display_data"
    }
   ],
   "source": [
    "# 4.1. Distribution du nombre d'enregistrements ('Comptage horaire' si numérique)\n",
    "plt.figure(figsize=(10, 6))\n",
    "sns.histplot(df['Comptage horaire'], bins=50, kde=True)\n",
    "plt.title('Distribution des valeurs de \"Comptage horaire\"')\n",
    "plt.xlabel('Valeur de \"Comptage horaire\"')\n",
    "plt.ylabel('Fréquence')\n",
    "plt.show()"
   ]
  },
  {
   "cell_type": "code",
   "execution_count": null,
   "id": "851bcdef",
   "metadata": {},
   "outputs": [
    {
     "ename": "KeyError",
     "evalue": "'Heure'",
     "output_type": "error",
     "traceback": [
      "\u001b[31m---------------------------------------------------------------------------\u001b[39m",
      "\u001b[31mKeyError\u001b[39m                                  Traceback (most recent call last)",
      "\u001b[36mFile \u001b[39m\u001b[32m~\\AppData\\Local\\Packages\\PythonSoftwareFoundation.Python.3.11_qbz5n2kfra8p0\\LocalCache\\local-packages\\Python311\\site-packages\\pandas\\core\\indexes\\base.py:3812\u001b[39m, in \u001b[36mIndex.get_loc\u001b[39m\u001b[34m(self, key)\u001b[39m\n\u001b[32m   3811\u001b[39m \u001b[38;5;28;01mtry\u001b[39;00m:\n\u001b[32m-> \u001b[39m\u001b[32m3812\u001b[39m     \u001b[38;5;28;01mreturn\u001b[39;00m \u001b[38;5;28;43mself\u001b[39;49m\u001b[43m.\u001b[49m\u001b[43m_engine\u001b[49m\u001b[43m.\u001b[49m\u001b[43mget_loc\u001b[49m\u001b[43m(\u001b[49m\u001b[43mcasted_key\u001b[49m\u001b[43m)\u001b[49m\n\u001b[32m   3813\u001b[39m \u001b[38;5;28;01mexcept\u001b[39;00m \u001b[38;5;167;01mKeyError\u001b[39;00m \u001b[38;5;28;01mas\u001b[39;00m err:\n",
      "\u001b[36mFile \u001b[39m\u001b[32mpandas/_libs/index.pyx:167\u001b[39m, in \u001b[36mpandas._libs.index.IndexEngine.get_loc\u001b[39m\u001b[34m()\u001b[39m\n",
      "\u001b[36mFile \u001b[39m\u001b[32mpandas/_libs/index.pyx:196\u001b[39m, in \u001b[36mpandas._libs.index.IndexEngine.get_loc\u001b[39m\u001b[34m()\u001b[39m\n",
      "\u001b[36mFile \u001b[39m\u001b[32mpandas/_libs/hashtable_class_helper.pxi:7088\u001b[39m, in \u001b[36mpandas._libs.hashtable.PyObjectHashTable.get_item\u001b[39m\u001b[34m()\u001b[39m\n",
      "\u001b[36mFile \u001b[39m\u001b[32mpandas/_libs/hashtable_class_helper.pxi:7096\u001b[39m, in \u001b[36mpandas._libs.hashtable.PyObjectHashTable.get_item\u001b[39m\u001b[34m()\u001b[39m\n",
      "\u001b[31mKeyError\u001b[39m: 'Heure'",
      "\nThe above exception was the direct cause of the following exception:\n",
      "\u001b[31mKeyError\u001b[39m                                  Traceback (most recent call last)",
      "\u001b[36mCell\u001b[39m\u001b[36m \u001b[39m\u001b[32mIn[22]\u001b[39m\u001b[32m, line 2\u001b[39m\n\u001b[32m      1\u001b[39m plt.figure(figsize=(\u001b[32m12\u001b[39m, \u001b[32m6\u001b[39m))\n\u001b[32m----> \u001b[39m\u001b[32m2\u001b[39m \u001b[43mdf\u001b[49m\u001b[43m[\u001b[49m\u001b[33;43m'\u001b[39;49m\u001b[33;43mHeure\u001b[39;49m\u001b[33;43m'\u001b[39;49m\u001b[43m]\u001b[49m.value_counts().sort_index().plot(kind=\u001b[33m'\u001b[39m\u001b[33mbar\u001b[39m\u001b[33m'\u001b[39m)\n\u001b[32m      3\u001b[39m plt.title(\u001b[33m'\u001b[39m\u001b[33mFréquence des enregistrements par heure de la journée\u001b[39m\u001b[33m'\u001b[39m)\n\u001b[32m      4\u001b[39m plt.xlabel(\u001b[33m'\u001b[39m\u001b[33mHeure de la journée\u001b[39m\u001b[33m'\u001b[39m)\n",
      "\u001b[36mFile \u001b[39m\u001b[32m~\\AppData\\Local\\Packages\\PythonSoftwareFoundation.Python.3.11_qbz5n2kfra8p0\\LocalCache\\local-packages\\Python311\\site-packages\\pandas\\core\\frame.py:4107\u001b[39m, in \u001b[36mDataFrame.__getitem__\u001b[39m\u001b[34m(self, key)\u001b[39m\n\u001b[32m   4105\u001b[39m \u001b[38;5;28;01mif\u001b[39;00m \u001b[38;5;28mself\u001b[39m.columns.nlevels > \u001b[32m1\u001b[39m:\n\u001b[32m   4106\u001b[39m     \u001b[38;5;28;01mreturn\u001b[39;00m \u001b[38;5;28mself\u001b[39m._getitem_multilevel(key)\n\u001b[32m-> \u001b[39m\u001b[32m4107\u001b[39m indexer = \u001b[38;5;28;43mself\u001b[39;49m\u001b[43m.\u001b[49m\u001b[43mcolumns\u001b[49m\u001b[43m.\u001b[49m\u001b[43mget_loc\u001b[49m\u001b[43m(\u001b[49m\u001b[43mkey\u001b[49m\u001b[43m)\u001b[49m\n\u001b[32m   4108\u001b[39m \u001b[38;5;28;01mif\u001b[39;00m is_integer(indexer):\n\u001b[32m   4109\u001b[39m     indexer = [indexer]\n",
      "\u001b[36mFile \u001b[39m\u001b[32m~\\AppData\\Local\\Packages\\PythonSoftwareFoundation.Python.3.11_qbz5n2kfra8p0\\LocalCache\\local-packages\\Python311\\site-packages\\pandas\\core\\indexes\\base.py:3819\u001b[39m, in \u001b[36mIndex.get_loc\u001b[39m\u001b[34m(self, key)\u001b[39m\n\u001b[32m   3814\u001b[39m     \u001b[38;5;28;01mif\u001b[39;00m \u001b[38;5;28misinstance\u001b[39m(casted_key, \u001b[38;5;28mslice\u001b[39m) \u001b[38;5;129;01mor\u001b[39;00m (\n\u001b[32m   3815\u001b[39m         \u001b[38;5;28misinstance\u001b[39m(casted_key, abc.Iterable)\n\u001b[32m   3816\u001b[39m         \u001b[38;5;129;01mand\u001b[39;00m \u001b[38;5;28many\u001b[39m(\u001b[38;5;28misinstance\u001b[39m(x, \u001b[38;5;28mslice\u001b[39m) \u001b[38;5;28;01mfor\u001b[39;00m x \u001b[38;5;129;01min\u001b[39;00m casted_key)\n\u001b[32m   3817\u001b[39m     ):\n\u001b[32m   3818\u001b[39m         \u001b[38;5;28;01mraise\u001b[39;00m InvalidIndexError(key)\n\u001b[32m-> \u001b[39m\u001b[32m3819\u001b[39m     \u001b[38;5;28;01mraise\u001b[39;00m \u001b[38;5;167;01mKeyError\u001b[39;00m(key) \u001b[38;5;28;01mfrom\u001b[39;00m\u001b[38;5;250m \u001b[39m\u001b[34;01merr\u001b[39;00m\n\u001b[32m   3820\u001b[39m \u001b[38;5;28;01mexcept\u001b[39;00m \u001b[38;5;167;01mTypeError\u001b[39;00m:\n\u001b[32m   3821\u001b[39m     \u001b[38;5;66;03m# If we have a listlike key, _check_indexing_error will raise\u001b[39;00m\n\u001b[32m   3822\u001b[39m     \u001b[38;5;66;03m#  InvalidIndexError. Otherwise we fall through and re-raise\u001b[39;00m\n\u001b[32m   3823\u001b[39m     \u001b[38;5;66;03m#  the TypeError.\u001b[39;00m\n\u001b[32m   3824\u001b[39m     \u001b[38;5;28mself\u001b[39m._check_indexing_error(key)\n",
      "\u001b[31mKeyError\u001b[39m: 'Heure'"
     ]
    },
    {
     "data": {
      "text/plain": [
       "<Figure size 1200x600 with 0 Axes>"
      ]
     },
     "metadata": {},
     "output_type": "display_data"
    }
   ],
   "source": [
    "plt.figure(figsize=(12, 6))\n",
    "df['Heure'].value_counts().sort_index().plot(kind='bar')\n",
    "plt.title('Fréquence des enregistrements par heure de la journée')\n",
    "plt.xlabel('Heure de la journée')\n",
    "plt.ylabel('Nombre d\\'enregistrements')\n",
    "plt.xticks(rotation=0)\n",
    "plt.show()\n"
   ]
  },
  {
   "cell_type": "code",
   "execution_count": null,
   "id": "d0174c1e",
   "metadata": {},
   "outputs": [
    {
     "ename": "KeyError",
     "evalue": "'Jour'",
     "output_type": "error",
     "traceback": [
      "\u001b[31m---------------------------------------------------------------------------\u001b[39m",
      "\u001b[31mKeyError\u001b[39m                                  Traceback (most recent call last)",
      "\u001b[36mFile \u001b[39m\u001b[32m~\\AppData\\Local\\Packages\\PythonSoftwareFoundation.Python.3.11_qbz5n2kfra8p0\\LocalCache\\local-packages\\Python311\\site-packages\\pandas\\core\\indexes\\base.py:3812\u001b[39m, in \u001b[36mIndex.get_loc\u001b[39m\u001b[34m(self, key)\u001b[39m\n\u001b[32m   3811\u001b[39m \u001b[38;5;28;01mtry\u001b[39;00m:\n\u001b[32m-> \u001b[39m\u001b[32m3812\u001b[39m     \u001b[38;5;28;01mreturn\u001b[39;00m \u001b[38;5;28;43mself\u001b[39;49m\u001b[43m.\u001b[49m\u001b[43m_engine\u001b[49m\u001b[43m.\u001b[49m\u001b[43mget_loc\u001b[49m\u001b[43m(\u001b[49m\u001b[43mcasted_key\u001b[49m\u001b[43m)\u001b[49m\n\u001b[32m   3813\u001b[39m \u001b[38;5;28;01mexcept\u001b[39;00m \u001b[38;5;167;01mKeyError\u001b[39;00m \u001b[38;5;28;01mas\u001b[39;00m err:\n",
      "\u001b[36mFile \u001b[39m\u001b[32mpandas/_libs/index.pyx:167\u001b[39m, in \u001b[36mpandas._libs.index.IndexEngine.get_loc\u001b[39m\u001b[34m()\u001b[39m\n",
      "\u001b[36mFile \u001b[39m\u001b[32mpandas/_libs/index.pyx:196\u001b[39m, in \u001b[36mpandas._libs.index.IndexEngine.get_loc\u001b[39m\u001b[34m()\u001b[39m\n",
      "\u001b[36mFile \u001b[39m\u001b[32mpandas/_libs/hashtable_class_helper.pxi:7088\u001b[39m, in \u001b[36mpandas._libs.hashtable.PyObjectHashTable.get_item\u001b[39m\u001b[34m()\u001b[39m\n",
      "\u001b[36mFile \u001b[39m\u001b[32mpandas/_libs/hashtable_class_helper.pxi:7096\u001b[39m, in \u001b[36mpandas._libs.hashtable.PyObjectHashTable.get_item\u001b[39m\u001b[34m()\u001b[39m\n",
      "\u001b[31mKeyError\u001b[39m: 'Jour'",
      "\nThe above exception was the direct cause of the following exception:\n",
      "\u001b[31mKeyError\u001b[39m                                  Traceback (most recent call last)",
      "\u001b[36mCell\u001b[39m\u001b[36m \u001b[39m\u001b[32mIn[20]\u001b[39m\u001b[32m, line 3\u001b[39m\n\u001b[32m      1\u001b[39m plt.figure(figsize=(\u001b[32m12\u001b[39m, \u001b[32m6\u001b[39m))\n\u001b[32m      2\u001b[39m jours_ordre = [\u001b[33m'\u001b[39m\u001b[33mMonday\u001b[39m\u001b[33m'\u001b[39m, \u001b[33m'\u001b[39m\u001b[33mTuesday\u001b[39m\u001b[33m'\u001b[39m, \u001b[33m'\u001b[39m\u001b[33mWednesday\u001b[39m\u001b[33m'\u001b[39m, \u001b[33m'\u001b[39m\u001b[33mThursday\u001b[39m\u001b[33m'\u001b[39m, \u001b[33m'\u001b[39m\u001b[33mFriday\u001b[39m\u001b[33m'\u001b[39m, \u001b[33m'\u001b[39m\u001b[33mSaturday\u001b[39m\u001b[33m'\u001b[39m, \u001b[33m'\u001b[39m\u001b[33mSunday\u001b[39m\u001b[33m'\u001b[39m]\n\u001b[32m----> \u001b[39m\u001b[32m3\u001b[39m df[\u001b[33m'\u001b[39m\u001b[33mJour_Ordonne\u001b[39m\u001b[33m'\u001b[39m] = pd.Categorical(\u001b[43mdf\u001b[49m\u001b[43m[\u001b[49m\u001b[33;43m'\u001b[39;49m\u001b[33;43mJour\u001b[39;49m\u001b[33;43m'\u001b[39;49m\u001b[43m]\u001b[49m, categories=jours_ordre, ordered=\u001b[38;5;28;01mTrue\u001b[39;00m)\n\u001b[32m      4\u001b[39m df[\u001b[33m'\u001b[39m\u001b[33mJour_Ordonne\u001b[39m\u001b[33m'\u001b[39m].value_counts().sort_index().plot(kind=\u001b[33m'\u001b[39m\u001b[33mbar\u001b[39m\u001b[33m'\u001b[39m)\n\u001b[32m      5\u001b[39m plt.title(\u001b[33m'\u001b[39m\u001b[33mFréquence des enregistrements par jour de la semaine\u001b[39m\u001b[33m'\u001b[39m)\n",
      "\u001b[36mFile \u001b[39m\u001b[32m~\\AppData\\Local\\Packages\\PythonSoftwareFoundation.Python.3.11_qbz5n2kfra8p0\\LocalCache\\local-packages\\Python311\\site-packages\\pandas\\core\\frame.py:4107\u001b[39m, in \u001b[36mDataFrame.__getitem__\u001b[39m\u001b[34m(self, key)\u001b[39m\n\u001b[32m   4105\u001b[39m \u001b[38;5;28;01mif\u001b[39;00m \u001b[38;5;28mself\u001b[39m.columns.nlevels > \u001b[32m1\u001b[39m:\n\u001b[32m   4106\u001b[39m     \u001b[38;5;28;01mreturn\u001b[39;00m \u001b[38;5;28mself\u001b[39m._getitem_multilevel(key)\n\u001b[32m-> \u001b[39m\u001b[32m4107\u001b[39m indexer = \u001b[38;5;28;43mself\u001b[39;49m\u001b[43m.\u001b[49m\u001b[43mcolumns\u001b[49m\u001b[43m.\u001b[49m\u001b[43mget_loc\u001b[49m\u001b[43m(\u001b[49m\u001b[43mkey\u001b[49m\u001b[43m)\u001b[49m\n\u001b[32m   4108\u001b[39m \u001b[38;5;28;01mif\u001b[39;00m is_integer(indexer):\n\u001b[32m   4109\u001b[39m     indexer = [indexer]\n",
      "\u001b[36mFile \u001b[39m\u001b[32m~\\AppData\\Local\\Packages\\PythonSoftwareFoundation.Python.3.11_qbz5n2kfra8p0\\LocalCache\\local-packages\\Python311\\site-packages\\pandas\\core\\indexes\\base.py:3819\u001b[39m, in \u001b[36mIndex.get_loc\u001b[39m\u001b[34m(self, key)\u001b[39m\n\u001b[32m   3814\u001b[39m     \u001b[38;5;28;01mif\u001b[39;00m \u001b[38;5;28misinstance\u001b[39m(casted_key, \u001b[38;5;28mslice\u001b[39m) \u001b[38;5;129;01mor\u001b[39;00m (\n\u001b[32m   3815\u001b[39m         \u001b[38;5;28misinstance\u001b[39m(casted_key, abc.Iterable)\n\u001b[32m   3816\u001b[39m         \u001b[38;5;129;01mand\u001b[39;00m \u001b[38;5;28many\u001b[39m(\u001b[38;5;28misinstance\u001b[39m(x, \u001b[38;5;28mslice\u001b[39m) \u001b[38;5;28;01mfor\u001b[39;00m x \u001b[38;5;129;01min\u001b[39;00m casted_key)\n\u001b[32m   3817\u001b[39m     ):\n\u001b[32m   3818\u001b[39m         \u001b[38;5;28;01mraise\u001b[39;00m InvalidIndexError(key)\n\u001b[32m-> \u001b[39m\u001b[32m3819\u001b[39m     \u001b[38;5;28;01mraise\u001b[39;00m \u001b[38;5;167;01mKeyError\u001b[39;00m(key) \u001b[38;5;28;01mfrom\u001b[39;00m\u001b[38;5;250m \u001b[39m\u001b[34;01merr\u001b[39;00m\n\u001b[32m   3820\u001b[39m \u001b[38;5;28;01mexcept\u001b[39;00m \u001b[38;5;167;01mTypeError\u001b[39;00m:\n\u001b[32m   3821\u001b[39m     \u001b[38;5;66;03m# If we have a listlike key, _check_indexing_error will raise\u001b[39;00m\n\u001b[32m   3822\u001b[39m     \u001b[38;5;66;03m#  InvalidIndexError. Otherwise we fall through and re-raise\u001b[39;00m\n\u001b[32m   3823\u001b[39m     \u001b[38;5;66;03m#  the TypeError.\u001b[39;00m\n\u001b[32m   3824\u001b[39m     \u001b[38;5;28mself\u001b[39m._check_indexing_error(key)\n",
      "\u001b[31mKeyError\u001b[39m: 'Jour'"
     ]
    },
    {
     "data": {
      "text/plain": [
       "<Figure size 1200x600 with 0 Axes>"
      ]
     },
     "metadata": {},
     "output_type": "display_data"
    }
   ],
   "source": [
    "plt.figure(figsize=(12, 6))\n",
    "jours_ordre = ['Monday', 'Tuesday', 'Wednesday', 'Thursday', 'Friday', 'Saturday', 'Sunday']\n",
    "df['Jour_Ordonne'] = pd.Categorical(df['Jour'], categories=jours_ordre, ordered=True)\n",
    "df['Jour_Ordonne'].value_counts().sort_index().plot(kind='bar')\n",
    "plt.title('Fréquence des enregistrements par jour de la semaine')\n",
    "plt.xlabel('Jour de la semaine')\n",
    "plt.ylabel('Nombre d\\'enregistrements')\n",
    "plt.show()"
   ]
  },
  {
   "cell_type": "code",
   "execution_count": null,
   "id": "042b9a32",
   "metadata": {},
   "outputs": [
    {
     "ename": "KeyError",
     "evalue": "'Mois'",
     "output_type": "error",
     "traceback": [
      "\u001b[31m---------------------------------------------------------------------------\u001b[39m",
      "\u001b[31mKeyError\u001b[39m                                  Traceback (most recent call last)",
      "\u001b[36mFile \u001b[39m\u001b[32m~\\AppData\\Local\\Packages\\PythonSoftwareFoundation.Python.3.11_qbz5n2kfra8p0\\LocalCache\\local-packages\\Python311\\site-packages\\pandas\\core\\indexes\\base.py:3812\u001b[39m, in \u001b[36mIndex.get_loc\u001b[39m\u001b[34m(self, key)\u001b[39m\n\u001b[32m   3811\u001b[39m \u001b[38;5;28;01mtry\u001b[39;00m:\n\u001b[32m-> \u001b[39m\u001b[32m3812\u001b[39m     \u001b[38;5;28;01mreturn\u001b[39;00m \u001b[38;5;28;43mself\u001b[39;49m\u001b[43m.\u001b[49m\u001b[43m_engine\u001b[49m\u001b[43m.\u001b[49m\u001b[43mget_loc\u001b[49m\u001b[43m(\u001b[49m\u001b[43mcasted_key\u001b[49m\u001b[43m)\u001b[49m\n\u001b[32m   3813\u001b[39m \u001b[38;5;28;01mexcept\u001b[39;00m \u001b[38;5;167;01mKeyError\u001b[39;00m \u001b[38;5;28;01mas\u001b[39;00m err:\n",
      "\u001b[36mFile \u001b[39m\u001b[32mpandas/_libs/index.pyx:167\u001b[39m, in \u001b[36mpandas._libs.index.IndexEngine.get_loc\u001b[39m\u001b[34m()\u001b[39m\n",
      "\u001b[36mFile \u001b[39m\u001b[32mpandas/_libs/index.pyx:196\u001b[39m, in \u001b[36mpandas._libs.index.IndexEngine.get_loc\u001b[39m\u001b[34m()\u001b[39m\n",
      "\u001b[36mFile \u001b[39m\u001b[32mpandas/_libs/hashtable_class_helper.pxi:7088\u001b[39m, in \u001b[36mpandas._libs.hashtable.PyObjectHashTable.get_item\u001b[39m\u001b[34m()\u001b[39m\n",
      "\u001b[36mFile \u001b[39m\u001b[32mpandas/_libs/hashtable_class_helper.pxi:7096\u001b[39m, in \u001b[36mpandas._libs.hashtable.PyObjectHashTable.get_item\u001b[39m\u001b[34m()\u001b[39m\n",
      "\u001b[31mKeyError\u001b[39m: 'Mois'",
      "\nThe above exception was the direct cause of the following exception:\n",
      "\u001b[31mKeyError\u001b[39m                                  Traceback (most recent call last)",
      "\u001b[36mCell\u001b[39m\u001b[36m \u001b[39m\u001b[32mIn[23]\u001b[39m\u001b[32m, line 3\u001b[39m\n\u001b[32m      1\u001b[39m plt.figure(figsize=(\u001b[32m12\u001b[39m, \u001b[32m6\u001b[39m))\n\u001b[32m      2\u001b[39m mois_ordre = [\u001b[33m\"\u001b[39m\u001b[33mJanuary\u001b[39m\u001b[33m\"\u001b[39m, \u001b[33m\"\u001b[39m\u001b[33mFebruary\u001b[39m\u001b[33m\"\u001b[39m, \u001b[33m\"\u001b[39m\u001b[33mMarch\u001b[39m\u001b[33m\"\u001b[39m, \u001b[33m\"\u001b[39m\u001b[33mApril\u001b[39m\u001b[33m\"\u001b[39m, \u001b[33m\"\u001b[39m\u001b[33mMay\u001b[39m\u001b[33m\"\u001b[39m, \u001b[33m\"\u001b[39m\u001b[33mJune\u001b[39m\u001b[33m\"\u001b[39m, \u001b[33m\"\u001b[39m\u001b[33mJuly\u001b[39m\u001b[33m\"\u001b[39m, \u001b[33m\"\u001b[39m\u001b[33mAugust\u001b[39m\u001b[33m\"\u001b[39m, \u001b[33m\"\u001b[39m\u001b[33mSeptember\u001b[39m\u001b[33m\"\u001b[39m, \u001b[33m\"\u001b[39m\u001b[33mOctober\u001b[39m\u001b[33m\"\u001b[39m, \u001b[33m\"\u001b[39m\u001b[33mNovember\u001b[39m\u001b[33m\"\u001b[39m, \u001b[33m\"\u001b[39m\u001b[33mDecember\u001b[39m\u001b[33m\"\u001b[39m]\n\u001b[32m----> \u001b[39m\u001b[32m3\u001b[39m df[\u001b[33m'\u001b[39m\u001b[33mMois_Ordonne\u001b[39m\u001b[33m'\u001b[39m] = pd.Categorical(\u001b[43mdf\u001b[49m\u001b[43m[\u001b[49m\u001b[33;43m'\u001b[39;49m\u001b[33;43mMois\u001b[39;49m\u001b[33;43m'\u001b[39;49m\u001b[43m]\u001b[49m, categories=mois_ordre, ordered=\u001b[38;5;28;01mTrue\u001b[39;00m)\n\u001b[32m      4\u001b[39m df[\u001b[33m'\u001b[39m\u001b[33mMois_Ordonne\u001b[39m\u001b[33m'\u001b[39m].value_counts().sort_index().plot(kind=\u001b[33m'\u001b[39m\u001b[33mbar\u001b[39m\u001b[33m'\u001b[39m)\n\u001b[32m      5\u001b[39m plt.title(\u001b[33m'\u001b[39m\u001b[33mFréquence des enregistrements par mois\u001b[39m\u001b[33m'\u001b[39m)\n",
      "\u001b[36mFile \u001b[39m\u001b[32m~\\AppData\\Local\\Packages\\PythonSoftwareFoundation.Python.3.11_qbz5n2kfra8p0\\LocalCache\\local-packages\\Python311\\site-packages\\pandas\\core\\frame.py:4107\u001b[39m, in \u001b[36mDataFrame.__getitem__\u001b[39m\u001b[34m(self, key)\u001b[39m\n\u001b[32m   4105\u001b[39m \u001b[38;5;28;01mif\u001b[39;00m \u001b[38;5;28mself\u001b[39m.columns.nlevels > \u001b[32m1\u001b[39m:\n\u001b[32m   4106\u001b[39m     \u001b[38;5;28;01mreturn\u001b[39;00m \u001b[38;5;28mself\u001b[39m._getitem_multilevel(key)\n\u001b[32m-> \u001b[39m\u001b[32m4107\u001b[39m indexer = \u001b[38;5;28;43mself\u001b[39;49m\u001b[43m.\u001b[49m\u001b[43mcolumns\u001b[49m\u001b[43m.\u001b[49m\u001b[43mget_loc\u001b[49m\u001b[43m(\u001b[49m\u001b[43mkey\u001b[49m\u001b[43m)\u001b[49m\n\u001b[32m   4108\u001b[39m \u001b[38;5;28;01mif\u001b[39;00m is_integer(indexer):\n\u001b[32m   4109\u001b[39m     indexer = [indexer]\n",
      "\u001b[36mFile \u001b[39m\u001b[32m~\\AppData\\Local\\Packages\\PythonSoftwareFoundation.Python.3.11_qbz5n2kfra8p0\\LocalCache\\local-packages\\Python311\\site-packages\\pandas\\core\\indexes\\base.py:3819\u001b[39m, in \u001b[36mIndex.get_loc\u001b[39m\u001b[34m(self, key)\u001b[39m\n\u001b[32m   3814\u001b[39m     \u001b[38;5;28;01mif\u001b[39;00m \u001b[38;5;28misinstance\u001b[39m(casted_key, \u001b[38;5;28mslice\u001b[39m) \u001b[38;5;129;01mor\u001b[39;00m (\n\u001b[32m   3815\u001b[39m         \u001b[38;5;28misinstance\u001b[39m(casted_key, abc.Iterable)\n\u001b[32m   3816\u001b[39m         \u001b[38;5;129;01mand\u001b[39;00m \u001b[38;5;28many\u001b[39m(\u001b[38;5;28misinstance\u001b[39m(x, \u001b[38;5;28mslice\u001b[39m) \u001b[38;5;28;01mfor\u001b[39;00m x \u001b[38;5;129;01min\u001b[39;00m casted_key)\n\u001b[32m   3817\u001b[39m     ):\n\u001b[32m   3818\u001b[39m         \u001b[38;5;28;01mraise\u001b[39;00m InvalidIndexError(key)\n\u001b[32m-> \u001b[39m\u001b[32m3819\u001b[39m     \u001b[38;5;28;01mraise\u001b[39;00m \u001b[38;5;167;01mKeyError\u001b[39;00m(key) \u001b[38;5;28;01mfrom\u001b[39;00m\u001b[38;5;250m \u001b[39m\u001b[34;01merr\u001b[39;00m\n\u001b[32m   3820\u001b[39m \u001b[38;5;28;01mexcept\u001b[39;00m \u001b[38;5;167;01mTypeError\u001b[39;00m:\n\u001b[32m   3821\u001b[39m     \u001b[38;5;66;03m# If we have a listlike key, _check_indexing_error will raise\u001b[39;00m\n\u001b[32m   3822\u001b[39m     \u001b[38;5;66;03m#  InvalidIndexError. Otherwise we fall through and re-raise\u001b[39;00m\n\u001b[32m   3823\u001b[39m     \u001b[38;5;66;03m#  the TypeError.\u001b[39;00m\n\u001b[32m   3824\u001b[39m     \u001b[38;5;28mself\u001b[39m._check_indexing_error(key)\n",
      "\u001b[31mKeyError\u001b[39m: 'Mois'"
     ]
    },
    {
     "data": {
      "text/plain": [
       "<Figure size 1200x600 with 0 Axes>"
      ]
     },
     "metadata": {},
     "output_type": "display_data"
    }
   ],
   "source": [
    "plt.figure(figsize=(12, 6))\n",
    "mois_ordre = [\"January\", \"February\", \"March\", \"April\", \"May\", \"June\", \"July\", \"August\", \"September\", \"October\", \"November\", \"December\"]\n",
    "df['Mois_Ordonne'] = pd.Categorical(df['Mois'], categories=mois_ordre, ordered=True)\n",
    "df['Mois_Ordonne'].value_counts().sort_index().plot(kind='bar')\n",
    "plt.title('Fréquence des enregistrements par mois')\n",
    "plt.xlabel('Mois')\n",
    "plt.ylabel('Nombre d\\'enregistrements')\n",
    "plt.xticks(rotation=45)\n",
    "plt.show()"
   ]
  },
  {
   "cell_type": "code",
   "execution_count": null,
   "id": "a7684716",
   "metadata": {},
   "outputs": [
    {
     "data": {
      "image/png": "[encoded data removed]",
      "text/plain": [
       "<Figure size 1200x600 with 1 Axes>"
      ]
     },
     "metadata": {},
     "output_type": "display_data"
    }
   ],
   "source": [
    "plt.figure(figsize=(12, 6))\n",
    "df['Date d\\'installation du site de comptage'].dt.year.value_counts().sort_index().plot(kind='bar')\n",
    "plt.title('Nombre d\\'installations de sites par année')\n",
    "plt.xlabel('Année d\\'installation')\n",
    "plt.ylabel('Nombre de sites installés')\n",
    "plt.xticks(rotation=45)\n",
    "plt.show()"
   ]
  },
  {
   "cell_type": "code",
   "execution_count": null,
   "id": "37e288bc",
   "metadata": {},
   "outputs": [
    {
     "ename": "KeyError",
     "evalue": "\"None of ['Date et heure du comptage'] are in the columns\"",
     "output_type": "error",
     "traceback": [
      "\u001b[31m---------------------------------------------------------------------------\u001b[39m",
      "\u001b[31mKeyError\u001b[39m                                  Traceback (most recent call last)",
      "\u001b[32m~\\AppData\\Local\\Temp\\ipykernel_77848\\2192616719.py\u001b[39m in \u001b[36m?\u001b[39m\u001b[34m()\u001b[39m\n\u001b[32m      1\u001b[39m plt.figure(figsize=(\u001b[32m15\u001b[39m, \u001b[32m7\u001b[39m))\n\u001b[32m----> \u001b[39m\u001b[32m2\u001b[39m df.set_index(\u001b[33m'Date et heure du comptage'\u001b[39m).resample(\u001b[33m'D'\u001b[39m).size().plot()\n\u001b[32m      3\u001b[39m plt.title(\u001b[33m'Nombre d\\'enregistrements par jour'\u001b[39m)\n\u001b[32m      4\u001b[39m plt.xlabel(\u001b[33m'Date'\u001b[39m)\n\u001b[32m      5\u001b[39m plt.ylabel(\u001b[33m'Nombre d\\'enregistrements'\u001b[39m)\n",
      "\u001b[32m~\\AppData\\Local\\Packages\\PythonSoftwareFoundation.Python.3.11_qbz5n2kfra8p0\\LocalCache\\local-packages\\Python311\\site-packages\\pandas\\core\\frame.py\u001b[39m in \u001b[36m?\u001b[39m\u001b[34m(self, keys, drop, append, inplace, verify_integrity)\u001b[39m\n\u001b[32m   6125\u001b[39m                     \u001b[38;5;28;01mif\u001b[39;00m \u001b[38;5;28;01mnot\u001b[39;00m found:\n\u001b[32m   6126\u001b[39m                         missing.append(col)\n\u001b[32m   6127\u001b[39m \n\u001b[32m   6128\u001b[39m         \u001b[38;5;28;01mif\u001b[39;00m missing:\n\u001b[32m-> \u001b[39m\u001b[32m6129\u001b[39m             \u001b[38;5;28;01mraise\u001b[39;00m KeyError(\u001b[33mf\"None of {missing} are in the columns\"\u001b[39m)\n\u001b[32m   6130\u001b[39m \n\u001b[32m   6131\u001b[39m         \u001b[38;5;28;01mif\u001b[39;00m inplace:\n\u001b[32m   6132\u001b[39m             frame = self\n",
      "\u001b[31mKeyError\u001b[39m: \"None of ['Date et heure du comptage'] are in the columns\""
     ]
    },
    {
     "data": {
      "text/plain": [
       "<Figure size 1500x700 with 0 Axes>"
      ]
     },
     "metadata": {},
     "output_type": "display_data"
    }
   ],
   "source": [
    "plt.figure(figsize=(15, 7))\n",
    "df.set_index('Date et heure du comptage').resample('D').size().plot()\n",
    "plt.title('Nombre d\\'enregistrements par jour')\n",
    "plt.xlabel('Date')\n",
    "plt.ylabel('Nombre d\\'enregistrements')\n",
    "plt.show()"
   ]
  },
  {
   "cell_type": "code",
   "execution_count": null,
   "id": "37bac061",
   "metadata": {},
   "outputs": [
    {
     "ename": "NameError",
     "evalue": "name 'plt' is not defined",
     "output_type": "error",
     "traceback": [
      "\u001b[31m---------------------------------------------------------------------------\u001b[39m",
      "\u001b[31mNameError\u001b[39m                                 Traceback (most recent call last)",
      "\u001b[36mCell\u001b[39m\u001b[36m \u001b[39m\u001b[32mIn[2]\u001b[39m\u001b[32m, line 1\u001b[39m\n\u001b[32m----> \u001b[39m\u001b[32m1\u001b[39m \u001b[43mplt\u001b[49m.figure(figsize=(\u001b[32m12\u001b[39m, \u001b[32m8\u001b[39m))\n\u001b[32m      2\u001b[39m pivot_table_freq = df.pivot_table(index=\u001b[33m'\u001b[39m\u001b[33mHeure\u001b[39m\u001b[33m'\u001b[39m, columns=\u001b[33m'\u001b[39m\u001b[33mJour de la semaine Num\u001b[39m\u001b[33m'\u001b[39m, aggfunc=\u001b[33m'\u001b[39m\u001b[33msize\u001b[39m\u001b[33m'\u001b[39m, fill_value=\u001b[32m0\u001b[39m)\n\u001b[32m      3\u001b[39m pivot_table_freq.columns = [\u001b[33m'\u001b[39m\u001b[33mLundi\u001b[39m\u001b[33m'\u001b[39m, \u001b[33m'\u001b[39m\u001b[33mMardi\u001b[39m\u001b[33m'\u001b[39m, \u001b[33m'\u001b[39m\u001b[33mMercredi\u001b[39m\u001b[33m'\u001b[39m, \u001b[33m'\u001b[39m\u001b[33mJeudi\u001b[39m\u001b[33m'\u001b[39m, \u001b[33m'\u001b[39m\u001b[33mVendredi\u001b[39m\u001b[33m'\u001b[39m, \u001b[33m'\u001b[39m\u001b[33mSamedi\u001b[39m\u001b[33m'\u001b[39m, \u001b[33m'\u001b[39m\u001b[33mDimanche\u001b[39m\u001b[33m'\u001b[39m]\n",
      "\u001b[31mNameError\u001b[39m: name 'plt' is not defined"
     ]
    }
   ],
   "source": [
    "plt.figure(figsize=(12, 8))\n",
    "pivot_table_freq = df.pivot_table(index='Heure', columns='Jour de la semaine Num', aggfunc='size', fill_value=0)\n",
    "pivot_table_freq.columns = ['Lundi', 'Mardi', 'Mercredi', 'Jeudi', 'Vendredi', 'Samedi', 'Dimanche']\n",
    "sns.heatmap(pivot_table_freq, cmap='viridis', annot=True, fmt=\".0f\")\n",
    "plt.title('Fréquence des enregistrements par heure et jour de la semaine')\n",
    "plt.xlabel('Jour de la semaine')\n",
    "plt.ylabel('Heure de la journée')\n",
    "plt.show()"
   ]
  },
  {
   "cell_type": "code",
   "execution_count": null,
   "id": "8a98c77f",
   "metadata": {},
   "outputs": [],
   "source": []
  }
 ],
 "metadata": {
  "kernelspec": {
   "display_name": "Python 3",
   "language": "python",
   "name": "python3"
  },
  "language_info": {
   "codemirror_mode": {
    "name": "ipython",
    "version": 3
   },
   "file_extension": ".py",
   "mimetype": "text/x-python",
   "name": "python",
   "nbconvert_exporter": "python",
   "pygments_lexer": "ipython3",
   "version": "3.11.9"
  }
 },
 "nbformat": 4,
 "nbformat_minor": 5
}
