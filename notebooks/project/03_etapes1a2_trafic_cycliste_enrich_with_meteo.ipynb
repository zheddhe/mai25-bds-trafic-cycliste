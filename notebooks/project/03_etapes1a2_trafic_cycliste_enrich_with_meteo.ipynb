{
 "cells": [
  {
   "cell_type": "markdown",
   "id": "0",
   "metadata": {},
   "source": [
    "# 1. Initializations"
   ]
  },
  {
   "cell_type": "markdown",
   "id": "1",
   "metadata": {},
   "source": [
    "## 1.1 General imports"
   ]
  },
  {
   "cell_type": "code",
   "execution_count": null,
   "id": "2",
   "metadata": {},
   "outputs": [],
   "source": [
    "### Data management\n",
    "import pandas as pd\n",
    "import numpy as np\n",
    "from functools import partial\n",
    "\n",
    "### Machine Learning\n",
    "\n",
    "# metrics and evaluation\n",
    "from scipy.stats import probplot, anderson, chi2_contingency, pearsonr\n",
    "import statsmodels.api as sm\n",
    "import statsmodels.formula.api as smf\n",
    "\n",
    "# pipelines\n",
    "from sklearn.compose import ColumnTransformer\n",
    "\n",
    "### Data Viz\n",
    "\n",
    "# graphical basics\n",
    "import matplotlib.pyplot as plt\n",
    "%matplotlib inline\n",
    "\n",
    "# graphical seaborn\n",
    "import seaborn as sns\n",
    "\n",
    "# graphical plotly\n",
    "# import plotly.graph_objects as go\n",
    "import plotly.express as px\n",
    "# for jupyter notebook display management\n",
    "import plotly.io as pio\n",
    "pio.renderers.default = \"notebook\"\n",
    "\n",
    "# graphical missingno\n",
    "import missingno as msno\n"
   ]
  },
  {
   "cell_type": "markdown",
   "id": "3",
   "metadata": {},
   "source": [
    "## 1.2 General dataframe functions"
   ]
  },
  {
   "cell_type": "code",
   "execution_count": null,
   "id": "4",
   "metadata": {},
   "outputs": [],
   "source": [
    "import smartcheck.dataframe_common as dfc\n",
    "import smartcheck.dataframe_project_specific as dfps\n",
    "import smartcheck.preprocessing_project_specific as pps\n",
    "import smartcheck.paths as pth"
   ]
  },
  {
   "cell_type": "markdown",
   "id": "5",
   "metadata": {},
   "source": [
    "# 2. Loading and Data Quality"
   ]
  },
  {
   "cell_type": "markdown",
   "id": "6",
   "metadata": {},
   "source": [
    "## 2.1 Loading of Pre-processed velo comptage data 2024/2025"
   ]
  },
  {
   "cell_type": "code",
   "execution_count": null,
   "id": "7",
   "metadata": {},
   "outputs": [],
   "source": [
    "df_cpt_raw = dfc.load_dataset_from_config('velo_comptage_refactored_data', sep=',', index_col=0)\n",
    "\n",
    "if df_cpt_raw is not None and isinstance(df_cpt_raw, pd.DataFrame):\n",
    "    df_cpt = df_cpt_raw.copy()"
   ]
  },
  {
   "cell_type": "markdown",
   "id": "8",
   "metadata": {},
   "source": [
    "### Column filtering and preprocessing"
   ]
  },
  {
   "cell_type": "code",
   "execution_count": null,
   "id": "9",
   "metadata": {},
   "outputs": [],
   "source": [
    "no_change_cols = [\n",
    "    \"identifiant_du_compteur\",\n",
    "    \"comptage_horaire\",\n",
    "    \"date_et_heure_de_comptage\",\n",
    "    \"orientation_compteur\",\n",
    "    \"latitude\",\n",
    "    \"longitude\",\n",
    "    \"arrondissement\",\n",
    "]\n",
    "\n",
    "preproc_transf = ColumnTransformer(\n",
    "    transformers=[\n",
    "        (\n",
    "            \"filter\",\n",
    "            pps.ColumnFilterTransformer(columns_to_keep=no_change_cols),\n",
    "            no_change_cols\n",
    "        ),\n",
    "        (\n",
    "            \"datetime\",\n",
    "            pps.DatetimePreprocessingTransformer(timestamp_col=\"date_et_heure_de_comptage\"),\n",
    "            [\"date_et_heure_de_comptage\"]\n",
    "        ),\n",
    "    ],\n",
    "    remainder=\"drop\", # toute les colonnes non mappées dans ce column transformer sont mises de côté\n",
    ")\n",
    "\n",
    "preproc_transf.set_output(transform=\"pandas\")\n",
    "\n",
    "df = pd.DataFrame(preproc_transf.fit_transform(df_cpt)) # type: ignore\n",
    "df = df.rename(columns={\n",
    "    col: col.split(\"__\")[-1] for col in df.columns if \"__\" in col\n",
    "})"
   ]
  },
  {
   "cell_type": "markdown",
   "id": "10",
   "metadata": {},
   "source": [
    "## 2.2 Loading of additional data sets and general exploration"
   ]
  },
  {
   "cell_type": "code",
   "execution_count": null,
   "id": "11",
   "metadata": {},
   "outputs": [],
   "source": [
    "df_meteo = dfps.fetch_weather_data_from_dataframe(df, 'latitude', 'longitude', 'date_et_heure_de_comptage_utc')"
   ]
  },
  {
   "cell_type": "code",
   "execution_count": null,
   "id": "12",
   "metadata": {},
   "outputs": [],
   "source": [
    "display(df_meteo.head())\n",
    "df_meteo.info()"
   ]
  },
  {
   "cell_type": "code",
   "execution_count": null,
   "id": "13",
   "metadata": {},
   "outputs": [],
   "source": [
    "df_merged_raw = pd.merge(\n",
    "    df,\n",
    "    df_meteo,\n",
    "    how='left',\n",
    "    on=['latitude', 'longitude', 'date_et_heure_de_comptage_utc'],\n",
    ")"
   ]
  },
  {
   "cell_type": "markdown",
   "id": "14",
   "metadata": {},
   "source": [
    "#### Loading and column management (columns names normalization)"
   ]
  },
  {
   "cell_type": "code",
   "execution_count": null,
   "id": "15",
   "metadata": {},
   "outputs": [],
   "source": [
    "df_merged = dfc.normalize_column_names(df_merged_raw)"
   ]
  },
  {
   "cell_type": "markdown",
   "id": "16",
   "metadata": {},
   "source": [
    "#### Sauvegarde en mémoire de l'origine"
   ]
  },
  {
   "cell_type": "code",
   "execution_count": null,
   "id": "17",
   "metadata": {},
   "outputs": [],
   "source": [
    "# Original backup before missing value management\n",
    "df_merged_bckp_orig = df_merged.copy()"
   ]
  },
  {
   "cell_type": "code",
   "execution_count": null,
   "id": "18",
   "metadata": {},
   "outputs": [],
   "source": [
    "# Restore (if needed to recover)\n",
    "df_merged = df_merged_bckp_orig.copy()"
   ]
  },
  {
   "cell_type": "markdown",
   "id": "19",
   "metadata": {},
   "source": [
    "#### Search for general informations, duplicates and missing values stats"
   ]
  },
  {
   "cell_type": "code",
   "execution_count": null,
   "id": "20",
   "metadata": {},
   "outputs": [],
   "source": [
    "display(df_merged.head())\n",
    "dfc.log_general_info(df_merged)\n",
    "nb_first, nb_total = dfc.detect_and_log_duplicates_and_missing(df_merged)\n",
    "if nb_first != nb_total:\n",
    "    print(dfc.duplicates_index_map(df_merged))"
   ]
  },
  {
   "cell_type": "code",
   "execution_count": null,
   "id": "21",
   "metadata": {},
   "outputs": [],
   "source": [
    "# Représentation des valeur NA graphiquement\n",
    "msno.matrix(df_merged_bckp_orig)"
   ]
  },
  {
   "cell_type": "markdown",
   "id": "22",
   "metadata": {},
   "source": [
    "#### Missing value correlation exploration"
   ]
  },
  {
   "cell_type": "code",
   "execution_count": null,
   "id": "23",
   "metadata": {},
   "outputs": [],
   "source": [
    "df_merged_desc = df_merged.select_dtypes(include=np.number).describe()\n",
    "display(df_merged_desc)\n",
    "df_merged_desc = df_merged.select_dtypes(include='object').describe()\n",
    "display(df_merged_desc)\n",
    "df_merged_cr = df_merged.select_dtypes(include=np.number).corr()\n",
    "display(df_merged)"
   ]
  },
  {
   "cell_type": "markdown",
   "id": "24",
   "metadata": {},
   "source": [
    "## 2.3 Data quality refinement"
   ]
  },
  {
   "cell_type": "markdown",
   "id": "25",
   "metadata": {},
   "source": [
    "#### Suppression des colonnes de données périodiques qui doivent être recalculées (allègement du dataset)"
   ]
  },
  {
   "cell_type": "code",
   "execution_count": null,
   "id": "26",
   "metadata": {},
   "outputs": [],
   "source": [
    "df_merged = df_merged.drop(\n",
    "    columns=[\n",
    "        'date_et_heure_de_comptage_utc',\n",
    "        'date_et_heure_de_comptage_local',\n",
    "        'date_et_heure_de_comptage_year',\n",
    "        'date_et_heure_de_comptage_month',\n",
    "        'date_et_heure_de_comptage_day',\n",
    "        'date_et_heure_de_comptage_day_of_year',\n",
    "        'date_et_heure_de_comptage_day_of_week',\n",
    "        'date_et_heure_de_comptage_hour',\n",
    "        'date_et_heure_de_comptage_week',\n",
    "        'date_et_heure_de_comptage_dayname',\n",
    "        'date_et_heure_de_comptage_monthname',\n",
    "    ]\n",
    ")"
   ]
  },
  {
   "cell_type": "markdown",
   "id": "27",
   "metadata": {},
   "source": [
    "#### Sauvegarde du dataset en CSV"
   ]
  },
  {
   "cell_type": "code",
   "execution_count": null,
   "id": "28",
   "metadata": {},
   "outputs": [],
   "source": [
    "df_merged.to_csv(\"comptage-velo-donnees-compteurs-2024-2025_Enriched_ML-ready_data.csv\")"
   ]
  }
 ],
 "metadata": {
  "kernelspec": {
   "display_name": "Python 3",
   "language": "python",
   "name": "python3"
  },
  "language_info": {
   "codemirror_mode": {
    "name": "ipython",
    "version": 3
   },
   "file_extension": ".py",
   "mimetype": "text/x-python",
   "name": "python",
   "nbconvert_exporter": "python",
   "pygments_lexer": "ipython3",
   "version": "3.12.9"
  }
 },
 "nbformat": 4,
 "nbformat_minor": 5
}
