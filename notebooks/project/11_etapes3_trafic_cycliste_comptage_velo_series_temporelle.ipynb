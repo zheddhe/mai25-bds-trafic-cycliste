{
 "cells": [
  {
   "cell_type": "markdown",
   "id": "0",
   "metadata": {},
   "source": [
    "# 1. Initializations"
   ]
  },
  {
   "cell_type": "markdown",
   "id": "1",
   "metadata": {},
   "source": [
    "## 1.1 General imports"
   ]
  },
  {
   "cell_type": "code",
   "execution_count": null,
   "id": "2",
   "metadata": {},
   "outputs": [],
   "source": [
    "### general\n",
    "\n",
    "### data management\n",
    "import pandas as pd\n",
    "import numpy as np\n",
    "\n",
    "### machine learning (scikit-learn)\n",
    "from statsmodels.tsa.seasonal import seasonal_decompose\n",
    "from sklearn.compose import ColumnTransformer\n",
    "\n",
    "### graphical\n",
    "import matplotlib.pyplot as plt\n",
    "# for jupyter notebook management\n",
    "%matplotlib inline\n",
    "import seaborn as sns\n"
   ]
  },
  {
   "cell_type": "markdown",
   "id": "3",
   "metadata": {},
   "source": [
    "## 1.2 General dataframe functions"
   ]
  },
  {
   "cell_type": "code",
   "execution_count": null,
   "id": "4",
   "metadata": {},
   "outputs": [],
   "source": [
    "import smartcheck.dataframe_common as dfc"
   ]
  },
  {
   "cell_type": "markdown",
   "id": "5",
   "metadata": {},
   "source": [
    "## 1.3 Specific preprocessing classes"
   ]
  },
  {
   "cell_type": "code",
   "execution_count": null,
   "id": "6",
   "metadata": {},
   "outputs": [],
   "source": [
    "import smartcheck.preprocessing_project_specific as pps"
   ]
  },
  {
   "cell_type": "markdown",
   "id": "7",
   "metadata": {},
   "source": [
    "# 2. Loading of Pre-processed data"
   ]
  },
  {
   "cell_type": "code",
   "execution_count": null,
   "id": "8",
   "metadata": {},
   "outputs": [],
   "source": [
    "df_cpt_raw = dfc.load_dataset_from_config('velo_comptage_pcd_data', sep=',', index_col=0)\n",
    "\n",
    "if df_cpt_raw is not None and isinstance(df_cpt_raw, pd.DataFrame):\n",
    "    dfc.log_general_info(df_cpt_raw)\n",
    "    df_cpt = df_cpt_raw.copy()\n",
    "    display(df_cpt.head())"
   ]
  },
  {
   "cell_type": "code",
   "execution_count": null,
   "id": "9",
   "metadata": {},
   "outputs": [],
   "source": [
    "df_cpt_desc = df_cpt.select_dtypes(include=np.number).describe()\n",
    "display(df_cpt_desc)\n",
    "df_cpt_desc = df_cpt.select_dtypes(exclude=np.number).describe()\n",
    "display(df_cpt_desc)\n",
    "df_cpt_cr = df_cpt.select_dtypes(include=np.number).corr()\n",
    "display(df_cpt_cr)"
   ]
  },
  {
   "cell_type": "markdown",
   "id": "10",
   "metadata": {},
   "source": [
    "## 2.1 Column preprocessing pipelines"
   ]
  },
  {
   "cell_type": "code",
   "execution_count": null,
   "id": "11",
   "metadata": {},
   "outputs": [],
   "source": [
    "no_change_cols = [\n",
    "    \"identifiant_du_compteur\",\n",
    "    \"nom_du_compteur\",\n",
    "    \"identifiant_du_site_de_comptage\",\n",
    "    \"nom_du_site_de_comptage\",\n",
    "    \"comptage_horaire\",\n",
    "    \"coordonnees_geographiques\",\n",
    "    \"mois_annee_comptage\",\n",
    "    \"orientation_compteur\",\n",
    "    \"latitude\",\n",
    "    \"longitude\",\n",
    "    \"arrondissement\",\n",
    "]\n",
    "\n",
    "preproc_pipeline = ColumnTransformer(\n",
    "    transformers=[\n",
    "        (\n",
    "            \"filter\",\n",
    "            pps.ColumnFilterTransformer(columns_to_keep=no_change_cols),\n",
    "            no_change_cols\n",
    "        ),\n",
    "        (\n",
    "            \"datetime\",\n",
    "            pps.DatetimePreprocessingTransformer(timestamp_col=\"date_et_heure_de_comptage\"),\n",
    "            [\"date_et_heure_de_comptage\"]\n",
    "        ),\n",
    "    ],\n",
    "    remainder=\"drop\",\n",
    ")\n",
    "\n",
    "preproc_pipeline.set_output(transform=\"pandas\")\n",
    "\n",
    "df = pd.DataFrame(preproc_pipeline.fit_transform(df_cpt))\n",
    "df = df.rename(columns={\n",
    "    col: col.split(\"__\")[-1] for col in df.columns if \"__\" in col\n",
    "})\n",
    "\n",
    "df.head()"
   ]
  }
 ],
 "metadata": {
  "kernelspec": {
   "display_name": "Python 3",
   "language": "python",
   "name": "python3"
  },
  "language_info": {
   "codemirror_mode": {
    "name": "ipython",
    "version": 3
   },
   "file_extension": ".py",
   "mimetype": "text/x-python",
   "name": "python",
   "nbconvert_exporter": "python",
   "pygments_lexer": "ipython3",
   "version": "3.12.9"
  }
 },
 "nbformat": 4,
 "nbformat_minor": 5
}
