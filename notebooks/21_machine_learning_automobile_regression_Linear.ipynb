{
 "cells": [
  {
   "cell_type": "markdown",
   "id": "802dcbf730ae34d",
   "metadata": {},
   "source": [
    "# 1. Initializations"
   ]
  },
  {
   "cell_type": "markdown",
   "id": "e63296014b93644d",
   "metadata": {},
   "source": [
    "## 1.1 General imports"
   ]
  },
  {
   "cell_type": "code",
   "execution_count": null,
   "id": "58063a0827de2a74",
   "metadata": {
    "ExecuteTime": {
     "end_time": "2025-05-23T11:55:24.188195Z",
     "start_time": "2025-05-23T11:55:24.175637Z"
    }
   },
   "outputs": [],
   "source": [
    "### data management\n",
    "import pandas as pd\n",
    "import numpy as np\n",
    "\n",
    "### régression\n",
    "import scipy.stats as stats\n",
    "from sklearn.linear_model import LinearRegression\n",
    "from sklearn.model_selection import train_test_split, cross_validate, cross_val_predict\n",
    "from sklearn.feature_selection import f_regression\n",
    "\n",
    "### graphical plotly basics\n",
    "import matplotlib.pyplot as plt\n",
    "%matplotlib inline"
   ]
  },
  {
   "cell_type": "markdown",
   "id": "4cadfd2bea6d187b",
   "metadata": {},
   "source": [
    "## 1.2 General dataframe functions"
   ]
  },
  {
   "cell_type": "code",
   "execution_count": null,
   "id": "f67eae8c340d7f81",
   "metadata": {
    "ExecuteTime": {
     "end_time": "2025-05-23T11:55:24.753624Z",
     "start_time": "2025-05-23T11:55:24.366057Z"
    }
   },
   "outputs": [],
   "source": [
    "import smartcheck.dataframe_common as dfc"
   ]
  },
  {
   "cell_type": "markdown",
   "id": "8f76c75894df8cdd",
   "metadata": {},
   "source": [
    "## 1.3 General classification functions"
   ]
  },
  {
   "cell_type": "code",
   "execution_count": null,
   "id": "6ad184b2476fa792",
   "metadata": {
    "ExecuteTime": {
     "end_time": "2025-05-23T11:55:24.776010Z",
     "start_time": "2025-05-23T11:55:24.772421Z"
    }
   },
   "outputs": [],
   "source": [
    "# None"
   ]
  },
  {
   "cell_type": "markdown",
   "id": "b7b3f8fc02df6bab",
   "metadata": {},
   "source": [
    "# 2. Loading and Data Quality"
   ]
  },
  {
   "cell_type": "markdown",
   "id": "bc35eb2f6f567cf8",
   "metadata": {},
   "source": [
    "## 2.1 Loading of data sets and general exploration"
   ]
  },
  {
   "cell_type": "code",
   "execution_count": null,
   "id": "8d242cf121e65a3f",
   "metadata": {
    "ExecuteTime": {
     "end_time": "2025-05-23T11:55:28.255518Z",
     "start_time": "2025-05-23T11:55:24.787879Z"
    }
   },
   "outputs": [],
   "source": [
    "df_auto_raw = dfc.load_dataset_from_config('auto_data', sep=',')\n",
    "\n",
    "if df_auto_raw is not None and isinstance(df_auto_raw, pd.DataFrame):\n",
    "    # display(df_auto_raw.head())\n",
    "    dfc.log_general_info(df_auto_raw)\n",
    "    nb_first, nb_total = dfc.detect_and_log_duplicates_and_missing(df_auto_raw)\n",
    "    if nb_first != nb_total:\n",
    "        print(dfc.duplicates_index_map(df_auto_raw))\n",
    "    df_auto = dfc.normalize_column_names(df_auto_raw)\n",
    "    display(df_auto.head())"
   ]
  },
  {
   "cell_type": "code",
   "execution_count": null,
   "id": "869b5b47",
   "metadata": {},
   "outputs": [],
   "source": [
    "df_auto_desc = df_auto.select_dtypes(include=np.number).describe()\n",
    "display(df_auto_desc)\n",
    "df_auto_cr = df_auto.select_dtypes(include=np.number).corr()\n",
    "display(df_auto_cr)"
   ]
  },
  {
   "cell_type": "markdown",
   "id": "ab4ec6946215956d",
   "metadata": {},
   "source": [
    "## 2.2 Data quality refinement"
   ]
  },
  {
   "cell_type": "code",
   "execution_count": null,
   "id": "d1486ae2fb06cb25",
   "metadata": {},
   "outputs": [],
   "source": [
    "# Original backup and duplicates management\n",
    "df_auto_orig = df_auto.copy()\n",
    "df_auto = df_auto.drop_duplicates()\n",
    "df_auto = df_auto[(df_auto.normalized_losses != '?') &\n",
    "                  (df_auto.bore != '?') &\n",
    "                  (df_auto.stroke != '?')]\n",
    "df_auto.normalized_losses = df_auto.normalized_losses.astype(int)\n",
    "df_auto.horsepower = df_auto.horsepower.astype(int)\n",
    "df_auto.bore = df_auto.bore.astype(float)\n",
    "df_auto.stroke = df_auto.stroke.astype(float)\n",
    "df_auto.peak_rpm = df_auto.peak_rpm.astype(int)\n",
    "df_auto.price = df_auto.price.astype(int)\n",
    "df_auto = df_auto.select_dtypes(include=np.number)"
   ]
  },
  {
   "cell_type": "code",
   "execution_count": null,
   "id": "6ed4706e",
   "metadata": {},
   "outputs": [],
   "source": [
    "df_auto.info()\n",
    "df_auto_desc = df_auto.select_dtypes(include=np.number).describe()\n",
    "display(df_auto_desc)\n",
    "df_auto_cr = df_auto.select_dtypes(include=np.number).corr()\n",
    "display(df_auto_cr)"
   ]
  },
  {
   "cell_type": "code",
   "execution_count": null,
   "id": "d9d5457d",
   "metadata": {},
   "outputs": [],
   "source": [
    "plt.figure(figsize=(8, 6))\n",
    "plt.scatter(df_auto['curb_weight'], df_auto['price'], color='darkblue');"
   ]
  },
  {
   "cell_type": "markdown",
   "id": "2b797265284027ac",
   "metadata": {},
   "source": [
    "# 2. Data Classification"
   ]
  },
  {
   "cell_type": "markdown",
   "id": "44a83b55d200cb41",
   "metadata": {},
   "source": [
    "## 2.1 General Analysis variable/target Separation"
   ]
  },
  {
   "cell_type": "code",
   "execution_count": null,
   "id": "67a8d26174ed170c",
   "metadata": {
    "ExecuteTime": {
     "end_time": "2025-05-23T11:55:38.682226Z",
     "start_time": "2025-05-23T11:55:38.459625Z"
    }
   },
   "outputs": [],
   "source": [
    "# Separation des variables explicatives (features) et de la variable à prédire (target)\n",
    "data = df_auto[['curb_weight']]\n",
    "target = df_auto['price']"
   ]
  },
  {
   "cell_type": "code",
   "execution_count": null,
   "id": "1e55e897",
   "metadata": {},
   "outputs": [],
   "source": [
    "# Séparation de données d'entrainement et données de test\n",
    "X_train, X_test, y_train, y_test = train_test_split(data, target, train_size=0.8, random_state=126)"
   ]
  },
  {
   "cell_type": "markdown",
   "id": "d0b44282f99ef473",
   "metadata": {},
   "source": [
    "## 2.2 Linear Regression"
   ]
  },
  {
   "cell_type": "code",
   "execution_count": null,
   "id": "6e5f7bb7",
   "metadata": {},
   "outputs": [],
   "source": [
    "# Definition et Entrainement du modèle\n",
    "regLR = LinearRegression()\n",
    "regLR.fit(X_train, y_train)"
   ]
  },
  {
   "cell_type": "code",
   "execution_count": null,
   "id": "ac3f931a",
   "metadata": {},
   "outputs": [],
   "source": [
    "# Prédiction du modèle sur les données de test\n",
    "y_pred = regLR.predict(X_test)\n",
    "\n",
    "# Récupération des données d'ajustement pour une régression simple\n",
    "print(\"l'ordonnée à l'origine calculée par le modèle:\", regLR.intercept_)\n",
    "print(\"la pente de la droite:\",regLR.coef_)"
   ]
  },
  {
   "cell_type": "code",
   "execution_count": null,
   "id": "01a7f31a",
   "metadata": {},
   "outputs": [],
   "source": [
    "# Validation croisée entre 4 sous échantillons d'entrainement pour la régression (MSE / RMSE / MAE), test_score = R² par défaut\n",
    "scores = cross_validate( # entraine et évalue le modèle sur chaque groupe (cv)\n",
    "    regLR, X_train, y_train, \n",
    "    cv=4, return_train_score=True,\n",
    "    scoring=['r2', 'neg_mean_squared_error','neg_root_mean_squared_error', 'neg_mean_absolute_error'])\n",
    "print(\n",
    "    f\"Model: {regLR}\\n\"\n",
    "    f\"test Score (R²): {scores['test_r2'].mean().round(4)} \"\n",
    "    f\"(+/- {scores['test_r2'].std().round(4)})\\n\"\n",
    "    f\"train Score (R²): {scores['train_r2'].mean().round(4)} \"\n",
    "    f\"(+/- {scores['train_r2'].std().round(4)})\\n\"\n",
    "    f\"MSE Score: {scores['test_neg_mean_squared_error'].mean().round(0)} \"\n",
    "    f\"(+/- {scores['test_neg_mean_squared_error'].std().round(0)})\\n\"\n",
    "    f\"RMSE Score: {scores['test_neg_root_mean_squared_error'].mean().round(0)} \"\n",
    "    f\"(+/- {scores['test_neg_root_mean_squared_error'].std().round(0)})\\n\"\n",
    "    f\"MAE Score: {scores['test_neg_mean_absolute_error'].mean().round(0)} \"\n",
    "    f\"(+/- {scores['test_neg_mean_absolute_error'].std().round(0)})\"\n",
    ")"
   ]
  },
  {
   "cell_type": "code",
   "execution_count": null,
   "id": "29569a79",
   "metadata": {},
   "outputs": [],
   "source": [
    "# Validation croisée avec prédiction via 4 sous échantillons sur les données d'entrainement\n",
    "y_train_preds = cross_val_predict( # entraine et renvoie les prédictions sur chaque groupe (cv) considéré comme données de test\n",
    "    regLR, X_train, y_train,\n",
    "    cv=4)\n",
    "def rmse(predictions, targets):\n",
    "    return np.sqrt(((predictions - targets)**2).mean())\n",
    "print(f\"RMSE Score: {rmse(y_train_preds, y_train).round(0)}\")"
   ]
  },
  {
   "cell_type": "code",
   "execution_count": null,
   "id": "c24840c8",
   "metadata": {},
   "outputs": [],
   "source": [
    "# Prédiction du modèle sur les données de test\n",
    "y_pred = regLR.predict(X_test)\n",
    "\n",
    "plt.figure(figsize=(8, 6))\n",
    "plt.suptitle(\"Régression prédite appliquée sur l'échantillon de test\")\n",
    "plt.scatter(X_test, y_test, color='darkblue')\n",
    "plt.plot(X_test, y_pred, color='black');"
   ]
  },
  {
   "cell_type": "code",
   "execution_count": null,
   "id": "4f314d7f",
   "metadata": {},
   "outputs": [],
   "source": [
    "# Analyse et affichage des résidus\n",
    "y_residus = y_pred - y_test\n",
    "y_residus_norm = (y_residus-y_residus.mean())/y_residus.std()\n",
    "\n",
    "plt.figure(figsize=(8, 2))\n",
    "plt.suptitle(\"Valeur des résidus en fonction de X_test\")\n",
    "plt.scatter(X_test, y_residus, color='red')\n",
    "plt.plot([X_test.curb_weight.min(),X_test.curb_weight.max()], [0,0], color='black');\n",
    "\n",
    "plt.figure(figsize=(8, 4))\n",
    "plt.suptitle(\"Centrage et réduction des résidus et comparaison avec la bissectrice normale\")\n",
    "stats.probplot(y_residus_norm, plot=plt);"
   ]
  },
  {
   "cell_type": "code",
   "execution_count": null,
   "id": "bf1d7137",
   "metadata": {},
   "outputs": [],
   "source": [
    "# Evaluation du modèle sur les données de test\n",
    "print(\"Score R² calculé par le modèle:\", regLR.score(X_test, y_test))"
   ]
  },
  {
   "cell_type": "code",
   "execution_count": null,
   "id": "775b94f2",
   "metadata": {},
   "outputs": [],
   "source": [
    "# Test statistique univarié sur chaque variable explicative de la cible (et sur les données totales)\n",
    "# NB : cela ne prouve pas la causalité ni l'importance, juste la corrélation\n",
    "X = df_auto.drop('price', axis=1)\n",
    "y = df_auto['price']\n",
    "f_statistics, p_values = f_regression(X, y)\n",
    "for column, f, p in zip(X.columns, f_statistics, p_values):\n",
    "    print (f\"[{column}]\\n [F-Stat : {f.round(2)}] [P-Value : {p.round(6)}]\")"
   ]
  }
 ],
 "metadata": {
  "kernelspec": {
   "display_name": "Python 3",
   "language": "python",
   "name": "python3"
  },
  "language_info": {
   "codemirror_mode": {
    "name": "ipython",
    "version": 3
   },
   "file_extension": ".py",
   "mimetype": "text/x-python",
   "name": "python",
   "nbconvert_exporter": "python",
   "pygments_lexer": "ipython3",
   "version": "3.12.9"
  }
 },
 "nbformat": 4,
 "nbformat_minor": 5
}
