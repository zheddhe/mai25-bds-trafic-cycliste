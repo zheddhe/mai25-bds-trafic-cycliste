{
 "cells": [
  {
   "cell_type": "markdown",
   "id": "802dcbf730ae34d",
   "metadata": {},
   "source": [
    "# 1. Initializations"
   ]
  },
  {
   "cell_type": "markdown",
   "id": "e63296014b93644d",
   "metadata": {},
   "source": [
    "## 1.1 General imports"
   ]
  },
  {
   "cell_type": "code",
   "execution_count": null,
   "id": "58063a0827de2a74",
   "metadata": {
    "ExecuteTime": {
     "end_time": "2025-05-23T11:55:24.188195Z",
     "start_time": "2025-05-23T11:55:24.175637Z"
    }
   },
   "outputs": [],
   "source": [
    "### data management\n",
    "import pandas as pd\n",
    "import numpy as np\n",
    "\n",
    "### régression\n",
    "from sklearn import preprocessing\n",
    "from sklearn.linear_model import LinearRegression, ElasticNetCV\n",
    "from sklearn.model_selection import train_test_split, cross_validate, cross_val_predict, cross_val_score\n",
    "from sklearn.feature_selection import f_regression\n",
    "from sklearn.metrics import mean_squared_error\n",
    "\n",
    "### graphical matplotlib basics\n",
    "import matplotlib.pyplot as plt\n",
    "# for jupyter notebook management\n",
    "%matplotlib inline\n",
    "\n",
    "### graphical seaborn basics\n",
    "import seaborn as sns"
   ]
  },
  {
   "cell_type": "markdown",
   "id": "4cadfd2bea6d187b",
   "metadata": {},
   "source": [
    "## 1.2 General dataframe functions"
   ]
  },
  {
   "cell_type": "code",
   "execution_count": null,
   "id": "f67eae8c340d7f81",
   "metadata": {
    "ExecuteTime": {
     "end_time": "2025-05-23T11:55:24.753624Z",
     "start_time": "2025-05-23T11:55:24.366057Z"
    }
   },
   "outputs": [],
   "source": [
    "import smartcheck.dataframe_common as dfc"
   ]
  },
  {
   "cell_type": "markdown",
   "id": "8f76c75894df8cdd",
   "metadata": {},
   "source": [
    "## 1.3 General classification functions"
   ]
  },
  {
   "cell_type": "code",
   "execution_count": null,
   "id": "6ad184b2476fa792",
   "metadata": {
    "ExecuteTime": {
     "end_time": "2025-05-23T11:55:24.776010Z",
     "start_time": "2025-05-23T11:55:24.772421Z"
    }
   },
   "outputs": [],
   "source": [
    "# None"
   ]
  },
  {
   "cell_type": "markdown",
   "id": "b7b3f8fc02df6bab",
   "metadata": {},
   "source": [
    "# 2. Loading and Data Quality"
   ]
  },
  {
   "cell_type": "markdown",
   "id": "bc35eb2f6f567cf8",
   "metadata": {},
   "source": [
    "## 2.1 Loading of data sets and general exploration"
   ]
  },
  {
   "cell_type": "code",
   "execution_count": null,
   "id": "8d242cf121e65a3f",
   "metadata": {
    "ExecuteTime": {
     "end_time": "2025-05-23T11:55:28.255518Z",
     "start_time": "2025-05-23T11:55:24.787879Z"
    }
   },
   "outputs": [],
   "source": [
    "df_nba_raw = dfc.load_dataset_from_config('nba_data', sep=',')\n",
    "\n",
    "if df_nba_raw is not None and isinstance(df_nba_raw, pd.DataFrame):\n",
    "    # display(df_auto_raw.head())\n",
    "    dfc.log_general_info(df_nba_raw)\n",
    "    nb_first, nb_total = dfc.detect_and_log_duplicates_and_missing(df_nba_raw)\n",
    "    if nb_first != nb_total:\n",
    "        print(dfc.duplicates_index_map(df_nba_raw))\n",
    "    df_nba = df_nba_raw.copy()\n",
    "    display(df_nba.head())"
   ]
  },
  {
   "cell_type": "code",
   "execution_count": null,
   "id": "869b5b47",
   "metadata": {},
   "outputs": [],
   "source": [
    "df_nba_desc = df_nba.select_dtypes(include=np.number).describe()\n",
    "display(df_nba_desc)\n",
    "df_nba_cr = df_nba.select_dtypes(include=np.number).corr()\n",
    "display(df_nba_cr)"
   ]
  },
  {
   "cell_type": "markdown",
   "id": "ab4ec6946215956d",
   "metadata": {},
   "source": [
    "## 2.2 Data quality refinement"
   ]
  },
  {
   "cell_type": "code",
   "execution_count": null,
   "id": "d1486ae2fb06cb25",
   "metadata": {},
   "outputs": [],
   "source": [
    "# Original backup and duplicates management\n",
    "df_nba_orig = df_nba.copy()\n",
    "df_nba = df_nba.drop_duplicates()"
   ]
  },
  {
   "cell_type": "code",
   "execution_count": null,
   "id": "830395a7",
   "metadata": {},
   "outputs": [],
   "source": [
    "# Rework on indexes and absurd values\n",
    "columns_drop = ['fg', 'fga', 'x3p', 'x3pa', 'x3p.', 'x2p', 'x2pa', 'x2p.', 'ft', 'fta', 'season_end']\n",
    "df_nba = df_nba.drop(columns_drop, axis=1)\n",
    "df_nba.index = df_nba.player + \" - \" + df_nba.bref_team_id\n",
    "df_nba = df_nba.dropna(how='any')\n",
    "df_nba = df_nba[df_nba.pos!='G']\n",
    "pl_pos_matrix = pd.get_dummies(df_nba.pos, prefix='pos')\n",
    "df_nba = df_nba.join(pl_pos_matrix)\n",
    "df_nba = df_nba.drop(columns=['season', 'player', 'bref_team_id', 'pos'])\n"
   ]
  },
  {
   "cell_type": "code",
   "execution_count": null,
   "id": "6ed4706e",
   "metadata": {},
   "outputs": [],
   "source": [
    "df_nba.info()\n",
    "df_nba_desc = df_nba.select_dtypes(include=np.number).describe()\n",
    "display(df_nba_desc)\n",
    "df_nba_cr = df_nba.select_dtypes(include=np.number).corr()\n",
    "display(df_nba_cr)"
   ]
  },
  {
   "cell_type": "markdown",
   "id": "2b797265284027ac",
   "metadata": {},
   "source": [
    "# 2. Data Classification"
   ]
  },
  {
   "cell_type": "markdown",
   "id": "44a83b55d200cb41",
   "metadata": {},
   "source": [
    "## 2.1 General Analysis variable/target Separation"
   ]
  },
  {
   "cell_type": "code",
   "execution_count": null,
   "id": "67a8d26174ed170c",
   "metadata": {
    "ExecuteTime": {
     "end_time": "2025-05-23T11:55:38.682226Z",
     "start_time": "2025-05-23T11:55:38.459625Z"
    }
   },
   "outputs": [],
   "source": [
    "# Separation des variables explicatives (features) et de la variable à prédire (target)\n",
    "data = df_nba.drop(['pts', 'pos_SG'], axis=1)\n",
    "target = df_nba['pts']"
   ]
  },
  {
   "cell_type": "code",
   "execution_count": null,
   "id": "1e55e897",
   "metadata": {},
   "outputs": [],
   "source": [
    "# Séparation de données d'entrainement et données de test\n",
    "X_train, X_test, y_train, y_test = train_test_split(data, target, train_size=0.8, random_state=101)"
   ]
  },
  {
   "cell_type": "markdown",
   "id": "d0b44282f99ef473",
   "metadata": {},
   "source": [
    "## 2.2 Linear Regression (univariée)"
   ]
  },
  {
   "cell_type": "code",
   "execution_count": null,
   "id": "b6c4f28e",
   "metadata": {},
   "outputs": [],
   "source": [
    "# Preprocessing des variables explicatives d'entrainement et de test (scaler)\n",
    "scaler = preprocessing.StandardScaler().fit(X_train)\n",
    "# Recuperation des propriétés du dataframe perdues (nparray) avec le scaler\n",
    "X_train[X_train.columns] = pd.DataFrame(scaler.fit_transform(X_train), index=X_train.index)\n",
    "X_test[X_test.columns] = pd.DataFrame(scaler.transform(X_test), index=X_test.index)"
   ]
  },
  {
   "cell_type": "code",
   "execution_count": null,
   "id": "f7ab8409",
   "metadata": {},
   "outputs": [],
   "source": [
    "# Visualisation de la correlation entre les variables explicatives (avec seaborn)\n",
    "plt.figure(figsize=(13, 13))\n",
    "sns.heatmap(df_nba.corr(), annot=True, cmap=\"RdBu_r\", center=0)\n",
    "plt.tight_layout();"
   ]
  },
  {
   "cell_type": "code",
   "execution_count": null,
   "id": "6e5f7bb7",
   "metadata": {},
   "outputs": [],
   "source": [
    "# Definition et Entrainement du modèle\n",
    "regLR = LinearRegression()\n",
    "regLR.fit(X_train[['mp']], y_train)"
   ]
  },
  {
   "cell_type": "code",
   "execution_count": null,
   "id": "aba3031b",
   "metadata": {},
   "outputs": [],
   "source": [
    "# Evaluation du modèle sur les données\n",
    "print(\"Score R² calculé par le modèle:\", regLR.score(X_train[['mp']], y_train))\n",
    "print(\"Score R² calculé par le modèle:\", regLR.score(X_test[['mp']], y_test))\n",
    "y_train_pred = regLR.predict(X_train[['mp']])\n",
    "y_test_pred = regLR.predict(X_test[['mp']])\n",
    "print(\"Score MSE train:\", mean_squared_error(y_train, y_train_pred))\n",
    "print(\"Score MSE test:\", mean_squared_error(y_test, y_test_pred))"
   ]
  },
  {
   "cell_type": "code",
   "execution_count": null,
   "id": "775b94f2",
   "metadata": {},
   "outputs": [],
   "source": [
    "# Test statistique univarié sur chaque variable explicative de la cible (et sur les données totales)\n",
    "# NB : cela ne prouve pas la causalité ni l'importance, juste la corrélation\n",
    "f_statistics, p_values = f_regression(data, target)\n",
    "for column, f, p in zip(data.columns, f_statistics, p_values):\n",
    "    print (f\"[{column}]\\n [F-Stat : {f.round(2)}] [P-Value : {p.round(6)}]\")"
   ]
  },
  {
   "cell_type": "markdown",
   "id": "dacfbfda",
   "metadata": {},
   "source": [
    "## 2.3 Linear Regression (multivariée)"
   ]
  },
  {
   "cell_type": "markdown",
   "id": "d67e7fe8",
   "metadata": {},
   "source": [
    "### 2.3.1 Affinage par Elastic Net\n",
    "- combine les avantage de Lasso et Ridge"
   ]
  },
  {
   "cell_type": "code",
   "execution_count": null,
   "id": "2ad65320",
   "metadata": {},
   "outputs": [],
   "source": [
    "regLR_multi_EN = ElasticNetCV(\n",
    "    l1_ratio=(0.1, 0.25, 0.5, 0.7, 0.75, 0.8, 0.85, 0.9, 0.99),\n",
    "    alphas=(0.001, 0.01, 0.02, 0.025, 0.05, 0.1, 0.25, 0.5, 0.8, 1.0),\n",
    "    cv=8,\n",
    "    max_iter=15000 # l'alternative est: warnings.filterwarnings('ignore')\n",
    ")\n",
    "regLR_multi_EN.fit(X_train, y_train)\n",
    "print(\"Alpha retenu par cross validation:\", regLR_multi_EN.alpha_)\n",
    "print(\"Score R² train:\", regLR_multi_EN.score(X_train, y_train))\n",
    "print(\"Score R² test:\", regLR_multi_EN.score(X_test, y_test))\n",
    "y_train_pred = regLR_multi_EN.predict(X_train)\n",
    "y_test_pred  = regLR_multi_EN.predict(X_test)\n",
    "print(\"Score MSE train:\", mean_squared_error(y_train, y_train_pred))\n",
    "print(\"Score MSE test:\", mean_squared_error(y_test, y_test_pred))"
   ]
  },
  {
   "cell_type": "code",
   "execution_count": null,
   "id": "7b00ec59",
   "metadata": {},
   "outputs": [],
   "source": [
    "# Récupération des données d'ajustement pour une régression simple\n",
    "print(\"l'intercept calculé par le modèle:\", regLR_multi_EN.intercept_)\n",
    "df_coeff = pd.DataFrame([(i, float(j.round(2))) for i, j in zip(X_test.columns,regLR_multi_EN.coef_)])\n",
    "print(\"les coeff du modèle multivarié:\",df_coeff)"
   ]
  },
  {
   "cell_type": "code",
   "execution_count": null,
   "id": "b98e6961",
   "metadata": {},
   "outputs": [],
   "source": [
    "display(pd.DataFrame(\n",
    "    {'points_observés': y_test, 'points_predits' : np.round(y_test_pred)},\n",
    "    index=X_test.index\n",
    ").head(10))"
   ]
  }
 ],
 "metadata": {
  "kernelspec": {
   "display_name": "Python 3",
   "language": "python",
   "name": "python3"
  },
  "language_info": {
   "codemirror_mode": {
    "name": "ipython",
    "version": 3
   },
   "file_extension": ".py",
   "mimetype": "text/x-python",
   "name": "python",
   "nbconvert_exporter": "python",
   "pygments_lexer": "ipython3",
   "version": "3.12.9"
  }
 },
 "nbformat": 4,
 "nbformat_minor": 5
}
