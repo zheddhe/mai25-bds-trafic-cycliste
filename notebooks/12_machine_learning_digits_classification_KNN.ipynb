{
 "cells": [
  {
   "cell_type": "markdown",
   "id": "802dcbf730ae34d",
   "metadata": {},
   "source": [
    "# 1. Initializations"
   ]
  },
  {
   "cell_type": "markdown",
   "id": "e63296014b93644d",
   "metadata": {},
   "source": [
    "## 1.1 General imports"
   ]
  },
  {
   "cell_type": "code",
   "execution_count": null,
   "id": "58063a0827de2a74",
   "metadata": {
    "ExecuteTime": {
     "end_time": "2025-05-23T11:55:24.188195Z",
     "start_time": "2025-05-23T11:55:24.175637Z"
    }
   },
   "outputs": [],
   "source": [
    "### data management\n",
    "import pandas as pd\n",
    "import numpy as np\n",
    "from typing import cast\n",
    "\n",
    "### classification\n",
    "from sklearn import neighbors\n",
    "from sklearn import datasets\n",
    "from sklearn.utils import Bunch\n",
    "from sklearn.model_selection import train_test_split\n",
    "from sklearn.metrics import confusion_matrix, classification_report\n",
    "\n",
    "### graphical plotly basics\n",
    "import plotly.graph_objects as go\n",
    "# import plotly.express as px\n",
    "# for jupyter notebook display management\n",
    "import plotly.io as pio\n",
    "pio.renderers.default = \"notebook\""
   ]
  },
  {
   "cell_type": "markdown",
   "id": "4cadfd2bea6d187b",
   "metadata": {},
   "source": [
    "## 1.2 General dataframe functions"
   ]
  },
  {
   "cell_type": "code",
   "execution_count": null,
   "id": "f67eae8c340d7f81",
   "metadata": {
    "ExecuteTime": {
     "end_time": "2025-05-23T11:55:24.753624Z",
     "start_time": "2025-05-23T11:55:24.366057Z"
    }
   },
   "outputs": [],
   "source": [
    "import smartcheck.dataframe_common as dfc"
   ]
  },
  {
   "cell_type": "markdown",
   "id": "8f76c75894df8cdd",
   "metadata": {},
   "source": [
    "## 1.3 General classification functions"
   ]
  },
  {
   "cell_type": "code",
   "execution_count": null,
   "id": "6ad184b2476fa792",
   "metadata": {
    "ExecuteTime": {
     "end_time": "2025-05-23T11:55:24.776010Z",
     "start_time": "2025-05-23T11:55:24.772421Z"
    }
   },
   "outputs": [],
   "source": [
    "# None"
   ]
  },
  {
   "cell_type": "markdown",
   "id": "b7b3f8fc02df6bab",
   "metadata": {},
   "source": [
    "# 2. Loading and Data Quality"
   ]
  },
  {
   "cell_type": "markdown",
   "id": "bc35eb2f6f567cf8",
   "metadata": {},
   "source": [
    "## 2.1 Loading of data sets and general exploration"
   ]
  },
  {
   "cell_type": "code",
   "execution_count": null,
   "id": "8d242cf121e65a3f",
   "metadata": {
    "ExecuteTime": {
     "end_time": "2025-05-23T11:55:28.255518Z",
     "start_time": "2025-05-23T11:55:24.787879Z"
    }
   },
   "outputs": [],
   "source": [
    "digits =  cast(Bunch, datasets.load_digits())"
   ]
  },
  {
   "cell_type": "markdown",
   "id": "ab4ec6946215956d",
   "metadata": {},
   "source": [
    "## 2.2 Data quality refinement"
   ]
  },
  {
   "cell_type": "code",
   "execution_count": null,
   "id": "d1486ae2fb06cb25",
   "metadata": {},
   "outputs": [],
   "source": [
    "# None"
   ]
  },
  {
   "cell_type": "markdown",
   "id": "2b797265284027ac",
   "metadata": {},
   "source": [
    "# 2. Data Classification"
   ]
  },
  {
   "cell_type": "markdown",
   "id": "44a83b55d200cb41",
   "metadata": {},
   "source": [
    "## 2.1 General Analysis variable/target Separation"
   ]
  },
  {
   "cell_type": "code",
   "execution_count": null,
   "id": "67a8d26174ed170c",
   "metadata": {
    "ExecuteTime": {
     "end_time": "2025-05-23T11:55:38.682226Z",
     "start_time": "2025-05-23T11:55:38.459625Z"
    }
   },
   "outputs": [],
   "source": [
    "# Separation des variables explicatives (features) et de la variable à prédire (target)\n",
    "X_digits = pd.DataFrame(digits.data)\n",
    "display(X_digits.head())\n",
    "y_digits = digits.target\n",
    "display(np.unique(y_digits))"
   ]
  },
  {
   "cell_type": "code",
   "execution_count": null,
   "id": "1e55e897",
   "metadata": {},
   "outputs": [],
   "source": [
    "# Séparation de données d'entrainement et données de test\n",
    "X_train, X_test, y_train, y_test = train_test_split(X_digits, y_digits, train_size=0.8, random_state=126)"
   ]
  },
  {
   "cell_type": "markdown",
   "id": "d0b44282f99ef473",
   "metadata": {},
   "source": [
    "## 2.2 KNN Classification (minkowski)"
   ]
  },
  {
   "cell_type": "code",
   "execution_count": null,
   "id": "6e5f7bb7",
   "metadata": {},
   "outputs": [],
   "source": [
    "# Definition et Entrainement du modèle\n",
    "clfKNN = neighbors.KNeighborsClassifier(n_neighbors=7, metric='minkowski')\n",
    "clfKNN.fit(X_train, y_train)"
   ]
  },
  {
   "cell_type": "code",
   "execution_count": null,
   "id": "40cb4d04",
   "metadata": {},
   "outputs": [],
   "source": [
    "# Evaluation du modèle sur les données d'entrainement\n",
    "print(\"Score calculé par le modèle:\", clfKNN.score(X_train, y_train))"
   ]
  },
  {
   "cell_type": "code",
   "execution_count": null,
   "id": "ac3f931a",
   "metadata": {},
   "outputs": [],
   "source": [
    "# Prédiction du modèle sur les données de test\n",
    "y_test_pred = clfKNN.predict(X_test)"
   ]
  },
  {
   "cell_type": "code",
   "execution_count": null,
   "id": "d7ad10ec",
   "metadata": {},
   "outputs": [],
   "source": [
    "# Matrice de confusion sur les données de test prédites\n",
    "cm = confusion_matrix(y_test,y_test_pred)\n",
    "print(cm)\n",
    "df_cm = pd.crosstab(y_test, y_test_pred, rownames=['real'], colnames=['predicted'])\n",
    "display(df_cm)\n",
    "\n",
    "# Evaluation du modèle sur les données de test\n",
    "score = sum(cm[i][i] for i in range(0, cm.shape[0]))/cm.sum()\n",
    "print(\"Score reconstruit manuellement:\",score)\n",
    "print(\"Score calculé par le modèle:\", clfKNN.score(X_test, y_test))\n",
    "print(\"Rapport de classification complet:\\n\", classification_report(y_test, y_test_pred))"
   ]
  },
  {
   "cell_type": "markdown",
   "id": "ae638545",
   "metadata": {},
   "source": [
    "## 2.2 KNN Classification (Manhattan)"
   ]
  },
  {
   "cell_type": "code",
   "execution_count": null,
   "id": "478f24e2",
   "metadata": {},
   "outputs": [],
   "source": [
    "# Definition et Entrainement du modèle\n",
    "clfKNN_man = neighbors.KNeighborsClassifier(n_neighbors=5, metric='manhattan')\n",
    "clfKNN_man.fit(X_train, y_train)"
   ]
  },
  {
   "cell_type": "code",
   "execution_count": null,
   "id": "0c4ffc43",
   "metadata": {},
   "outputs": [],
   "source": [
    "# Evaluation du modèle sur les données d'entrainement\n",
    "print(\"Score calculé par le modèle:\", clfKNN_man.score(X_train, y_train))"
   ]
  },
  {
   "cell_type": "code",
   "execution_count": null,
   "id": "dd5ee57a",
   "metadata": {},
   "outputs": [],
   "source": [
    "# Prédiction du modèle sur les données de test\n",
    "y_test_pred = clfKNN_man.predict(X_test)"
   ]
  },
  {
   "cell_type": "code",
   "execution_count": null,
   "id": "64dc4377",
   "metadata": {},
   "outputs": [],
   "source": [
    "# Matrice de confusion sur les données de test prédites\n",
    "cm = confusion_matrix(y_test,y_test_pred)\n",
    "print(cm)\n",
    "df_cm = pd.crosstab(y_test, y_test_pred, rownames=['real'], colnames=['predicted'])\n",
    "display(df_cm)\n",
    "\n",
    "# Evaluation du modèle sur les données de test\n",
    "score = sum(cm[i][i] for i in range(0, cm.shape[0]))/cm.sum()\n",
    "print(\"Score reconstruit manuellement:\",score)\n",
    "print(\"Score calculé par le modèle:\", clfKNN_man.score(X_test, y_test))\n",
    "print(\"Rapport de classification complet:\\n\", classification_report(y_test, y_test_pred))"
   ]
  },
  {
   "cell_type": "code",
   "execution_count": null,
   "id": "b21eef50",
   "metadata": {},
   "outputs": [],
   "source": [
    "scores = {\n",
    "    'minkowski' : [],\n",
    "    'manhattan' : [],\n",
    "    'chebyshev' : []\n",
    "}\n",
    "for i in range(1,41):\n",
    "    clfKNN_minko = neighbors.KNeighborsClassifier(n_neighbors=i, metric='minkowski')\n",
    "    clfKNN_minko.fit(X_train, y_train)\n",
    "    y_test_pred = clfKNN_minko.predict(X_test)\n",
    "    scores['minkowski'].append(clfKNN_minko.score(X_test, y_test))\n",
    "    clfKNN_man = neighbors.KNeighborsClassifier(n_neighbors=i, metric='manhattan')\n",
    "    clfKNN_man.fit(X_train, y_train)\n",
    "    y_test_pred = clfKNN_man.predict(X_test)\n",
    "    scores['manhattan'].append(clfKNN_man.score(X_test, y_test))\n",
    "    clfKNN_cheb = neighbors.KNeighborsClassifier(n_neighbors=i, metric='chebyshev')\n",
    "    clfKNN_cheb.fit(X_train, y_train)\n",
    "    y_test_pred = clfKNN_cheb.predict(X_test)\n",
    "    scores['chebyshev'].append(clfKNN_cheb.score(X_test, y_test))\n",
    "    print(f\"k={i}:\",scores['minkowski'][i-1], scores['manhattan'][i-1], scores['chebyshev'][i-1])"
   ]
  },
  {
   "cell_type": "code",
   "execution_count": null,
   "id": "2da087a9",
   "metadata": {},
   "outputs": [],
   "source": [
    "# Tracer la courbe score en fonction de K pour différents modèles avec Plotly\n",
    "fig = go.Figure()\n",
    "for metric in scores:\n",
    "    fig.add_trace(go.Scatter(\n",
    "        x=np.arange(1,41,1),\n",
    "        y=scores[metric],\n",
    "        mode='lines',\n",
    "        name=f'Score {metric}',\n",
    "        line=dict(dash='dash', width=3)\n",
    "    ))\n",
    "fig.update_layout(\n",
    "    title=\"Courbes Score en fonction de K pour les modèles KNN\",\n",
    "    xaxis_title=\"valeur de K\",\n",
    "    yaxis_title=\"Score\",\n",
    "    legend_title=\"Métrique\",\n",
    "    width=800,\n",
    "    height=600\n",
    ")\n",
    "fig.show()"
   ]
  }
 ],
 "metadata": {
  "kernelspec": {
   "display_name": "Python 3",
   "language": "python",
   "name": "python3"
  },
  "language_info": {
   "codemirror_mode": {
    "name": "ipython",
    "version": 3
   },
   "file_extension": ".py",
   "mimetype": "text/x-python",
   "name": "python",
   "nbconvert_exporter": "python",
   "pygments_lexer": "ipython3",
   "version": "3.12.9"
  }
 },
 "nbformat": 4,
 "nbformat_minor": 5
}
