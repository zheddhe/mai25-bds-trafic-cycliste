{
 "cells": [
  {
   "cell_type": "markdown",
   "id": "802dcbf730ae34d",
   "metadata": {},
   "source": [
    "# 1. Initializations"
   ]
  },
  {
   "cell_type": "markdown",
   "id": "e63296014b93644d",
   "metadata": {},
   "source": [
    "## 1.1 General imports"
   ]
  },
  {
   "cell_type": "code",
   "execution_count": null,
   "id": "58063a0827de2a74",
   "metadata": {
    "ExecuteTime": {
     "end_time": "2025-05-23T11:55:24.188195Z",
     "start_time": "2025-05-23T11:55:24.175637Z"
    }
   },
   "outputs": [],
   "source": [
    "### data management\n",
    "import pandas as pd\n",
    "import numpy as np\n",
    "\n",
    "### graphical matplotlib basics\n",
    "import matplotlib.pyplot as plt\n",
    "# for jupyter notebook management\n",
    "%matplotlib inline\n",
    "%config Completer.use_jedi = False\n",
    "\n",
    "### graphical seaborn basics\n",
    "import seaborn as sns\n",
    "\n",
    "### graphical plotly basics\n",
    "# import plotly.graph_objects as go\n",
    "# import plotly.express as px\n"
   ]
  },
  {
   "cell_type": "markdown",
   "id": "4cadfd2bea6d187b",
   "metadata": {},
   "source": [
    "## 1.2 General dataframe functions"
   ]
  },
  {
   "cell_type": "code",
   "execution_count": null,
   "id": "f67eae8c340d7f81",
   "metadata": {
    "ExecuteTime": {
     "end_time": "2025-05-23T11:55:24.753624Z",
     "start_time": "2025-05-23T11:55:24.366057Z"
    }
   },
   "outputs": [],
   "source": [
    "import smartcheck.dataframe_common as dfc"
   ]
  },
  {
   "cell_type": "markdown",
   "id": "8f76c75894df8cdd",
   "metadata": {},
   "source": [
    "## 1.3 General seaborn functions"
   ]
  },
  {
   "cell_type": "code",
   "execution_count": null,
   "id": "6ad184b2476fa792",
   "metadata": {
    "ExecuteTime": {
     "end_time": "2025-05-23T11:55:24.776010Z",
     "start_time": "2025-05-23T11:55:24.772421Z"
    }
   },
   "outputs": [],
   "source": [
    "# None"
   ]
  },
  {
   "cell_type": "markdown",
   "id": "b7b3f8fc02df6bab",
   "metadata": {},
   "source": [
    "# 2. Loading and Data Quality"
   ]
  },
  {
   "cell_type": "markdown",
   "id": "bc35eb2f6f567cf8",
   "metadata": {},
   "source": [
    "## 2.1 Loading of data sets and general exploration"
   ]
  },
  {
   "cell_type": "markdown",
   "id": "2d6ecc4138c9782b",
   "metadata": {},
   "source": [
    "### 2.1.1 NETFLIX"
   ]
  },
  {
   "cell_type": "code",
   "execution_count": null,
   "id": "8d242cf121e65a3f",
   "metadata": {
    "ExecuteTime": {
     "end_time": "2025-05-23T11:55:28.255518Z",
     "start_time": "2025-05-23T11:55:24.787879Z"
    }
   },
   "outputs": [],
   "source": [
    "df_netflix = dfc.load_dataset_from_config('netflix_data', sep=',')\n",
    "\n",
    "if df_netflix is not None and isinstance(df_netflix, pd.DataFrame):\n",
    "    display(df_netflix.head())\n",
    "    dfc.log_general_info(df_netflix)\n",
    "    nb_first, nb_total = dfc.detect_and_log_duplicates_and_missing(df_netflix)\n",
    "    if nb_first != nb_total:\n",
    "        print(dfc.duplicates_index_map(df_netflix))"
   ]
  },
  {
   "cell_type": "markdown",
   "id": "cc8de30e956132ed",
   "metadata": {},
   "source": [
    "### 2.1.2 IMDB"
   ]
  },
  {
   "cell_type": "code",
   "execution_count": null,
   "id": "3c0e4c2e07bbab46",
   "metadata": {
    "ExecuteTime": {
     "end_time": "2025-05-23T11:55:35.833114Z",
     "start_time": "2025-05-23T11:55:28.450898Z"
    }
   },
   "outputs": [],
   "source": [
    "df_imdb = dfc.load_dataset_from_config('imdb_data', sep=',')\n",
    "\n",
    "if df_imdb is not None and isinstance(df_imdb, pd.DataFrame):\n",
    "    display(df_imdb.head())\n",
    "    dfc.log_general_info(df_imdb)\n",
    "    nb_first, nb_total = dfc.detect_and_log_duplicates_and_missing(df_imdb)\n",
    "    if nb_first != nb_total:\n",
    "        print(dfc.duplicates_index_map(df_imdb))"
   ]
  },
  {
   "cell_type": "markdown",
   "id": "ab4ec6946215956d",
   "metadata": {},
   "source": [
    "## 2.2 Data quality refinement"
   ]
  },
  {
   "cell_type": "markdown",
   "id": "d1486ae2fb06cb25",
   "metadata": {},
   "source": [
    "### 2.2.1 NETFLIX"
   ]
  },
  {
   "cell_type": "code",
   "execution_count": null,
   "id": "4b99e9beaf4bb2be",
   "metadata": {
    "ExecuteTime": {
     "end_time": "2025-05-23T11:55:35.882270Z",
     "start_time": "2025-05-23T11:55:35.863947Z"
    }
   },
   "outputs": [],
   "source": [
    "if df_netflix is not None and isinstance(df_netflix, pd.DataFrame):\n",
    "\tdf_netflix_orig = df_netflix.copy()\n",
    "\tdf_netflix = df_netflix.drop_duplicates()\n",
    "else:\n",
    "\tprint(\"df_netflix is not loaded correctly.\")"
   ]
  },
  {
   "cell_type": "code",
   "execution_count": null,
   "id": "d20495eb4275e371",
   "metadata": {
    "ExecuteTime": {
     "end_time": "2025-05-23T11:55:35.953193Z",
     "start_time": "2025-05-23T11:55:35.941811Z"
    }
   },
   "outputs": [],
   "source": [
    "# Analysis of variable rating\n",
    "dfc.display_variable_info(df_netflix.rating)\n",
    "print(\"valeur la plus représentée :\",df_netflix.rating.mode()[0])\n",
    "df_netflix.rating = df_netflix.rating.fillna(df_netflix.rating.mode()[0])"
   ]
  },
  {
   "cell_type": "code",
   "execution_count": null,
   "id": "41de20d81062c9ca",
   "metadata": {
    "ExecuteTime": {
     "end_time": "2025-05-23T11:55:35.996829Z",
     "start_time": "2025-05-23T11:55:35.988049Z"
    }
   },
   "outputs": [],
   "source": [
    "# Analysis of variable director\n",
    "dfc.display_variable_info(df_netflix.director[:10])\n",
    "print(\"valeur la plus représentée :\",df_netflix.director.mode()[0])\n",
    "# pas de changement avec la valeur la plus représentée pour ne pas altérer la répartition des données"
   ]
  },
  {
   "cell_type": "markdown",
   "id": "57715536f9b61cc7",
   "metadata": {},
   "source": [
    "### 2.2.1 IMDB"
   ]
  },
  {
   "cell_type": "code",
   "execution_count": null,
   "id": "830d5687",
   "metadata": {},
   "outputs": [],
   "source": [
    "if df_imdb is not None and isinstance(df_imdb, pd.DataFrame):\n",
    "\tdf_imdb_orig = df_imdb.copy()\n",
    "\tdf_imdb = df_imdb.drop_duplicates()\n",
    "else:\n",
    "\tprint(\"df_imdb is not loaded correctly.\")"
   ]
  },
  {
   "cell_type": "code",
   "execution_count": null,
   "id": "b38b45da502322ef",
   "metadata": {
    "ExecuteTime": {
     "end_time": "2025-05-23T11:55:36.072090Z",
     "start_time": "2025-05-23T11:55:36.043108Z"
    }
   },
   "outputs": [],
   "source": [
    "df_imdb['averageRating'] = pd.to_numeric(df_imdb.Rate, errors='coerce')\n",
    "dfc.display_variable_info(df_imdb.averageRating.sort_values(ascending=False).head(10))\n",
    "\n",
    "df_imdb['numVotes'] = pd.to_numeric(df_imdb.Votes.str.replace(',', ''), errors='coerce')\n",
    "dfc.display_variable_info(df_imdb.numVotes.sort_values(ascending=False).head(10))\n",
    "\n",
    "df_imdb = df_imdb.drop_duplicates()"
   ]
  },
  {
   "cell_type": "markdown",
   "id": "e1dd82bbadc1cdf8",
   "metadata": {},
   "source": [
    "## 2.3 Data combination and rework"
   ]
  },
  {
   "cell_type": "code",
   "execution_count": null,
   "id": "95ee3391815943a1",
   "metadata": {
    "ExecuteTime": {
     "end_time": "2025-05-23T11:55:36.150968Z",
     "start_time": "2025-05-23T11:55:36.116221Z"
    }
   },
   "outputs": [],
   "source": [
    "all_content = pd.merge(df_netflix, df_imdb, left_on = ['title','release_year'], right_on = ['Name','Date'], how='inner')\n",
    "display(all_content.head())\n",
    "all_movies = all_content[all_content.type=='Movie'].copy()\n",
    "all_movies['duration'] = all_movies.duration.apply(lambda dur: dur.replace(' min', '')).astype(int)\n",
    "display(all_movies.head())"
   ]
  },
  {
   "cell_type": "markdown",
   "id": "2b797265284027ac",
   "metadata": {},
   "source": [
    "# 2. Data Viz' and Analysis"
   ]
  },
  {
   "cell_type": "markdown",
   "id": "44a83b55d200cb41",
   "metadata": {},
   "source": [
    "## 2.1 General Data Viz'"
   ]
  },
  {
   "cell_type": "markdown",
   "id": "492f7cb922388275",
   "metadata": {},
   "source": [
    "### 2.1.1 Seaborn"
   ]
  },
  {
   "cell_type": "code",
   "execution_count": null,
   "id": "b82e847f5f7ddb29",
   "metadata": {
    "ExecuteTime": {
     "end_time": "2025-05-23T11:55:36.276345Z",
     "start_time": "2025-05-23T11:55:36.272714Z"
    }
   },
   "outputs": [],
   "source": [
    "sns.set_theme(style = \"ticks\", context = \"talk\", palette = \"bright\")"
   ]
  },
  {
   "cell_type": "markdown",
   "id": "d0b44282f99ef473",
   "metadata": {},
   "source": [
    "## 2.1 Quantitative mono variable distribution"
   ]
  },
  {
   "cell_type": "markdown",
   "id": "8f625b7cf3d1651b",
   "metadata": {},
   "source": [
    "### 2.1.2 Seaborn"
   ]
  },
  {
   "cell_type": "code",
   "execution_count": null,
   "id": "77b112f18f53689d",
   "metadata": {
    "ExecuteTime": {
     "end_time": "2025-05-23T11:55:36.854317Z",
     "start_time": "2025-05-23T11:55:36.552448Z"
    }
   },
   "outputs": [],
   "source": [
    "graph = sns.displot(\n",
    "    data=all_movies,\n",
    "    x=all_movies.averageRating.name, # type: ignore[reportArgumentType]\n",
    "    kind='hist',\n",
    "    bins=15,\n",
    "    kde=True,\n",
    "    height=8,\n",
    "    aspect=1.5\n",
    ")\n",
    "graph.fig.suptitle(\n",
    "    'Répartition par histogramme et estimation de la densité de noyau pour averageRating',\n",
    "    y=1.04,\n",
    "    fontsize=20\n",
    ")\n",
    "\n",
    "plt.show()"
   ]
  },
  {
   "cell_type": "code",
   "execution_count": null,
   "id": "2505c20187d1286f",
   "metadata": {
    "ExecuteTime": {
     "end_time": "2025-05-23T11:55:37.745924Z",
     "start_time": "2025-05-23T11:55:36.888411Z"
    }
   },
   "outputs": [],
   "source": [
    "graph = sns.relplot(\n",
    "    data=all_movies[(all_movies.country=='United States')&(all_movies.duration<120)],\n",
    "    x=all_movies.duration.name, # type: ignore[reportArgumentType]\n",
    "    y=all_movies.averageRating.name, # type: ignore[reportArgumentType]\n",
    "    kind='line',\n",
    "    height=8,\n",
    "    aspect=1.5\n",
    ")\n",
    "graph.fig.suptitle(\n",
    "    'Relation entre la durée d\\'un film américain de moins de 120min et sa note moyenne IMDB',\n",
    "    y=1.04,\n",
    "    fontsize=20\n",
    ")\n",
    "\n",
    "plt.show()"
   ]
  },
  {
   "cell_type": "markdown",
   "id": "c6b63a9b6fb406d1",
   "metadata": {},
   "source": [
    "## 2.2 Qualitative mono variable distribution"
   ]
  },
  {
   "cell_type": "markdown",
   "id": "4ba8fa2335c9e457",
   "metadata": {},
   "source": [
    "### 2.2.3 Seaborn"
   ]
  },
  {
   "cell_type": "code",
   "execution_count": null,
   "id": "99c7be995f1282c9",
   "metadata": {
    "ExecuteTime": {
     "end_time": "2025-05-23T11:55:37.913216Z",
     "start_time": "2025-05-23T11:55:37.779248Z"
    }
   },
   "outputs": [],
   "source": [
    "# data extraction\n",
    "directors = all_content.director.str.split(', ', expand=True).stack().reset_index(drop=True)\n",
    "top_directors_list = directors.value_counts().head(8)\n",
    "top_directors = pd.DataFrame(directors)\n",
    "top_directors.columns = ['Director']\n",
    "\n",
    "graph = sns.countplot(\n",
    "    data=top_directors[top_directors.Director.isin(top_directors_list.index)],\n",
    "    y=top_directors.Director.name, # type: ignore[reportArgumentType]\n",
    "    order=top_directors_list.index,\n",
    "    hue=top_directors[top_directors.Director.isin(top_directors_list.index)].Director,\n",
    "    legend=False\n",
    ")\n",
    "graph.set_xticks(np.arange(0, 11, 2))\n",
    "graph.set_xlabel('Nombre de films')\n",
    "graph.figure.suptitle('Nombre de film pour le top 8 des Directors', y=1.04, fontsize=20)\n",
    "\n",
    "plt.show()"
   ]
  },
  {
   "cell_type": "code",
   "execution_count": null,
   "id": "b774ba0a30a07faa",
   "metadata": {
    "ExecuteTime": {
     "end_time": "2025-05-23T11:55:38.167868Z",
     "start_time": "2025-05-23T11:55:37.947758Z"
    }
   },
   "outputs": [],
   "source": [
    "# data extraction\n",
    "all_content[\"year\"] = pd.to_datetime(all_content.date_added.str.strip()).dt.year\n",
    "\n",
    "graph = sns.catplot(\n",
    "    data=all_content,\n",
    "    x=all_content.year.name, # type: ignore[reportArgumentType]\n",
    "    kind='count',\n",
    "    hue=all_content.type.name, # type: ignore[reportArgumentType]\n",
    "    height=6,\n",
    "    aspect=1.5\n",
    ")\n",
    "graph.figure.suptitle('Nombre de contenu par année et par type', y=1.04, fontsize=20)\n",
    "\n",
    "plt.show()"
   ]
  },
  {
   "cell_type": "markdown",
   "id": "6cbd55dcebaa145d",
   "metadata": {},
   "source": [
    "## 2.3 Qualitative multi variable distribution"
   ]
  },
  {
   "cell_type": "markdown",
   "id": "5b1a2c5815439ad6",
   "metadata": {},
   "source": [
    "### 2.3.3 Seaborn"
   ]
  },
  {
   "cell_type": "code",
   "execution_count": null,
   "id": "62fbcb28468a4932",
   "metadata": {
    "ExecuteTime": {
     "end_time": "2025-05-23T11:55:38.415583Z",
     "start_time": "2025-05-23T11:55:38.203358Z"
    }
   },
   "outputs": [],
   "source": [
    "# data extraction\n",
    "uk_movies = all_content.loc[(all_content.type==\"Movie\") & (all_content.country.str.contains('United Kingdom'))]\n",
    "uk_series = all_content.loc[(all_content.type==\"TV Show\") & (all_content.country.str.contains('United Kingdom'))]\n",
    "\n",
    "uk_movies = uk_movies.sort_values(by='numVotes', ascending=False)\n",
    "uk_series = uk_series.sort_values(by='numVotes', ascending=False)\n",
    "\n",
    "# Afficher côte à côte deux graphiques.\n",
    "fig, axs = plt.subplots(figsize=(10, 8), nrows=1, ncols=2)\n",
    "sns.barplot(\n",
    "    data=uk_movies[:5]\n",
    "    ,x=uk_movies.Name.name # type: ignore[reportArgumentType]\n",
    "    ,y=uk_movies.numVotes.name # type: ignore[reportArgumentType]\n",
    "    ,ax=axs[0]\n",
    ")\n",
    "sns.barplot(\n",
    "    data=uk_series[:5]\n",
    "    ,x=uk_series.Name.name # type: ignore[reportArgumentType]\n",
    "    ,y=uk_series.numVotes.name # type: ignore[reportArgumentType]\n",
    "    ,ax=axs[1]\n",
    ")\n",
    "\n",
    "# inclinaison des valeurs X et Y\n",
    "axs[0].tick_params(axis='x', labelrotation=45)\n",
    "for label in axs[0].get_xticklabels():\n",
    "    label.set_ha('right')\n",
    "axs[1].tick_params(axis='x', labelrotation=45)\n",
    "for label in axs[1].get_xticklabels():\n",
    "    label.set_ha('right')\n",
    "\n",
    "# modification des valeurs affichées pour Y (votes)\n",
    "axs[0].set_yticks(\n",
    "    [0, 500000, 1000000, 1500000, 2000000, 2500000]\n",
    "    ,['0', '500k', '1M', '1,5M', '2M', '2,5M']\n",
    ")\n",
    "axs[1].set_yticks(\n",
    "    [0, 5000, 10000, 20000, 30000]\n",
    "    ,['0', '5k', '10k', '20k', '30k']\n",
    ")\n",
    "\n",
    "# modification des labels X et Y\n",
    "axs[0].set_xlabel(\"Films anglais les plus populaires\")\n",
    "axs[1].set_xlabel(\"Séries anglaises les plus populaires\")\n",
    "axs[0].set_ylabel(\"Nombre de votes\")\n",
    "axs[1].set_ylabel(\"Nombre de votes\")\n",
    "\n",
    "# ajout du titre\n",
    "fig.suptitle('Top 5 des séries et films anglais les plus populaires', y=1.02, fontsize=20)\n",
    "\n",
    "plt.tight_layout()\n",
    "plt.show()"
   ]
  },
  {
   "cell_type": "markdown",
   "id": "c049690bdd77ed0b",
   "metadata": {},
   "source": [
    "## 2.4 Quantitative multi variable correlation"
   ]
  },
  {
   "cell_type": "markdown",
   "id": "f8c6b668a9b16357",
   "metadata": {},
   "source": [
    "### 2.4.2 Seaborn"
   ]
  },
  {
   "cell_type": "code",
   "execution_count": null,
   "id": "67a8d26174ed170c",
   "metadata": {
    "ExecuteTime": {
     "end_time": "2025-05-23T11:55:38.682226Z",
     "start_time": "2025-05-23T11:55:38.459625Z"
    }
   },
   "outputs": [],
   "source": [
    "# data extraction\n",
    "all_content[\"year\"] = pd.to_datetime(all_content.date_added.str.strip()).dt.year\n",
    "\n",
    "graph = sns.lmplot(\n",
    "    data=all_content,\n",
    "    x=all_content.year.name, # type: ignore[reportArgumentType]\n",
    "    y=all_content.averageRating.name, # type: ignore[reportArgumentType]\n",
    "    lowess=True,\n",
    "    height=6,\n",
    "    aspect=1.5\n",
    ")\n",
    "graph.figure.suptitle(\n",
    "    'Evolution de la qualité du contenu du catalogue au fil du temps (régression linéaire par année)',\n",
    "    y=1.04,\n",
    "    fontsize=20)\n",
    "\n",
    "plt.show()"
   ]
  }
 ],
 "metadata": {
  "kernelspec": {
   "display_name": ".venv",
   "language": "python",
   "name": "python3"
  },
  "language_info": {
   "codemirror_mode": {
    "name": "ipython",
    "version": 3
   },
   "file_extension": ".py",
   "mimetype": "text/x-python",
   "name": "python",
   "nbconvert_exporter": "python",
   "pygments_lexer": "ipython3",
   "version": "3.13.2"
  }
 },
 "nbformat": 4,
 "nbformat_minor": 5
}
