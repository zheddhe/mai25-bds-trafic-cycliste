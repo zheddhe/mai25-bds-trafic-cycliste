{
 "cells": [
  {
   "cell_type": "markdown",
   "id": "802dcbf730ae34d",
   "metadata": {},
   "source": [
    "# 1. Initializations"
   ]
  },
  {
   "cell_type": "markdown",
   "id": "e63296014b93644d",
   "metadata": {},
   "source": [
    "## 1.1 General imports"
   ]
  },
  {
   "cell_type": "code",
   "execution_count": null,
   "id": "58063a0827de2a74",
   "metadata": {
    "ExecuteTime": {
     "end_time": "2025-05-23T11:55:24.188195Z",
     "start_time": "2025-05-23T11:55:24.175637Z"
    }
   },
   "outputs": [],
   "source": [
    "### data management\n",
    "import pandas as pd\n",
    "import numpy as np\n",
    "\n",
    "### régression\n",
    "import matplotlib.pyplot as plt\n",
    "from sklearn.cluster import AgglomerativeClustering\n",
    "from scipy.cluster.hierarchy import linkage, dendrogram\n",
    "from sklearn.metrics import silhouette_score\n",
    "\n",
    "### graphical matplotlib basics\n",
    "import matplotlib.pyplot as plt\n",
    "# for jupyter notebook management\n",
    "%matplotlib inline"
   ]
  },
  {
   "cell_type": "markdown",
   "id": "4cadfd2bea6d187b",
   "metadata": {},
   "source": [
    "## 1.2 General dataframe functions"
   ]
  },
  {
   "cell_type": "code",
   "execution_count": null,
   "id": "f67eae8c340d7f81",
   "metadata": {
    "ExecuteTime": {
     "end_time": "2025-05-23T11:55:24.753624Z",
     "start_time": "2025-05-23T11:55:24.366057Z"
    }
   },
   "outputs": [],
   "source": [
    "import smartcheck.dataframe_common as dfc"
   ]
  },
  {
   "cell_type": "markdown",
   "id": "8f76c75894df8cdd",
   "metadata": {},
   "source": [
    "## 1.3 General classification functions"
   ]
  },
  {
   "cell_type": "code",
   "execution_count": null,
   "id": "6ad184b2476fa792",
   "metadata": {
    "ExecuteTime": {
     "end_time": "2025-05-23T11:55:24.776010Z",
     "start_time": "2025-05-23T11:55:24.772421Z"
    }
   },
   "outputs": [],
   "source": [
    "# None"
   ]
  },
  {
   "cell_type": "markdown",
   "id": "b7b3f8fc02df6bab",
   "metadata": {},
   "source": [
    "# 2. Loading and Data Quality"
   ]
  },
  {
   "cell_type": "markdown",
   "id": "bc35eb2f6f567cf8",
   "metadata": {},
   "source": [
    "## 2.1 Loading of data sets and general exploration"
   ]
  },
  {
   "cell_type": "code",
   "execution_count": null,
   "id": "8d242cf121e65a3f",
   "metadata": {
    "ExecuteTime": {
     "end_time": "2025-05-23T11:55:28.255518Z",
     "start_time": "2025-05-23T11:55:24.787879Z"
    }
   },
   "outputs": [],
   "source": [
    "df_fro_raw = dfc.load_dataset_from_config('fromage_data', sep='\\t', index_col=0)\n",
    "\n",
    "if df_fro_raw is not None and isinstance(df_fro_raw, pd.DataFrame):\n",
    "    # display(df_auto_raw.head())\n",
    "    dfc.log_general_info(df_fro_raw)\n",
    "    nb_first, nb_total = dfc.detect_and_log_duplicates_and_missing(df_fro_raw)\n",
    "    if nb_first != nb_total:\n",
    "        print(dfc.duplicates_index_map(df_fro_raw))\n",
    "    df_fro = df_fro_raw.copy()\n",
    "    display(df_fro.head())"
   ]
  },
  {
   "cell_type": "code",
   "execution_count": null,
   "id": "869b5b47",
   "metadata": {},
   "outputs": [],
   "source": [
    "df_fro_desc = df_fro.select_dtypes(include=np.number).describe()\n",
    "display(df_fro_desc)\n",
    "df_fro_cr = df_fro.select_dtypes(include=np.number).corr()\n",
    "display(df_fro_cr)"
   ]
  },
  {
   "cell_type": "markdown",
   "id": "ab4ec6946215956d",
   "metadata": {},
   "source": [
    "## 2.2 Data quality refinement"
   ]
  },
  {
   "cell_type": "code",
   "execution_count": null,
   "id": "d1486ae2fb06cb25",
   "metadata": {},
   "outputs": [],
   "source": [
    "# Original backup and duplicates management\n",
    "df_fro_orig = df_fro.copy()\n",
    "# df_ri = df_ri.drop_duplicates()"
   ]
  },
  {
   "cell_type": "markdown",
   "id": "2b797265284027ac",
   "metadata": {},
   "source": [
    "# 2. Data Clustering"
   ]
  },
  {
   "cell_type": "markdown",
   "id": "44a83b55d200cb41",
   "metadata": {},
   "source": [
    "## 2.1 General Analysis"
   ]
  },
  {
   "cell_type": "code",
   "execution_count": null,
   "id": "1e55e897",
   "metadata": {},
   "outputs": [],
   "source": [
    "# Visualisation brute des données\n",
    "# Not applicable"
   ]
  },
  {
   "cell_type": "code",
   "execution_count": null,
   "id": "3695a314",
   "metadata": {},
   "outputs": [],
   "source": [
    "# Visualisation de distribution des données\n",
    "liste_data = [df_fro[col] for col in df_fro.columns]\n",
    "plt.figure()\n",
    "plt.title('Diagramme en boîte des variables explicatives')\n",
    "plt.boxplot(liste_data, tick_labels=list(df_fro.columns))\n",
    "plt.tight_layout()\n",
    "plt.show()"
   ]
  },
  {
   "cell_type": "markdown",
   "id": "d0b44282f99ef473",
   "metadata": {},
   "source": [
    "## 2.2 Agglomerative Clustering (CAH : Classification Ascendante Hiérarchique )"
   ]
  },
  {
   "cell_type": "code",
   "execution_count": null,
   "id": "6e5f7bb7",
   "metadata": {},
   "outputs": [],
   "source": [
    "# Definition et Entrainement du modèle initial (paramètre naif)\n",
    "clfAC = AgglomerativeClustering(n_clusters=4)\n",
    "clfAC.fit(df_fro)"
   ]
  },
  {
   "cell_type": "code",
   "execution_count": null,
   "id": "7caa1439",
   "metadata": {},
   "outputs": [],
   "source": [
    "# Récupération des information des clusters et visualisation\n",
    "features = clfAC.feature_names_in_\n",
    "labels = clfAC.labels_\n",
    "print(features)\n",
    "\n",
    "lk = linkage(df_fro, method = 'ward', metric = 'euclidean')\n",
    "# Initialisaion de la figrue\n",
    "plt.figure(figsize=(15, 6))\n",
    "plt.title(\"Dendrogramme CAH avec matérialisation des 4 classes (hauteur t = 300)\")\n",
    "dendrogram(lk, labels = df_fro.index, leaf_rotation = 90., color_threshold = 300);"
   ]
  },
  {
   "cell_type": "code",
   "execution_count": null,
   "id": "aa0312a0",
   "metadata": {},
   "outputs": [],
   "source": [
    "# Analyse du coefficient de silhouette (entre -1 et 1)\n",
    "print(\"Coefficient de silhouette:\", silhouette_score(df_fro, labels=labels, metric='seuclidean'))"
   ]
  },
  {
   "cell_type": "code",
   "execution_count": null,
   "id": "8fbffc9d",
   "metadata": {},
   "outputs": [],
   "source": [
    "# Optimisation du modèle sur ses hyperparamètres et représentation graphique\n",
    "range_n_clusters = [2, 3, 4, 5, 6, 7, 8, 9, 10, 11, 12, 13, 14]\n",
    "s_scores = []\n",
    "for k in range_n_clusters:\n",
    "    clfAC = AgglomerativeClustering(n_clusters = k)\n",
    "    clfAC.fit(df_fro)\n",
    "    labels = clfAC.labels_\n",
    "    s_score = silhouette_score(df_fro, labels=labels, metric='seuclidean')\n",
    "    s_scores.append(s_score) \n",
    "\n",
    "# NB : le coefficient de silhouette évalue l'homogénéité intra-cluster et la séparation inter-clusters en même temps\n",
    "plt.plot(range_n_clusters, s_scores, 'gx-')\n",
    "plt.xticks(range_n_clusters)\n",
    "plt.xlabel('Nombre de Clusters K')\n",
    "plt.ylabel('Coefficient de silhouette b-a/max(ab)')\n",
    "plt.title('Graphique du coefficient de silhouette en fonction du nombre de clusters')\n",
    "plt.show()"
   ]
  }
 ],
 "metadata": {
  "kernelspec": {
   "display_name": "Python 3",
   "language": "python",
   "name": "python3"
  },
  "language_info": {
   "codemirror_mode": {
    "name": "ipython",
    "version": 3
   },
   "file_extension": ".py",
   "mimetype": "text/x-python",
   "name": "python",
   "nbconvert_exporter": "python",
   "pygments_lexer": "ipython3",
   "version": "3.12.9"
  }
 },
 "nbformat": 4,
 "nbformat_minor": 5
}
