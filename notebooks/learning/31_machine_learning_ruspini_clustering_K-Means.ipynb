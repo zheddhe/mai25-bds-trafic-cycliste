{
 "cells": [
  {
   "cell_type": "markdown",
   "id": "802dcbf730ae34d",
   "metadata": {},
   "source": [
    "# 1. Initializations"
   ]
  },
  {
   "cell_type": "markdown",
   "id": "e63296014b93644d",
   "metadata": {},
   "source": [
    "## 1.1 General imports"
   ]
  },
  {
   "cell_type": "code",
   "execution_count": null,
   "id": "58063a0827de2a74",
   "metadata": {
    "ExecuteTime": {
     "end_time": "2025-05-23T11:55:24.188195Z",
     "start_time": "2025-05-23T11:55:24.175637Z"
    }
   },
   "outputs": [],
   "source": [
    "### data management\n",
    "import pandas as pd\n",
    "import numpy as np\n",
    "\n",
    "### régression\n",
    "import matplotlib.pyplot as plt\n",
    "from sklearn.cluster import KMeans\n",
    "from scipy.spatial.distance import cdist\n",
    "\n",
    "### graphical matplotlib basics\n",
    "import matplotlib.pyplot as plt\n",
    "# for jupyter notebook management\n",
    "%matplotlib inline"
   ]
  },
  {
   "cell_type": "markdown",
   "id": "4cadfd2bea6d187b",
   "metadata": {},
   "source": [
    "## 1.2 General dataframe functions"
   ]
  },
  {
   "cell_type": "code",
   "execution_count": null,
   "id": "f67eae8c340d7f81",
   "metadata": {
    "ExecuteTime": {
     "end_time": "2025-05-23T11:55:24.753624Z",
     "start_time": "2025-05-23T11:55:24.366057Z"
    }
   },
   "outputs": [],
   "source": [
    "import smartcheck.dataframe_common as dfc"
   ]
  },
  {
   "cell_type": "markdown",
   "id": "8f76c75894df8cdd",
   "metadata": {},
   "source": [
    "## 1.3 General classification functions"
   ]
  },
  {
   "cell_type": "code",
   "execution_count": null,
   "id": "6ad184b2476fa792",
   "metadata": {
    "ExecuteTime": {
     "end_time": "2025-05-23T11:55:24.776010Z",
     "start_time": "2025-05-23T11:55:24.772421Z"
    }
   },
   "outputs": [],
   "source": [
    "# None"
   ]
  },
  {
   "cell_type": "markdown",
   "id": "b7b3f8fc02df6bab",
   "metadata": {},
   "source": [
    "# 2. Loading and Data Quality"
   ]
  },
  {
   "cell_type": "markdown",
   "id": "bc35eb2f6f567cf8",
   "metadata": {},
   "source": [
    "## 2.1 Loading of data sets and general exploration"
   ]
  },
  {
   "cell_type": "code",
   "execution_count": null,
   "id": "8d242cf121e65a3f",
   "metadata": {
    "ExecuteTime": {
     "end_time": "2025-05-23T11:55:28.255518Z",
     "start_time": "2025-05-23T11:55:24.787879Z"
    }
   },
   "outputs": [],
   "source": [
    "df_ri_raw = dfc.load_dataset_from_config('ruspini_data', sep=',')\n",
    "\n",
    "if df_ri_raw is not None and isinstance(df_ri_raw, pd.DataFrame):\n",
    "    # display(df_auto_raw.head())\n",
    "    dfc.log_general_info(df_ri_raw)\n",
    "    nb_first, nb_total = dfc.detect_and_log_duplicates_and_missing(df_ri_raw)\n",
    "    if nb_first != nb_total:\n",
    "        print(dfc.duplicates_index_map(df_ri_raw))\n",
    "    df_ri = df_ri_raw.copy()\n",
    "    display(df_ri.head())"
   ]
  },
  {
   "cell_type": "code",
   "execution_count": null,
   "id": "869b5b47",
   "metadata": {},
   "outputs": [],
   "source": [
    "df_ri_desc = df_ri.select_dtypes(include=np.number).describe()\n",
    "display(df_ri_desc)\n",
    "df_ri_cr = df_ri.select_dtypes(include=np.number).corr()\n",
    "display(df_ri_cr)"
   ]
  },
  {
   "cell_type": "markdown",
   "id": "ab4ec6946215956d",
   "metadata": {},
   "source": [
    "## 2.2 Data quality refinement"
   ]
  },
  {
   "cell_type": "code",
   "execution_count": null,
   "id": "d1486ae2fb06cb25",
   "metadata": {},
   "outputs": [],
   "source": [
    "# Original backup and duplicates management\n",
    "df_ri_orig = df_ri.copy()\n",
    "# df_ri = df_ri.drop_duplicates()"
   ]
  },
  {
   "cell_type": "markdown",
   "id": "2b797265284027ac",
   "metadata": {},
   "source": [
    "# 2. Data Clustering"
   ]
  },
  {
   "cell_type": "markdown",
   "id": "44a83b55d200cb41",
   "metadata": {},
   "source": [
    "## 2.1 General Analysis"
   ]
  },
  {
   "cell_type": "code",
   "execution_count": null,
   "id": "1e55e897",
   "metadata": {},
   "outputs": [],
   "source": [
    "# Visualisation brute des données\n",
    "plt.scatter(df_ri.x,df_ri.y)\n",
    "plt.ylabel('y')\n",
    "plt.xlabel('x')\n",
    "plt.title('Relation entre X et Y')\n",
    "plt.tight_layout()\n",
    "plt.show()"
   ]
  },
  {
   "cell_type": "code",
   "execution_count": null,
   "id": "3695a314",
   "metadata": {},
   "outputs": [],
   "source": [
    "# Visualisation de distribution des données\n",
    "liste_data = [df_ri['x'], df_ri['y']]\n",
    "plt.figure()\n",
    "plt.title('Diagramme en boîte des deux variables explicatives')\n",
    "plt.boxplot(liste_data, tick_labels = ['x', 'y'])\n",
    "plt.tight_layout()\n",
    "plt.show()"
   ]
  },
  {
   "cell_type": "markdown",
   "id": "d0b44282f99ef473",
   "metadata": {},
   "source": [
    "## 2.2 K-Means"
   ]
  },
  {
   "cell_type": "code",
   "execution_count": null,
   "id": "6e5f7bb7",
   "metadata": {},
   "outputs": [],
   "source": [
    "# Definition et Entrainement du modèle initial (paramètre naif)\n",
    "clfKM = KMeans(n_clusters=2)\n",
    "clfKM.fit(df_ri)"
   ]
  },
  {
   "cell_type": "code",
   "execution_count": null,
   "id": "7caa1439",
   "metadata": {},
   "outputs": [],
   "source": [
    "# Récupération des information des clusters et visualisation\n",
    "centroids = clfKM.cluster_centers_\n",
    "labels = clfKM.labels_\n",
    "for i, cluster in enumerate(centroids):\n",
    "    print(f\"Cluster [{i}] avec centre en position [{centroids[i][0]}, {centroids[i][1]}]\")\n",
    "colors = [\"g.\",\"r.\"]\n",
    "# Graphique des données\n",
    "for i in range(len(df_ri)):\n",
    "    plt.plot(np.array(df_ri.iloc[i,0]), np.array(df_ri.iloc[i,1]), colors[labels[i]], markersize = 10)\n",
    "# Graphique des centroïdes\n",
    "plt.scatter(centroids[:, 0],centroids[:, 1], marker = \"o\", color = \"blue\",s=30, linewidths = 1, zorder = 10)\n",
    "plt.show()"
   ]
  },
  {
   "cell_type": "code",
   "execution_count": null,
   "id": "aa0312a0",
   "metadata": {},
   "outputs": [],
   "source": [
    "# Optimisation du modèle sur ses hyperparamètres et représentation graphique\n",
    "range_n_clusters = [i for i in range(2,8)]\n",
    "d_scores = []\n",
    "for k in range_n_clusters:\n",
    "    clfKM = KMeans(n_clusters = k)\n",
    "    clfKM.fit(df_ri)\n",
    "    centroids = clfKM.cluster_centers_\n",
    "    labels = clfKM.labels_\n",
    "    d_score = np.sum(np.min(cdist(df_ri, centroids, 'euclidean'), axis=1))/np.size(df_ri, axis=0)\n",
    "    d_scores.append(d_score) \n",
    "\n",
    "plt.plot(range_n_clusters, d_scores, 'gx-')\n",
    "plt.xticks(range_n_clusters)\n",
    "plt.xlabel('Nombre de Clusters K')\n",
    "plt.ylabel('Distorsion SSW/(SSW+SSB)')\n",
    "plt.title('Méthode du coude affichant le nombre de clusters optimal')\n",
    "plt.show()"
   ]
  },
  {
   "cell_type": "code",
   "execution_count": null,
   "id": "7b1e1d15",
   "metadata": {},
   "outputs": [],
   "source": [
    "# Définition et entrainement du modèle final\n",
    "clfKM = KMeans(n_clusters=4)\n",
    "clfKM.fit(df_ri)"
   ]
  },
  {
   "cell_type": "code",
   "execution_count": null,
   "id": "df4ffb95",
   "metadata": {},
   "outputs": [],
   "source": [
    "# Récupération des information des clusters et visualisation\n",
    "centroids = clfKM.cluster_centers_\n",
    "labels = clfKM.labels_\n",
    "for i, cluster in enumerate(centroids):\n",
    "    print(f\"Cluster [{i}] avec centre en position[{centroids[i][0]}, {centroids[i][1]}]\")\n",
    "colors = [\"g.\",\"r.\",\"c.\",\"y.\"]\n",
    "# Graphique des données\n",
    "for i in range(len(df_ri)):\n",
    "    plt.plot(np.array(df_ri.iloc[i,0]), np.array(df_ri.iloc[i,1]), colors[labels[i]], markersize = 10)\n",
    "# Graphique des centroïdes\n",
    "plt.scatter(centroids[:, 0],centroids[:, 1], marker = \"o\", color = \"blue\",s=30, linewidths = 1, zorder = 10)\n",
    "plt.show()"
   ]
  }
 ],
 "metadata": {
  "kernelspec": {
   "display_name": "Python 3",
   "language": "python",
   "name": "python3"
  },
  "language_info": {
   "codemirror_mode": {
    "name": "ipython",
    "version": 3
   },
   "file_extension": ".py",
   "mimetype": "text/x-python",
   "name": "python",
   "nbconvert_exporter": "python",
   "pygments_lexer": "ipython3",
   "version": "3.12.9"
  }
 },
 "nbformat": 4,
 "nbformat_minor": 5
}
