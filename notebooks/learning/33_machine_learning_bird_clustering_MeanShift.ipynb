{
 "cells": [
  {
   "cell_type": "markdown",
   "id": "0",
   "metadata": {},
   "source": [
    "# 1. Initializations"
   ]
  },
  {
   "cell_type": "markdown",
   "id": "1",
   "metadata": {},
   "source": [
    "## 1.1 General imports"
   ]
  },
  {
   "cell_type": "code",
   "execution_count": null,
   "id": "2",
   "metadata": {},
   "outputs": [],
   "source": [
    "### extra\n",
    "from PIL import Image\n",
    "\n",
    "### data management\n",
    "# import pandas as pd\n",
    "import numpy as np\n",
    "\n",
    "### régression\n",
    "import matplotlib.pyplot as plt\n",
    "from sklearn.cluster import MeanShift, estimate_bandwidth\n",
    "\n",
    "### graphical matplotlib basics\n",
    "import matplotlib.pyplot as plt\n",
    "from mpl_toolkits.mplot3d import Axes3D\n",
    "# for jupyter notebook management\n",
    "%matplotlib inline"
   ]
  },
  {
   "cell_type": "markdown",
   "id": "3",
   "metadata": {},
   "source": [
    "## 1.2 General dataframe functions"
   ]
  },
  {
   "cell_type": "code",
   "execution_count": null,
   "id": "4",
   "metadata": {},
   "outputs": [],
   "source": [
    "# import smartcheck.dataframe_common as dfc\n",
    "import smartcheck.paths as pth"
   ]
  },
  {
   "cell_type": "markdown",
   "id": "5",
   "metadata": {},
   "source": [
    "## 1.3 General classification functions"
   ]
  },
  {
   "cell_type": "code",
   "execution_count": null,
   "id": "6",
   "metadata": {},
   "outputs": [],
   "source": [
    "def get_clusters_centroids(X, quantile, n_samples):\n",
    "    bandwidth = estimate_bandwidth(X, quantile = quantile, n_samples = n_samples)\n",
    "    cluster = MeanShift(bandwidth = bandwidth)\n",
    "    cluster.fit(X)\n",
    "    labels = cluster.labels_\n",
    "    centroids = cluster.cluster_centers_\n",
    "    return centroids, labels"
   ]
  },
  {
   "cell_type": "markdown",
   "id": "7",
   "metadata": {},
   "source": [
    "# 2. Loading and Data Quality"
   ]
  },
  {
   "cell_type": "markdown",
   "id": "8",
   "metadata": {},
   "source": [
    "## 2.1 Loading of data sets and general exploration"
   ]
  },
  {
   "cell_type": "code",
   "execution_count": null,
   "id": "9",
   "metadata": {},
   "outputs": [],
   "source": [
    "# Chargement\n",
    "bird_img_path = pth.get_full_path(\"smartcheck\\\\resources\\\\bird_small.png\")\n",
    "print(\"File Full Path:\",bird_img_path)\n",
    "bird_img = plt.imread(bird_img_path)"
   ]
  },
  {
   "cell_type": "code",
   "execution_count": null,
   "id": "10",
   "metadata": {},
   "outputs": [],
   "source": [
    "# Visualisation\n",
    "print(\"Dimensions de l'image:\", bird_img.shape)\n",
    "plt.imshow(bird_img);"
   ]
  },
  {
   "cell_type": "markdown",
   "id": "11",
   "metadata": {},
   "source": [
    "## 2.2 Data quality refinement"
   ]
  },
  {
   "cell_type": "code",
   "execution_count": null,
   "id": "12",
   "metadata": {},
   "outputs": [],
   "source": [
    "# Remaniement des dimensions de l'image en 2D \n",
    "# suppression de la transparence alpha (RGB Alpha -> RGB) pour diminuer le nombre de variables d'entrainement\n",
    "bird_img = bird_img[:, :, :3]\n",
    "bird_rs = np.reshape(bird_img, (bird_img.shape[0]*bird_img.shape[1], bird_img.shape[2]))"
   ]
  },
  {
   "cell_type": "code",
   "execution_count": null,
   "id": "13",
   "metadata": {},
   "outputs": [],
   "source": [
    "# Visualisation\n",
    "print(\"Dimensions de l'image:\", bird_img.shape)\n",
    "plt.imshow(bird_img);"
   ]
  },
  {
   "cell_type": "markdown",
   "id": "14",
   "metadata": {},
   "source": [
    "# 2. Data Clustering"
   ]
  },
  {
   "cell_type": "markdown",
   "id": "15",
   "metadata": {},
   "source": [
    "## 2.1 General Analysis"
   ]
  },
  {
   "cell_type": "code",
   "execution_count": null,
   "id": "16",
   "metadata": {},
   "outputs": [],
   "source": [
    "# Visualisation brute des données\n",
    "# R, G, B pour les axes\n",
    "r, g, b = bird_rs[:, 0], bird_rs[:, 1], bird_rs[:, 2]\n",
    "fig = plt.figure(figsize=(10,10))\n",
    "ax = fig.add_subplot(111, projection='3d')\n",
    "ax.scatter(r, g, b, c=bird_rs, marker='o')\n",
    "ax.view_init(elev=10, azim=90)\n",
    "ax.set_xlabel('Red')\n",
    "ax.set_ylabel('Green')\n",
    "ax.set_zlabel('Blue')\n",
    "ax.set_title('RGB image Scatter 3D')\n",
    "plt.show()"
   ]
  },
  {
   "cell_type": "markdown",
   "id": "17",
   "metadata": {},
   "source": [
    "## 2.2 Agglomerative Clustering (CAH : Classification Ascendante Hiérarchique )"
   ]
  },
  {
   "cell_type": "code",
   "execution_count": null,
   "id": "18",
   "metadata": {},
   "outputs": [],
   "source": [
    "# Récupération des information des clusters et visualisation /!\\ TRES COUTEUX\n",
    "centroids, labels = get_clusters_centroids(bird_rs, 0.1, 200)"
   ]
  },
  {
   "cell_type": "code",
   "execution_count": null,
   "id": "19",
   "metadata": {},
   "outputs": [],
   "source": [
    "# Application de la compression mathématique aux données\n",
    "print(centroids.shape, centroids)\n",
    "print(labels.shape, labels)\n",
    "bird_rs_zip = np.zeros(bird_rs.shape)\n",
    "for i in range(len(bird_rs_zip)):\n",
    "    bird_rs_zip[i] = centroids[labels[i]]"
   ]
  },
  {
   "cell_type": "code",
   "execution_count": null,
   "id": "20",
   "metadata": {},
   "outputs": [],
   "source": [
    "# reconstitution de l'image d'origine\n",
    "bird_img_zip = np.reshape(bird_rs_zip, (bird_img.shape[0], bird_img.shape[1], bird_img.shape[2]))\n",
    "plt.figure()\n",
    "plt.subplot(121)\n",
    "plt.imshow(bird_img)\n",
    "plt.title('Image originale')\n",
    "plt.subplot(122)\n",
    "plt.imshow(bird_img_zip)\n",
    "plt.title('Image reconstruite')\n",
    "plt.show()"
   ]
  }
 ],
 "metadata": {
  "kernelspec": {
   "display_name": "Python 3",
   "language": "python",
   "name": "python3"
  },
  "language_info": {
   "codemirror_mode": {
    "name": "ipython",
    "version": 3
   },
   "file_extension": ".py",
   "mimetype": "text/x-python",
   "name": "python",
   "nbconvert_exporter": "python",
   "pygments_lexer": "ipython3",
   "version": "3.12.9"
  }
 },
 "nbformat": 4,
 "nbformat_minor": 5
}
