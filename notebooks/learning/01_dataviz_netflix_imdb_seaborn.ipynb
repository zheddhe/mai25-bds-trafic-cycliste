{
 "cells": [
  {
   "cell_type": "markdown",
   "id": "0",
   "metadata": {},
   "source": [
    "# 1. Initializations"
   ]
  },
  {
   "cell_type": "markdown",
   "id": "1",
   "metadata": {},
   "source": [
    "## 1.1 General imports"
   ]
  },
  {
   "cell_type": "code",
   "execution_count": null,
   "id": "2",
   "metadata": {},
   "outputs": [],
   "source": [
    "### data management\n",
    "import pandas as pd\n",
    "import numpy as np\n",
    "\n",
    "### graphical matplotlib basics\n",
    "import matplotlib.pyplot as plt\n",
    "# for jupyter notebook management\n",
    "%matplotlib inline\n",
    "\n",
    "### graphical seaborn basics\n",
    "import seaborn as sns"
   ]
  },
  {
   "cell_type": "markdown",
   "id": "3",
   "metadata": {},
   "source": [
    "## 1.2 General dataframe functions"
   ]
  },
  {
   "cell_type": "code",
   "execution_count": null,
   "id": "4",
   "metadata": {},
   "outputs": [],
   "source": [
    "import smartcheck.dataframe_common as dfc"
   ]
  },
  {
   "cell_type": "markdown",
   "id": "5",
   "metadata": {},
   "source": [
    "## 1.3 General seaborn functions"
   ]
  },
  {
   "cell_type": "code",
   "execution_count": null,
   "id": "6",
   "metadata": {},
   "outputs": [],
   "source": [
    "# None"
   ]
  },
  {
   "cell_type": "markdown",
   "id": "7",
   "metadata": {},
   "source": [
    "# 2. Loading and Data Quality"
   ]
  },
  {
   "cell_type": "markdown",
   "id": "8",
   "metadata": {},
   "source": [
    "## 2.1 Loading of data sets and general exploration"
   ]
  },
  {
   "cell_type": "markdown",
   "id": "9",
   "metadata": {},
   "source": [
    "### 2.1.1 NETFLIX"
   ]
  },
  {
   "cell_type": "code",
   "execution_count": null,
   "id": "10",
   "metadata": {},
   "outputs": [],
   "source": [
    "df_netflix_raw = dfc.load_dataset_from_config('netflix_data', sep=',')\n",
    "\n",
    "if df_netflix_raw is not None and isinstance(df_netflix_raw, pd.DataFrame):\n",
    "    dfc.log_general_info(df_netflix_raw)\n",
    "    nb_first, nb_total = dfc.detect_and_log_duplicates_and_missing(df_netflix_raw)\n",
    "    if nb_first != nb_total:\n",
    "        print(dfc.duplicates_index_map(df_netflix_raw))\n",
    "    df_netflix = dfc.normalize_column_names(df_netflix_raw)\n",
    "    display(df_netflix.head())"
   ]
  },
  {
   "cell_type": "code",
   "execution_count": null,
   "id": "11",
   "metadata": {},
   "outputs": [],
   "source": [
    "df_netflix_desc = df_netflix.select_dtypes(include=np.number).describe()\n",
    "display(df_netflix_desc)\n",
    "df_netflix_cr = df_netflix.select_dtypes(include=np.number).corr()\n",
    "display(df_netflix_cr)"
   ]
  },
  {
   "cell_type": "markdown",
   "id": "12",
   "metadata": {},
   "source": [
    "### 2.1.2 IMDB"
   ]
  },
  {
   "cell_type": "code",
   "execution_count": null,
   "id": "13",
   "metadata": {},
   "outputs": [],
   "source": [
    "df_imdb_raw = dfc.load_dataset_from_config('imdb_data', sep=',')\n",
    "\n",
    "if df_imdb_raw is not None and isinstance(df_imdb_raw, pd.DataFrame):\n",
    "    dfc.log_general_info(df_imdb_raw)\n",
    "    nb_first, nb_total = dfc.detect_and_log_duplicates_and_missing(df_imdb_raw)\n",
    "    if nb_first != nb_total:\n",
    "        print(dfc.duplicates_index_map(df_imdb_raw))\n",
    "    df_imdb = dfc.normalize_column_names(df_imdb_raw)\n",
    "    display(df_imdb.head())"
   ]
  },
  {
   "cell_type": "code",
   "execution_count": null,
   "id": "14",
   "metadata": {},
   "outputs": [],
   "source": [
    "df_imdb_desc = df_imdb.select_dtypes(include=np.number).describe()\n",
    "display(df_imdb_desc)\n",
    "df_imdb_cr = df_imdb.select_dtypes(include=np.number).corr()\n",
    "display(df_imdb_cr)"
   ]
  },
  {
   "cell_type": "markdown",
   "id": "15",
   "metadata": {},
   "source": [
    "## 2.2 Data quality refinement"
   ]
  },
  {
   "cell_type": "markdown",
   "id": "16",
   "metadata": {},
   "source": [
    "### 2.2.1 NETFLIX"
   ]
  },
  {
   "cell_type": "code",
   "execution_count": null,
   "id": "17",
   "metadata": {},
   "outputs": [],
   "source": [
    "# Original backup and duplicates management\n",
    "df_netflix_orig = df_netflix.copy()\n",
    "df_netflix = df_netflix.drop_duplicates()"
   ]
  },
  {
   "cell_type": "code",
   "execution_count": null,
   "id": "18",
   "metadata": {},
   "outputs": [],
   "source": [
    "# Analysis of variable rating\n",
    "dfc.display_variable_info(df_netflix_raw.rating)\n",
    "print(\"valeur la plus représentée :\",df_netflix_raw.rating.mode()[0])\n",
    "df_netflix_raw.rating = df_netflix_raw.rating.fillna(df_netflix_raw.rating.mode()[0])"
   ]
  },
  {
   "cell_type": "code",
   "execution_count": null,
   "id": "19",
   "metadata": {},
   "outputs": [],
   "source": [
    "# Analysis of variable director\n",
    "dfc.display_variable_info(df_netflix.director[:10])\n",
    "print(\"valeur la plus représentée :\",df_netflix.director.mode()[0])\n",
    "# pas de changement avec la valeur la plus représentée pour ne pas altérer la répartition des données"
   ]
  },
  {
   "cell_type": "markdown",
   "id": "20",
   "metadata": {},
   "source": [
    "### 2.2.1 IMDB"
   ]
  },
  {
   "cell_type": "code",
   "execution_count": null,
   "id": "21",
   "metadata": {},
   "outputs": [],
   "source": [
    "df_imdb_orig = df_imdb.copy()\n",
    "df_imdb = df_imdb.drop_duplicates()"
   ]
  },
  {
   "cell_type": "code",
   "execution_count": null,
   "id": "22",
   "metadata": {},
   "outputs": [],
   "source": [
    "df_imdb['average_rating'] = pd.to_numeric(df_imdb.rate, errors='coerce')\n",
    "dfc.display_variable_info(df_imdb.average_rating.sort_values(ascending=False).head(10))\n",
    "\n",
    "df_imdb['num_votes'] = pd.to_numeric(df_imdb.votes.str.replace(',', ''), errors='coerce')\n",
    "dfc.display_variable_info(df_imdb.num_votes.sort_values(ascending=False).head(10))\n",
    "\n",
    "df_imdb = df_imdb.drop_duplicates()"
   ]
  },
  {
   "cell_type": "markdown",
   "id": "23",
   "metadata": {},
   "source": [
    "## 2.3 Data combination and rework"
   ]
  },
  {
   "cell_type": "code",
   "execution_count": null,
   "id": "24",
   "metadata": {},
   "outputs": [],
   "source": [
    "all_content = pd.merge(df_netflix, df_imdb, left_on = ['title','release_year'], right_on = ['name','date'], how='inner')\n",
    "display(all_content.info())\n",
    "all_movies = all_content[all_content.type_x=='Movie'].copy()\n",
    "all_movies['duration'] = all_movies.duration_x.apply(lambda dur: dur.replace(' min', '')).astype(int)\n",
    "display(all_movies.head())"
   ]
  },
  {
   "cell_type": "markdown",
   "id": "25",
   "metadata": {},
   "source": [
    "# 3. Data Viz' and Analysis"
   ]
  },
  {
   "cell_type": "markdown",
   "id": "26",
   "metadata": {},
   "source": [
    "## 3.1 General Configuration"
   ]
  },
  {
   "cell_type": "code",
   "execution_count": null,
   "id": "27",
   "metadata": {},
   "outputs": [],
   "source": [
    "sns.set_theme(style = \"ticks\", context = \"talk\", palette = \"bright\")"
   ]
  },
  {
   "cell_type": "markdown",
   "id": "28",
   "metadata": {},
   "source": [
    "## 3.2 Quantitative mono variable distribution"
   ]
  },
  {
   "cell_type": "code",
   "execution_count": null,
   "id": "29",
   "metadata": {},
   "outputs": [],
   "source": [
    "graph = sns.displot(\n",
    "    data=all_movies,\n",
    "    x=all_movies.average_rating.name, # type: ignore[reportArgumentType]\n",
    "    kind='hist',\n",
    "    bins=15,\n",
    "    kde=True,\n",
    "    height=8,\n",
    "    aspect=1.5\n",
    ")\n",
    "graph.figure.suptitle(\n",
    "    'Répartition par histogramme et estimation de la densité de noyau pour averageRating',\n",
    "    y=1.04,\n",
    "    fontsize=20\n",
    ")\n",
    "\n",
    "plt.show()"
   ]
  },
  {
   "cell_type": "code",
   "execution_count": null,
   "id": "30",
   "metadata": {},
   "outputs": [],
   "source": [
    "graph = sns.relplot(\n",
    "    data=all_movies[(all_movies.country=='United States')&(all_movies.duration<120)],\n",
    "    x=all_movies.duration.name, # type: ignore[reportArgumentType]\n",
    "    y=all_movies.average_rating.name, # type: ignore[reportArgumentType]\n",
    "    kind='line',\n",
    "    height=8,\n",
    "    aspect=1.5\n",
    ")\n",
    "graph.figure.suptitle(\n",
    "    'Relation entre la durée d\\'un film américain de moins de 120min et sa note moyenne IMDB',\n",
    "    y=1.04,\n",
    "    fontsize=20\n",
    ")\n",
    "\n",
    "plt.show()"
   ]
  },
  {
   "cell_type": "markdown",
   "id": "31",
   "metadata": {},
   "source": [
    "## 3.3 Qualitative mono variable distribution"
   ]
  },
  {
   "cell_type": "code",
   "execution_count": null,
   "id": "32",
   "metadata": {},
   "outputs": [],
   "source": [
    "# data extraction\n",
    "directors = all_content.director.str.split(', ', expand=True).stack().reset_index(drop=True)\n",
    "top_directors_list = directors.value_counts().head(8)\n",
    "top_directors = pd.DataFrame(directors)\n",
    "top_directors.columns = ['director']\n",
    "\n",
    "graph = sns.countplot(\n",
    "    data=top_directors[top_directors.director.isin(top_directors_list.index)],\n",
    "    y=top_directors.director.name, # type: ignore[reportArgumentType]\n",
    "    order=top_directors_list.index,\n",
    "    hue=top_directors[top_directors.director.isin(top_directors_list.index)].director,\n",
    "    legend=False\n",
    ")\n",
    "graph.set_xticks(np.arange(0, 11, 2))\n",
    "graph.set_xlabel('Nombre de films')\n",
    "graph.figure.suptitle('Nombre de film pour le top 8 des Directors', y=1.04, fontsize=20)\n",
    "\n",
    "plt.show()"
   ]
  },
  {
   "cell_type": "code",
   "execution_count": null,
   "id": "33",
   "metadata": {},
   "outputs": [],
   "source": [
    "# data extraction\n",
    "all_content[\"year\"] = pd.to_datetime(all_content.date_added.str.strip()).dt.year\n",
    "\n",
    "graph = sns.catplot(\n",
    "    data=all_content,\n",
    "    x=all_content.year.name, # type: ignore[reportArgumentType]\n",
    "    kind='count',\n",
    "    hue=all_content.type_x.name, # type: ignore[reportArgumentType]\n",
    "    height=6,\n",
    "    aspect=1.5\n",
    ")\n",
    "graph.figure.suptitle('Nombre de contenu par année et par type', y=1.04, fontsize=20)\n",
    "\n",
    "plt.show()"
   ]
  },
  {
   "cell_type": "markdown",
   "id": "34",
   "metadata": {},
   "source": [
    "## 3.4 Qualitative multi variable distribution"
   ]
  },
  {
   "cell_type": "code",
   "execution_count": null,
   "id": "35",
   "metadata": {},
   "outputs": [],
   "source": [
    "# data extraction\n",
    "uk_movies = all_content.loc[(all_content.type_x==\"Movie\") & (all_content.country.str.contains('United Kingdom'))]\n",
    "uk_series = all_content.loc[(all_content.type_x==\"TV Show\") & (all_content.country.str.contains('United Kingdom'))]\n",
    "\n",
    "uk_movies = uk_movies.sort_values(by='num_votes', ascending=False)\n",
    "uk_series = uk_series.sort_values(by='num_votes', ascending=False)\n",
    "\n",
    "# Afficher côte à côte deux graphiques.\n",
    "fig, axs = plt.subplots(figsize=(10, 8), nrows=1, ncols=2)\n",
    "sns.barplot(\n",
    "    data=uk_movies[:5]\n",
    "    ,x=uk_movies.name.name # type: ignore[reportArgumentType]\n",
    "    ,y=uk_movies.num_votes.name # type: ignore[reportArgumentType]\n",
    "    ,ax=axs[0]\n",
    ")\n",
    "sns.barplot(\n",
    "    data=uk_series[:5]\n",
    "    ,x=uk_series.name.name # type: ignore[reportArgumentType]\n",
    "    ,y=uk_series.num_votes.name # type: ignore[reportArgumentType]\n",
    "    ,ax=axs[1]\n",
    ")\n",
    "\n",
    "# inclinaison des valeurs X et Y\n",
    "axs[0].tick_params(axis='x', labelrotation=45)\n",
    "for label in axs[0].get_xticklabels():\n",
    "    label.set_ha('right')\n",
    "axs[1].tick_params(axis='x', labelrotation=45)\n",
    "for label in axs[1].get_xticklabels():\n",
    "    label.set_ha('right')\n",
    "\n",
    "# modification des valeurs affichées pour Y (votes)\n",
    "axs[0].set_yticks(\n",
    "    [0, 500000, 1000000, 1500000, 2000000, 2500000]\n",
    "    ,['0', '500k', '1M', '1,5M', '2M', '2,5M']\n",
    ")\n",
    "axs[1].set_yticks(\n",
    "    [0, 5000, 10000, 20000, 30000]\n",
    "    ,['0', '5k', '10k', '20k', '30k']\n",
    ")\n",
    "\n",
    "# modification des labels X et Y\n",
    "axs[0].set_xlabel(\"Films anglais les plus populaires\")\n",
    "axs[1].set_xlabel(\"Séries anglaises les plus populaires\")\n",
    "axs[0].set_ylabel(\"Nombre de votes\")\n",
    "axs[1].set_ylabel(\"Nombre de votes\")\n",
    "\n",
    "# ajout du titre\n",
    "fig.suptitle('Top 5 des séries et films anglais les plus populaires', y=1.02, fontsize=20)\n",
    "\n",
    "plt.tight_layout()\n",
    "plt.show()"
   ]
  },
  {
   "cell_type": "markdown",
   "id": "36",
   "metadata": {},
   "source": [
    "## 3.5 Quantitative multi variable correlation"
   ]
  },
  {
   "cell_type": "code",
   "execution_count": null,
   "id": "37",
   "metadata": {},
   "outputs": [],
   "source": [
    "# data extraction\n",
    "all_content[\"year\"] = pd.to_datetime(all_content.date_added.str.strip()).dt.year\n",
    "\n",
    "graph = sns.lmplot(\n",
    "    data=all_content,\n",
    "    x=all_content.year.name, # type: ignore[reportArgumentType]\n",
    "    y=all_content.average_rating.name, # type: ignore[reportArgumentType]\n",
    "    lowess=True,\n",
    "    height=6,\n",
    "    aspect=1.5\n",
    ")\n",
    "graph.figure.suptitle(\n",
    "    'Evolution de la qualité du contenu du catalogue au fil du temps (régression linéaire par année)',\n",
    "    y=1.04,\n",
    "    fontsize=20)\n",
    "\n",
    "plt.show()"
   ]
  }
 ],
 "metadata": {
  "kernelspec": {
   "display_name": "Python 3",
   "language": "python",
   "name": "python3"
  },
  "language_info": {
   "codemirror_mode": {
    "name": "ipython",
    "version": 3
   },
   "file_extension": ".py",
   "mimetype": "text/x-python",
   "name": "python",
   "nbconvert_exporter": "python",
   "pygments_lexer": "ipython3",
   "version": "3.12.9"
  }
 },
 "nbformat": 4,
 "nbformat_minor": 5
}
