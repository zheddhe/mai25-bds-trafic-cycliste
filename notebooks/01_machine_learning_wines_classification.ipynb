{
 "cells": [
  {
   "cell_type": "markdown",
   "id": "802dcbf730ae34d",
   "metadata": {},
   "source": [
    "# 1. Initializations"
   ]
  },
  {
   "cell_type": "markdown",
   "id": "e63296014b93644d",
   "metadata": {},
   "source": [
    "## 1.1 General imports"
   ]
  },
  {
   "cell_type": "code",
   "execution_count": null,
   "id": "58063a0827de2a74",
   "metadata": {
    "ExecuteTime": {
     "end_time": "2025-05-23T11:55:24.188195Z",
     "start_time": "2025-05-23T11:55:24.175637Z"
    }
   },
   "outputs": [],
   "source": [
    "### data management\n",
    "import pandas as pd\n",
    "import numpy as np\n",
    "\n",
    "### classification\n",
    "from sklearn import linear_model\n",
    "from sklearn.model_selection import train_test_split\n",
    "from sklearn.preprocessing import OneHotEncoder, label_binarize\n",
    "from sklearn.metrics import confusion_matrix, classification_report, roc_curve, auc\n",
    "\n",
    "### graphical plotly basics\n",
    "import plotly.graph_objects as go\n",
    "# for jupyter notebook display management\n",
    "import plotly.io as pio\n",
    "pio.renderers.default = \"notebook\""
   ]
  },
  {
   "cell_type": "markdown",
   "id": "4cadfd2bea6d187b",
   "metadata": {},
   "source": [
    "## 1.2 General dataframe functions"
   ]
  },
  {
   "cell_type": "code",
   "execution_count": null,
   "id": "f67eae8c340d7f81",
   "metadata": {
    "ExecuteTime": {
     "end_time": "2025-05-23T11:55:24.753624Z",
     "start_time": "2025-05-23T11:55:24.366057Z"
    }
   },
   "outputs": [],
   "source": [
    "import smartcheck.dataframe_common as dfc"
   ]
  },
  {
   "cell_type": "markdown",
   "id": "8f76c75894df8cdd",
   "metadata": {},
   "source": [
    "## 1.3 General classification functions"
   ]
  },
  {
   "cell_type": "code",
   "execution_count": null,
   "id": "6ad184b2476fa792",
   "metadata": {
    "ExecuteTime": {
     "end_time": "2025-05-23T11:55:24.776010Z",
     "start_time": "2025-05-23T11:55:24.772421Z"
    }
   },
   "outputs": [],
   "source": [
    "# None"
   ]
  },
  {
   "cell_type": "markdown",
   "id": "b7b3f8fc02df6bab",
   "metadata": {},
   "source": [
    "# 2. Loading and Data Quality"
   ]
  },
  {
   "cell_type": "markdown",
   "id": "bc35eb2f6f567cf8",
   "metadata": {},
   "source": [
    "## 2.1 Loading of data sets and general exploration"
   ]
  },
  {
   "cell_type": "markdown",
   "id": "2d6ecc4138c9782b",
   "metadata": {},
   "source": [
    "### 2.1.1 WINES"
   ]
  },
  {
   "cell_type": "code",
   "execution_count": null,
   "id": "8d242cf121e65a3f",
   "metadata": {
    "ExecuteTime": {
     "end_time": "2025-05-23T11:55:28.255518Z",
     "start_time": "2025-05-23T11:55:24.787879Z"
    }
   },
   "outputs": [],
   "source": [
    "df_wines_raw = dfc.load_dataset_from_config('wines_data', sep=',')\n",
    "\n",
    "if df_wines_raw is not None and isinstance(df_wines_raw, pd.DataFrame):\n",
    "    display(df_wines_raw.head())\n",
    "    dfc.log_general_info(df_wines_raw)\n",
    "    nb_first, nb_total = dfc.detect_and_log_duplicates_and_missing(df_wines_raw)\n",
    "    if nb_first != nb_total:\n",
    "        print(dfc.duplicates_index_map(df_wines_raw))\n",
    "    df_wines = dfc.normalize_column_names(df_wines_raw)\n",
    "    display(df_wines.head())"
   ]
  },
  {
   "cell_type": "code",
   "execution_count": null,
   "id": "c29fbe51",
   "metadata": {},
   "outputs": [],
   "source": [
    "df_wines_desc = df_wines.select_dtypes(include=np.number).describe()\n",
    "display(df_wines_desc)\n",
    "df_wines_cr = df_wines.select_dtypes(include=np.number).corr()\n",
    "display(df_wines_cr)"
   ]
  },
  {
   "cell_type": "markdown",
   "id": "ab4ec6946215956d",
   "metadata": {},
   "source": [
    "## 2.2 Data quality refinement"
   ]
  },
  {
   "cell_type": "markdown",
   "id": "d1486ae2fb06cb25",
   "metadata": {},
   "source": [
    "### 2.2.1 WINES"
   ]
  },
  {
   "cell_type": "code",
   "execution_count": null,
   "id": "4b99e9beaf4bb2be",
   "metadata": {
    "ExecuteTime": {
     "end_time": "2025-05-23T11:55:35.882270Z",
     "start_time": "2025-05-23T11:55:35.863947Z"
    }
   },
   "outputs": [],
   "source": [
    "# original backup and dupplicates management\n",
    "df_wines_orig = df_wines.copy()\n",
    "df_wines = df_wines.drop_duplicates()"
   ]
  },
  {
   "cell_type": "markdown",
   "id": "2b797265284027ac",
   "metadata": {},
   "source": [
    "# 2. Data Classification"
   ]
  },
  {
   "cell_type": "markdown",
   "id": "44a83b55d200cb41",
   "metadata": {},
   "source": [
    "## 2.1 General Analysis"
   ]
  },
  {
   "cell_type": "code",
   "execution_count": null,
   "id": "b82e847f5f7ddb29",
   "metadata": {
    "ExecuteTime": {
     "end_time": "2025-05-23T11:55:36.276345Z",
     "start_time": "2025-05-23T11:55:36.272714Z"
    }
   },
   "outputs": [],
   "source": [
    "\n",
    "# categorisation for first level human eye classification estimation using quartiles\n",
    "malic_acid = pd.cut(\n",
    "    x=df_wines.malic_acid, \n",
    "    bins=[df_wines_desc.malic_acid['min'],\n",
    "          df_wines_desc.malic_acid['25%'],\n",
    "          df_wines_desc.malic_acid['50%'],\n",
    "          df_wines_desc.malic_acid['75%'],\n",
    "          df_wines_desc.malic_acid['max']],\n",
    "    labels=['low', 'medium-', 'medium+', 'high']\n",
    ")\n",
    "display(pd.crosstab(df_wines['class'], malic_acid, normalize='columns'))\n",
    "flavanoids = pd.cut(    \n",
    "    x=df_wines.flavanoids, \n",
    "    bins=[df_wines_desc.flavanoids['min'],\n",
    "          df_wines_desc.flavanoids['25%'],\n",
    "          df_wines_desc.flavanoids['50%'],\n",
    "          df_wines_desc.flavanoids['75%'],\n",
    "          df_wines_desc.flavanoids['max']],\n",
    "    labels=['low', 'medium-', 'medium+', 'high']\n",
    ")\n",
    "display(pd.crosstab(df_wines['class'], flavanoids, normalize='columns'))\n"
   ]
  },
  {
   "cell_type": "markdown",
   "id": "d0b44282f99ef473",
   "metadata": {},
   "source": [
    "## 2.2 Linear Regression"
   ]
  },
  {
   "cell_type": "code",
   "execution_count": null,
   "id": "67a8d26174ed170c",
   "metadata": {
    "ExecuteTime": {
     "end_time": "2025-05-23T11:55:38.682226Z",
     "start_time": "2025-05-23T11:55:38.459625Z"
    }
   },
   "outputs": [],
   "source": [
    "# separation des variables explicatives (features) et de la variable à prédire (target)\n",
    "data = df_wines.drop('class', axis=1)\n",
    "target = df_wines['class']"
   ]
  },
  {
   "cell_type": "code",
   "execution_count": null,
   "id": "1e55e897",
   "metadata": {},
   "outputs": [],
   "source": [
    "# séparation de données d'entrainement et données de test\n",
    "X_train, X_test, y_train, y_test = train_test_split(data, target, train_size=0.8, random_state=66)"
   ]
  },
  {
   "cell_type": "code",
   "execution_count": null,
   "id": "915a8b2b",
   "metadata": {},
   "outputs": [],
   "source": [
    "# preprocessing des variables explicatives d'entrainement et de test (encodage de discrétisation pour le machine learning)\n",
    "encoder = OneHotEncoder(handle_unknown='ignore')\n",
    "# NB : fit réinitialise l'encodeur avec les catégories et les statistiques des données d'entrainement\n",
    "# inutile de le refaire pour la partie donnée de test\n",
    "X_train_enc = encoder.fit_transform(X_train)\n",
    "X_test_enc = encoder.transform(X_test)"
   ]
  },
  {
   "cell_type": "code",
   "execution_count": null,
   "id": "6e5f7bb7",
   "metadata": {},
   "outputs": [],
   "source": [
    "# Application du modèle de type logistic regression\n",
    "logReg = linear_model.LogisticRegression(C=1.0)\n",
    "logReg.fit(X_train_enc, y_train.to_numpy().ravel())"
   ]
  },
  {
   "cell_type": "code",
   "execution_count": null,
   "id": "ac3f931a",
   "metadata": {},
   "outputs": [],
   "source": [
    "# aplication du modèle aux données de test\n",
    "y_pred = logReg.predict(X_test_enc)\n",
    "y_probs = logReg.predict_proba(X_test_enc)\n",
    "print(y_probs)\n",
    "y_pred_prob = np.where(\n",
    "    (y_probs[:, 2] >= y_probs[:, 0]) & (y_probs[:, 2] >= y_probs[:, 1]),1,0)\n",
    "y_pred_prob_strict = np.where(\n",
    "    (y_probs[:, 2] > y_probs[:, 0]) & (y_probs[:, 2] > y_probs[:, 1]),1,0)\n",
    "print(\"Comparaison avec des seuils strict ou non\\n\",y_pred_prob,\"\\n\",y_pred_prob_strict)"
   ]
  },
  {
   "cell_type": "code",
   "execution_count": null,
   "id": "d7ad10ec",
   "metadata": {},
   "outputs": [],
   "source": [
    "# évaluation du score du modèle par matrice de confusion\n",
    "cm = confusion_matrix(y_test,y_pred)\n",
    "print(cm)\n",
    "df_cm = pd.crosstab(y_test.to_numpy().ravel(), y_pred, rownames=['real'], colnames=['predicted'])\n",
    "display(df_cm)\n",
    "score = (cm[0,0]+cm[1,1]+cm[2,2])/cm.sum()\n",
    "print(\"Score manuel:\",score)\n",
    "print(\"Score du classifier:\", logReg.score(X_test_enc, y_test))\n",
    "print(\"Rapport de classification complet:\\n\", classification_report(y_test, y_pred))"
   ]
  },
  {
   "cell_type": "code",
   "execution_count": null,
   "id": "1113e0bf",
   "metadata": {},
   "outputs": [],
   "source": [
    "# vérification de l'AUC et visualisation avec la courbe ROC (pour Receiver Operating Characteristic)\n",
    "fpr1, tpr1, seuils1 = roc_curve(y_test, y_probs[:,0], pos_label=1)\n",
    "fpr2, tpr2, seuils2 = roc_curve(y_test, y_probs[:,1], pos_label=2)\n",
    "fpr3, tpr3, seuils3 = roc_curve(y_test, y_probs[:,2], pos_label=3)\n",
    "roc_auc1 = auc(fpr1, tpr1)\n",
    "roc_auc2 = auc(fpr2, tpr2)\n",
    "roc_auc3 = auc(fpr3, tpr3)\n",
    "\n",
    "# Affichage des courbes ROC avec AUC\n",
    "fig = go.Figure()\n",
    "fig.add_trace(go.Scatter(x=[0, 1], y=[0, 1], mode='lines', line=dict(dash='dash'), name=\"AUC aléatoire=0.5\"))\n",
    "fig.add_trace(go.Scatter(x=fpr1, y=tpr1, mode='lines', name=f\"AUC classe 1={round(roc_auc1,2)}\"))\n",
    "fig.add_trace(go.Scatter(x=fpr2, y=tpr2, mode='lines', name=f\"AUC classe 2={round(roc_auc2,2)}\"))\n",
    "fig.add_trace(go.Scatter(x=fpr3, y=tpr3, mode='lines', name=f\"AUC classe 3={round(roc_auc3,2)}\"))\n",
    "fig.update_layout(\n",
    "    title='Courbe ROC', \n",
    "    xaxis_title='Taux faux positifs', \n",
    "    yaxis_title='Taux vrais positifs',\n",
    "    legend_title=\"Classes\",\n",
    "    width=800,\n",
    "    height=600,\n",
    ")\n",
    "fig.show()"
   ]
  },
  {
   "cell_type": "code",
   "execution_count": null,
   "id": "8d774d85",
   "metadata": {},
   "outputs": [],
   "source": [
    "# y_pred : vraies classes, par exemple [1, 2, 3, 1, 3]\n",
    "# y_probs : probabilités prédites, de forme (n_samples, n_classes)\n",
    "n_classes = 3\n",
    "y_pred_bin = label_binarize(y_test, classes=[1, 2, 3])  # one-hot\n",
    "fpr = {}\n",
    "tpr = {}\n",
    "roc_auc = {}\n",
    "\n",
    "for i in range(n_classes):\n",
    "    fpr[i], tpr[i], _ = roc_curve(y_pred_bin[:, i], y_probs[:, i])\n",
    "    roc_auc[i] = auc(fpr[i], tpr[i])\n",
    "\n",
    "# Optionnel : macro-average\n",
    "all_fpr = np.unique(np.concatenate([fpr[i] for i in range(n_classes)]))\n",
    "mean_tpr = np.zeros_like(all_fpr)\n",
    "for i in range(n_classes):\n",
    "    mean_tpr += np.interp(all_fpr, fpr[i], tpr[i])\n",
    "mean_tpr /= n_classes\n",
    "macro_auc = auc(all_fpr, mean_tpr)\n",
    "\n",
    "# Tracer\n",
    "fig = go.Figure()\n",
    "# Ajout de la diagonale (chance)\n",
    "fig.add_trace(go.Scatter(\n",
    "    x=[0, 1],\n",
    "    y=[0, 1],\n",
    "    mode='lines',\n",
    "    name='Aléatoire',\n",
    "    line=dict(dash='dash')\n",
    "))\n",
    "# Ajout des courbes ROC et AUC\n",
    "for i in range(n_classes):\n",
    "    fig.add_trace(go.Scatter(\n",
    "        x=fpr[i],\n",
    "        y=tpr[i],\n",
    "        mode='lines',\n",
    "        name=f\"Classe {i} (AUC = {roc_auc[i]:.2f})\"\n",
    "    ))\n",
    "# Mise en forme\n",
    "fig.update_layout(\n",
    "    title=\"Courbes ROC multi-classes (One-vs-Rest)\",\n",
    "    xaxis_title=\"Taux de faux positifs\",\n",
    "    yaxis_title=\"Taux de vrais positifs\",\n",
    "    legend_title=\"Classes\",\n",
    "    width=800,\n",
    "    height=600\n",
    ")\n",
    "fig.show()"
   ]
  }
 ],
 "metadata": {
  "kernelspec": {
   "display_name": "Python 3",
   "language": "python",
   "name": "python3"
  },
  "language_info": {
   "codemirror_mode": {
    "name": "ipython",
    "version": 3
   },
   "file_extension": ".py",
   "mimetype": "text/x-python",
   "name": "python",
   "nbconvert_exporter": "python",
   "pygments_lexer": "ipython3",
   "version": "3.12.9"
  }
 },
 "nbformat": 4,
 "nbformat_minor": 5
}
