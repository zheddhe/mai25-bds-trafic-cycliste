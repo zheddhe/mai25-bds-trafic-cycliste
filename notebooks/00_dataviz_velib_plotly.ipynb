{
 "cells": [
  {
   "cell_type": "markdown",
   "id": "d73fb7a13ed0fb62",
   "metadata": {},
   "source": [
    "# 1. Initializations"
   ]
  },
  {
   "cell_type": "markdown",
   "id": "3c542ef7e7fc530b",
   "metadata": {},
   "source": [
    "## 1.1 General imports"
   ]
  },
  {
   "cell_type": "code",
   "execution_count": null,
   "id": "92d21014e831ae4d",
   "metadata": {
    "ExecuteTime": {
     "end_time": "2025-05-23T12:10:30.601532Z",
     "start_time": "2025-05-23T12:10:30.598509Z"
    }
   },
   "outputs": [],
   "source": [
    "### data management\n",
    "import pandas as pd\n",
    "import numpy as np\n",
    "# import statsmodels.api as sm\n",
    "\n",
    "### graphical plotly basics\n",
    "import plotly.graph_objects as go\n",
    "import plotly.express as px\n",
    "# for jupyter notebook display management\n",
    "import plotly.io as pio\n",
    "pio.renderers.default = \"notebook\""
   ]
  },
  {
   "cell_type": "markdown",
   "id": "3e380e5d201d38b7",
   "metadata": {},
   "source": [
    "## 1.2 General dataframe functions"
   ]
  },
  {
   "cell_type": "code",
   "execution_count": null,
   "id": "2281542f",
   "metadata": {},
   "outputs": [],
   "source": [
    "import smartcheck.dataframe_common as dfc"
   ]
  },
  {
   "cell_type": "markdown",
   "id": "2796587189d32955",
   "metadata": {},
   "source": [
    "# 2. Loading and Data Quality"
   ]
  },
  {
   "cell_type": "markdown",
   "id": "1bf3cc3451038dac",
   "metadata": {},
   "source": [
    "## 2.1 Loading of data sets and general exploration"
   ]
  },
  {
   "cell_type": "markdown",
   "id": "28dea908",
   "metadata": {},
   "source": [
    "### 2.2.1 VELIB DISPO"
   ]
  },
  {
   "cell_type": "code",
   "execution_count": null,
   "id": "23aca70ecd678b88",
   "metadata": {
    "ExecuteTime": {
     "end_time": "2025-05-23T12:10:34.515566Z",
     "start_time": "2025-05-23T12:10:31.485324Z"
    }
   },
   "outputs": [],
   "source": [
    "df_disp_velib_raw = dfc.load_dataset_from_config('velib_dispo_data', sep=';')\n",
    "\n",
    "if df_disp_velib_raw is not None and isinstance(df_disp_velib_raw, pd.DataFrame):\n",
    "    display(df_disp_velib_raw.head())\n",
    "    dfc.log_general_info(df_disp_velib_raw)\n",
    "    nb_first, nb_total = dfc.detect_and_log_duplicates_and_missing(df_disp_velib_raw)\n",
    "    if nb_first != nb_total:\n",
    "        print(dfc.duplicates_index_map(df_disp_velib_raw))\n",
    "    df_disp_velib = dfc.normalize_column_names(df_disp_velib_raw)\n",
    "    display(df_disp_velib.head())"
   ]
  },
  {
   "cell_type": "code",
   "execution_count": null,
   "id": "74de03f1",
   "metadata": {},
   "outputs": [],
   "source": [
    "df_cpt_velib_desc = df_disp_velib.select_dtypes(include=np.number).describe()\n",
    "display(df_cpt_velib_desc)\n",
    "df_cpt_velib_cr = df_disp_velib.select_dtypes(include=np.number).corr()\n",
    "display(df_cpt_velib_cr)"
   ]
  },
  {
   "cell_type": "markdown",
   "id": "67fba3bb",
   "metadata": {},
   "source": [
    "### 2.2.2 VELIB COMPTAGE"
   ]
  },
  {
   "cell_type": "code",
   "execution_count": null,
   "id": "91ac0c3e49787469",
   "metadata": {
    "ExecuteTime": {
     "end_time": "2025-05-23T12:11:24.464428Z",
     "start_time": "2025-05-23T12:10:34.611349Z"
    }
   },
   "outputs": [],
   "source": [
    "df_cpt_velib_raw = dfc.load_dataset_from_config('velib_comptage_data', sep=';')\n",
    "\n",
    "if df_cpt_velib_raw is not None and isinstance(df_cpt_velib_raw, pd.DataFrame):\n",
    "    display(df_cpt_velib_raw.head())\n",
    "    dfc.log_general_info(df_cpt_velib_raw)\n",
    "    nb_first, nb_total = dfc.detect_and_log_duplicates_and_missing(df_cpt_velib_raw)\n",
    "    if nb_first != nb_total:\n",
    "        print(dfc.duplicates_index_map(df_cpt_velib_raw))\n",
    "    df_cpt_velib = dfc.normalize_column_names(df_cpt_velib_raw)\n",
    "    display(df_cpt_velib.head())"
   ]
  },
  {
   "cell_type": "code",
   "execution_count": null,
   "id": "bec5a630",
   "metadata": {},
   "outputs": [],
   "source": [
    "df_cpt_velib_desc = df_disp_velib.select_dtypes(include=np.number).describe()\n",
    "display(df_cpt_velib_desc)\n",
    "df_cpt_velib_cr = df_disp_velib.select_dtypes(include=np.number).corr()\n",
    "display(df_cpt_velib_cr)"
   ]
  },
  {
   "cell_type": "markdown",
   "id": "42a26968",
   "metadata": {},
   "source": [
    "## 2.2 Data quality refinement"
   ]
  },
  {
   "cell_type": "code",
   "execution_count": null,
   "id": "e02ec553",
   "metadata": {},
   "outputs": [],
   "source": [
    "# original backup and duplicates management\n",
    "df_disp_velib_orig = df_disp_velib.copy()\n",
    "df_disp_velib = df_disp_velib.drop_duplicates()\n",
    "df_cpt_velib_orig = df_cpt_velib.copy()\n",
    "df_cpt_velib = df_cpt_velib.drop_duplicates()"
   ]
  },
  {
   "cell_type": "markdown",
   "id": "4bf8591e",
   "metadata": {},
   "source": [
    "## 2.3 Data combination and rework"
   ]
  },
  {
   "cell_type": "markdown",
   "id": "9a44e0f9",
   "metadata": {},
   "source": [
    "# 2. Data Viz' and Analysis"
   ]
  },
  {
   "cell_type": "markdown",
   "id": "7f5a9476",
   "metadata": {},
   "source": [
    "## 2.1 General Data Viz'"
   ]
  },
  {
   "cell_type": "code",
   "execution_count": null,
   "id": "d6035ef2",
   "metadata": {},
   "outputs": [],
   "source": []
  },
  {
   "cell_type": "markdown",
   "id": "ba447f0a",
   "metadata": {},
   "source": [
    "## 2.2 Quantitative mono variable distribution"
   ]
  },
  {
   "cell_type": "code",
   "execution_count": null,
   "id": "8ba9c226",
   "metadata": {},
   "outputs": [],
   "source": []
  },
  {
   "cell_type": "markdown",
   "id": "e229c390",
   "metadata": {},
   "source": [
    "## 2.3 Qualitative mono variable distribution"
   ]
  },
  {
   "cell_type": "code",
   "execution_count": null,
   "id": "6a072e94",
   "metadata": {},
   "outputs": [],
   "source": []
  },
  {
   "cell_type": "markdown",
   "id": "1fb35015",
   "metadata": {},
   "source": [
    "## 2.4 Qualitative multi variable distribution"
   ]
  },
  {
   "cell_type": "code",
   "execution_count": null,
   "id": "3702e1dd",
   "metadata": {},
   "outputs": [],
   "source": []
  },
  {
   "cell_type": "markdown",
   "id": "ecb51d68",
   "metadata": {},
   "source": [
    "## 2.5 Quantitative multi variable correlation"
   ]
  },
  {
   "cell_type": "code",
   "execution_count": null,
   "id": "652dbafb",
   "metadata": {},
   "outputs": [],
   "source": []
  }
 ],
 "metadata": {
  "kernelspec": {
   "display_name": "Python 3",
   "language": "python",
   "name": "python3"
  },
  "language_info": {
   "codemirror_mode": {
    "name": "ipython",
    "version": 3
   },
   "file_extension": ".py",
   "mimetype": "text/x-python",
   "name": "python",
   "nbconvert_exporter": "python",
   "pygments_lexer": "ipython3",
   "version": "3.12.9"
  }
 },
 "nbformat": 4,
 "nbformat_minor": 5
}
